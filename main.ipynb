{
 "cells": [
  {
   "cell_type": "code",
   "execution_count": 1,
   "metadata": {},
   "outputs": [],
   "source": [
    "import pandas as pd\n",
    "import matplotlib.pyplot as plt\n",
    "\n",
    "%matplotlib inline"
   ]
  },
  {
   "cell_type": "markdown",
   "metadata": {},
   "source": [
    "# Подготовка данных"
   ]
  },
  {
   "cell_type": "markdown",
   "metadata": {},
   "source": [
    "## Загрузка таблицы\n",
    "Таблица лежит в папка data в формате .data (при открытии можете убедиться, что это просто csv таблица без заголовка, поэтому в ручную указываем название столбцов)\n",
    "Orignal data: https://archive.ics.uci.edu/dataset/1/abalone \\\n",
    "Целевой столбец - Rings"
   ]
  },
  {
   "cell_type": "code",
   "execution_count": 2,
   "metadata": {},
   "outputs": [
    {
     "data": {
      "text/html": [
       "<div>\n",
       "<style scoped>\n",
       "    .dataframe tbody tr th:only-of-type {\n",
       "        vertical-align: middle;\n",
       "    }\n",
       "\n",
       "    .dataframe tbody tr th {\n",
       "        vertical-align: top;\n",
       "    }\n",
       "\n",
       "    .dataframe thead th {\n",
       "        text-align: right;\n",
       "    }\n",
       "</style>\n",
       "<table border=\"1\" class=\"dataframe\">\n",
       "  <thead>\n",
       "    <tr style=\"text-align: right;\">\n",
       "      <th></th>\n",
       "      <th>Sex</th>\n",
       "      <th>Length</th>\n",
       "      <th>Diameter</th>\n",
       "      <th>Height</th>\n",
       "      <th>Whole_weight</th>\n",
       "      <th>Shucked_weight</th>\n",
       "      <th>Viscera_weight</th>\n",
       "      <th>Shell_weight</th>\n",
       "      <th>Rings</th>\n",
       "    </tr>\n",
       "  </thead>\n",
       "  <tbody>\n",
       "    <tr>\n",
       "      <th>0</th>\n",
       "      <td>M</td>\n",
       "      <td>0.455</td>\n",
       "      <td>0.365</td>\n",
       "      <td>0.095</td>\n",
       "      <td>0.5140</td>\n",
       "      <td>0.2245</td>\n",
       "      <td>0.1010</td>\n",
       "      <td>0.150</td>\n",
       "      <td>15</td>\n",
       "    </tr>\n",
       "    <tr>\n",
       "      <th>1</th>\n",
       "      <td>M</td>\n",
       "      <td>0.350</td>\n",
       "      <td>0.265</td>\n",
       "      <td>0.090</td>\n",
       "      <td>0.2255</td>\n",
       "      <td>0.0995</td>\n",
       "      <td>0.0485</td>\n",
       "      <td>0.070</td>\n",
       "      <td>7</td>\n",
       "    </tr>\n",
       "    <tr>\n",
       "      <th>2</th>\n",
       "      <td>F</td>\n",
       "      <td>0.530</td>\n",
       "      <td>0.420</td>\n",
       "      <td>0.135</td>\n",
       "      <td>0.6770</td>\n",
       "      <td>0.2565</td>\n",
       "      <td>0.1415</td>\n",
       "      <td>0.210</td>\n",
       "      <td>9</td>\n",
       "    </tr>\n",
       "    <tr>\n",
       "      <th>3</th>\n",
       "      <td>M</td>\n",
       "      <td>0.440</td>\n",
       "      <td>0.365</td>\n",
       "      <td>0.125</td>\n",
       "      <td>0.5160</td>\n",
       "      <td>0.2155</td>\n",
       "      <td>0.1140</td>\n",
       "      <td>0.155</td>\n",
       "      <td>10</td>\n",
       "    </tr>\n",
       "    <tr>\n",
       "      <th>4</th>\n",
       "      <td>I</td>\n",
       "      <td>0.330</td>\n",
       "      <td>0.255</td>\n",
       "      <td>0.080</td>\n",
       "      <td>0.2050</td>\n",
       "      <td>0.0895</td>\n",
       "      <td>0.0395</td>\n",
       "      <td>0.055</td>\n",
       "      <td>7</td>\n",
       "    </tr>\n",
       "  </tbody>\n",
       "</table>\n",
       "</div>"
      ],
      "text/plain": [
       "  Sex  Length  Diameter  Height  Whole_weight  Shucked_weight  Viscera_weight  \\\n",
       "0   M   0.455     0.365   0.095        0.5140          0.2245          0.1010   \n",
       "1   M   0.350     0.265   0.090        0.2255          0.0995          0.0485   \n",
       "2   F   0.530     0.420   0.135        0.6770          0.2565          0.1415   \n",
       "3   M   0.440     0.365   0.125        0.5160          0.2155          0.1140   \n",
       "4   I   0.330     0.255   0.080        0.2050          0.0895          0.0395   \n",
       "\n",
       "   Shell_weight  Rings  \n",
       "0         0.150     15  \n",
       "1         0.070      7  \n",
       "2         0.210      9  \n",
       "3         0.155     10  \n",
       "4         0.055      7  "
      ]
     },
     "execution_count": 2,
     "metadata": {},
     "output_type": "execute_result"
    }
   ],
   "source": [
    "cols = [\"Sex\", \"Length\", \"Diameter\",\n",
    "        \"Height\", \"Whole_weight\",\n",
    "        \"Shucked_weight\", \"Viscera_weight\",\n",
    "        \"Shell_weight\", \"Rings\"]\n",
    "dataframe = pd.read_table(\"data/abalone.data\", sep=\",\", names=cols)\n",
    "dataframe.head(5)"
   ]
  },
  {
   "cell_type": "markdown",
   "metadata": {},
   "source": [
    "### Столбцы\n",
    "Извлекаем название стоблцов и группируем их по типам для дальнейшего анализа"
   ]
  },
  {
   "cell_type": "code",
   "execution_count": 3,
   "metadata": {},
   "outputs": [
    {
     "data": {
      "text/plain": [
       "('Rings',\n",
       " ['Length',\n",
       "  'Diameter',\n",
       "  'Height',\n",
       "  'Whole_weight',\n",
       "  'Shucked_weight',\n",
       "  'Viscera_weight',\n",
       "  'Shell_weight'],\n",
       " 'Sex')"
      ]
     },
     "execution_count": 3,
     "metadata": {},
     "output_type": "execute_result"
    }
   ],
   "source": [
    "int_col = dataframe.select_dtypes(int).columns.to_list()[0]\n",
    "float_cols = dataframe.select_dtypes(float).columns.to_list()\n",
    "cat_col = dataframe.select_dtypes(object).columns.to_list()[0]\n",
    "int_col, float_cols, cat_col"
   ]
  },
  {
   "cell_type": "markdown",
   "metadata": {},
   "source": [
    "#### Категориальные данные\n",
    "У нас получился один категориальный столбец - Sex. Посмотрим его содержимое с помощью pie диаграммы."
   ]
  },
  {
   "cell_type": "code",
   "execution_count": 4,
   "metadata": {},
   "outputs": [
    {
     "data": {
      "text/plain": [
       "([<matplotlib.patches.Wedge at 0x11ec40510>,\n",
       "  <matplotlib.patches.Wedge at 0x11f09b6d0>,\n",
       "  <matplotlib.patches.Wedge at 0x11f0a8950>],\n",
       " [Text(0.45010440780275796, 1.0036961801643607, 'M'),\n",
       "  Text(-1.0848393519507589, -0.18199884741134378, 'F'),\n",
       "  Text(0.6099659291018239, -0.9153914820091725, 'I')])"
      ]
     },
     "execution_count": 4,
     "metadata": {},
     "output_type": "execute_result"
    },
    {
     "data": {
      "image/png": "[encoded data removed]",
      "text/plain": [
       "<Figure size 640x480 with 1 Axes>"
      ]
     },
     "metadata": {},
     "output_type": "display_data"
    }
   ],
   "source": [
    "plt.pie(x=dataframe[cat_col].value_counts().to_numpy(), labels=dataframe[cat_col].unique())"
   ]
  },
  {
   "cell_type": "markdown",
   "metadata": {},
   "source": [
    "Категорий примерно одинаковое количество, что хорошо для обучения моделей"
   ]
  },
  {
   "cell_type": "markdown",
   "metadata": {},
   "source": [
    "#### Целочисленные данные\n",
    "Целочисленных тоже один столбец, это целевой столбец - Rings. Изобразим значения этого столбца на столбчатой диаграмме."
   ]
  },
  {
   "cell_type": "code",
   "execution_count": 5,
   "metadata": {},
   "outputs": [
    {
     "data": {
      "text/plain": [
       "(array([  17.,  431., 1648., 1388.,  329.,  228.,  100.,   29.,    4.,\n",
       "           3.]),\n",
       " array([ 1. ,  3.8,  6.6,  9.4, 12.2, 15. , 17.8, 20.6, 23.4, 26.2, 29. ]),\n",
       " <BarContainer object of 10 artists>)"
      ]
     },
     "execution_count": 5,
     "metadata": {},
     "output_type": "execute_result"
    },
    {
     "data": {
      "image/png": "[encoded data removed]",
      "text/plain": [
       "<Figure size 640x480 with 1 Axes>"
      ]
     },
     "metadata": {},
     "output_type": "display_data"
    }
   ],
   "source": [
    "plt.hist(x=dataframe[int_col].to_numpy())"
   ]
  },
  {
   "cell_type": "markdown",
   "metadata": {},
   "source": [
    "Как видим - у Rings есть некоторые шумы, такие как значения 25-30 и значения близкие к 0, но в целом распределение неплохое"
   ]
  },
  {
   "cell_type": "markdown",
   "metadata": {},
   "source": [
    "#### Вещественные значения\n",
    "Для вещественных значений нарисуем график \"ящик с усиками\". https://wiki.loginom.ru/articles/box-plot.html"
   ]
  },
  {
   "cell_type": "code",
   "execution_count": 6,
   "metadata": {},
   "outputs": [
    {
     "data": {
      "image/png": "[encoded data removed]",
      "text/plain": [
       "<Figure size 1600x1000 with 9 Axes>"
      ]
     },
     "metadata": {},
     "output_type": "display_data"
    }
   ],
   "source": [
    "fig, axes = plt.subplots(nrows=3, ncols=3, figsize=(16,10))\n",
    "\n",
    "count = 0\n",
    "for i in range(3):\n",
    "    for j in range(3):\n",
    "        if count == len(float_cols):\n",
    "            break\n",
    "        \n",
    "        col = float_cols[count]\n",
    "        axes[i, j].boxplot(dataframe[col].to_numpy())\n",
    "        axes[i, j].set_title(col)\n",
    "        axes[i, j].grid()\n",
    "        count += 1"
   ]
  },
  {
   "cell_type": "markdown",
   "metadata": {},
   "source": [
    "На графиках видно, что у данных немало выбросов, но с этим мало что можно сделать, только если удалить данные с выбросами или заменить их на медианные значения, но это может повлиять на качество модели, поэтому лучше выбрать модели устойчивые к выбросам данных."
   ]
  },
  {
   "cell_type": "markdown",
   "metadata": {},
   "source": [
    "#### Кодируем категориальные признаки\n",
    "Категориальный признак всего один, поэтому достаточно LabelEncoder, который вместо категорий подставляет целые числа."
   ]
  },
  {
   "cell_type": "code",
   "execution_count": 7,
   "metadata": {},
   "outputs": [
    {
     "data": {
      "text/html": [
       "<div>\n",
       "<style scoped>\n",
       "    .dataframe tbody tr th:only-of-type {\n",
       "        vertical-align: middle;\n",
       "    }\n",
       "\n",
       "    .dataframe tbody tr th {\n",
       "        vertical-align: top;\n",
       "    }\n",
       "\n",
       "    .dataframe thead th {\n",
       "        text-align: right;\n",
       "    }\n",
       "</style>\n",
       "<table border=\"1\" class=\"dataframe\">\n",
       "  <thead>\n",
       "    <tr style=\"text-align: right;\">\n",
       "      <th></th>\n",
       "      <th>Sex</th>\n",
       "      <th>Length</th>\n",
       "      <th>Diameter</th>\n",
       "      <th>Height</th>\n",
       "      <th>Whole_weight</th>\n",
       "      <th>Shucked_weight</th>\n",
       "      <th>Viscera_weight</th>\n",
       "      <th>Shell_weight</th>\n",
       "      <th>Rings</th>\n",
       "    </tr>\n",
       "  </thead>\n",
       "  <tbody>\n",
       "    <tr>\n",
       "      <th>0</th>\n",
       "      <td>2</td>\n",
       "      <td>0.455</td>\n",
       "      <td>0.365</td>\n",
       "      <td>0.095</td>\n",
       "      <td>0.5140</td>\n",
       "      <td>0.2245</td>\n",
       "      <td>0.1010</td>\n",
       "      <td>0.150</td>\n",
       "      <td>15</td>\n",
       "    </tr>\n",
       "    <tr>\n",
       "      <th>1</th>\n",
       "      <td>2</td>\n",
       "      <td>0.350</td>\n",
       "      <td>0.265</td>\n",
       "      <td>0.090</td>\n",
       "      <td>0.2255</td>\n",
       "      <td>0.0995</td>\n",
       "      <td>0.0485</td>\n",
       "      <td>0.070</td>\n",
       "      <td>7</td>\n",
       "    </tr>\n",
       "    <tr>\n",
       "      <th>2</th>\n",
       "      <td>0</td>\n",
       "      <td>0.530</td>\n",
       "      <td>0.420</td>\n",
       "      <td>0.135</td>\n",
       "      <td>0.6770</td>\n",
       "      <td>0.2565</td>\n",
       "      <td>0.1415</td>\n",
       "      <td>0.210</td>\n",
       "      <td>9</td>\n",
       "    </tr>\n",
       "    <tr>\n",
       "      <th>3</th>\n",
       "      <td>2</td>\n",
       "      <td>0.440</td>\n",
       "      <td>0.365</td>\n",
       "      <td>0.125</td>\n",
       "      <td>0.5160</td>\n",
       "      <td>0.2155</td>\n",
       "      <td>0.1140</td>\n",
       "      <td>0.155</td>\n",
       "      <td>10</td>\n",
       "    </tr>\n",
       "    <tr>\n",
       "      <th>4</th>\n",
       "      <td>1</td>\n",
       "      <td>0.330</td>\n",
       "      <td>0.255</td>\n",
       "      <td>0.080</td>\n",
       "      <td>0.2050</td>\n",
       "      <td>0.0895</td>\n",
       "      <td>0.0395</td>\n",
       "      <td>0.055</td>\n",
       "      <td>7</td>\n",
       "    </tr>\n",
       "  </tbody>\n",
       "</table>\n",
       "</div>"
      ],
      "text/plain": [
       "   Sex  Length  Diameter  Height  Whole_weight  Shucked_weight  \\\n",
       "0    2   0.455     0.365   0.095        0.5140          0.2245   \n",
       "1    2   0.350     0.265   0.090        0.2255          0.0995   \n",
       "2    0   0.530     0.420   0.135        0.6770          0.2565   \n",
       "3    2   0.440     0.365   0.125        0.5160          0.2155   \n",
       "4    1   0.330     0.255   0.080        0.2050          0.0895   \n",
       "\n",
       "   Viscera_weight  Shell_weight  Rings  \n",
       "0          0.1010         0.150     15  \n",
       "1          0.0485         0.070      7  \n",
       "2          0.1415         0.210      9  \n",
       "3          0.1140         0.155     10  \n",
       "4          0.0395         0.055      7  "
      ]
     },
     "execution_count": 7,
     "metadata": {},
     "output_type": "execute_result"
    }
   ],
   "source": [
    "from sklearn.preprocessing import LabelEncoder\n",
    "\n",
    "\n",
    "cat_encoder = LabelEncoder()\n",
    "cat_encoder.fit(dataframe[cat_col])\n",
    "dataframe[cat_col] = cat_encoder.transform(dataframe[cat_col])\n",
    "dataframe.head(5)"
   ]
  },
  {
   "cell_type": "markdown",
   "metadata": {},
   "source": [
    "### Корреляция данных\n",
    "Изучем корреляцию данных для линейных зависимостей"
   ]
  },
  {
   "cell_type": "code",
   "execution_count": 8,
   "metadata": {},
   "outputs": [
    {
     "data": {
      "text/plain": [
       "<matplotlib.image.AxesImage at 0x158b28410>"
      ]
     },
     "execution_count": 8,
     "metadata": {},
     "output_type": "execute_result"
    },
    {
     "data": {
      "image/png": "[encoded data removed]",
      "text/plain": [
       "<Figure size 640x480 with 1 Axes>"
      ]
     },
     "metadata": {},
     "output_type": "display_data"
    }
   ],
   "source": [
    "plt.imshow(dataframe.corr())"
   ]
  },
  {
   "cell_type": "markdown",
   "metadata": {},
   "source": [
    "Как видим последний столбец не очень хорошо коррелирует со всеми остальными, значит линейные модели буду показывать небольшую точность"
   ]
  },
  {
   "cell_type": "markdown",
   "metadata": {},
   "source": [
    "## Нормализуем данные\n",
    "Нормализуем данные и извлечем X и y в numpy массивы"
   ]
  },
  {
   "cell_type": "code",
   "execution_count": 74,
   "metadata": {},
   "outputs": [
    {
     "name": "stderr",
     "output_type": "stream",
     "text": [
      "/Users/danila/Documents/Python Projects/Kaggle/.venv/lib/python3.11/site-packages/sklearn/base.py:486: UserWarning: X has feature names, but StandardScaler was fitted without feature names\n",
      "  warnings.warn(\n"
     ]
    },
    {
     "data": {
      "text/plain": [
       "((4177, 8), (4177,))"
      ]
     },
     "execution_count": 74,
     "metadata": {},
     "output_type": "execute_result"
    }
   ],
   "source": [
    "from sklearn.preprocessing import StandardScaler\n",
    "\n",
    "scaler = StandardScaler()\n",
    "scaler.fit(dataframe.to_numpy())\n",
    "data = scaler.transform(dataframe)\n",
    "X, y = data[:, :-1], data[:, -1]\n",
    "X.shape, y.shape"
   ]
  },
  {
   "cell_type": "markdown",
   "metadata": {},
   "source": [
    "# Выбор моделей"
   ]
  },
  {
   "cell_type": "markdown",
   "metadata": {},
   "source": [
    "## Кросс валидация\n",
    "Выберем модели на основе метрики R^2 с помощью cross_val_score \\\n",
    "Значения метрики лежат от 0 до 1 (самая точная модель), но могут получатся и отрицательные значения "
   ]
  },
  {
   "cell_type": "code",
   "execution_count": 75,
   "metadata": {},
   "outputs": [],
   "source": [
    "# создает из введенное с уже инициализированными параметрами\n",
    "from functools import partial\n",
    "from sklearn.metrics import r2_score, make_scorer\n",
    "from sklearn.model_selection import cross_val_score\n",
    "\n",
    "\n",
    "scorer = make_scorer(r2_score)\n",
    "validate = partial(cross_val_score, X=X, y=y, cv=5, n_jobs=-1, scoring=scorer)"
   ]
  },
  {
   "cell_type": "markdown",
   "metadata": {},
   "source": [
    "### Импортируем алгоритмы"
   ]
  },
  {
   "cell_type": "code",
   "execution_count": 76,
   "metadata": {},
   "outputs": [],
   "source": [
    "from sklearn.linear_model import LinearRegression, Ridge, Lasso, ElasticNet\n",
    "from sklearn.ensemble import RandomForestRegressor, GradientBoostingRegressor\n",
    "from sklearn.neighbors import KNeighborsRegressor\n",
    "from xgboost import XGBRegressor\n",
    "from sklearn.tree import DecisionTreeRegressor"
   ]
  },
  {
   "cell_type": "markdown",
   "metadata": {},
   "source": [
    "### Линейная регрессия"
   ]
  },
  {
   "cell_type": "code",
   "execution_count": 77,
   "metadata": {},
   "outputs": [
    {
     "data": {
      "text/plain": [
       "0.39803615577874024"
      ]
     },
     "execution_count": 77,
     "metadata": {},
     "output_type": "execute_result"
    }
   ],
   "source": [
    "validate(LinearRegression()).mean()"
   ]
  },
  {
   "cell_type": "markdown",
   "metadata": {},
   "source": [
    "### Линейная регрессия с L2 регуляризацией"
   ]
  },
  {
   "cell_type": "code",
   "execution_count": 78,
   "metadata": {},
   "outputs": [
    {
     "data": {
      "text/plain": [
       "0.39883812008570196"
      ]
     },
     "execution_count": 78,
     "metadata": {},
     "output_type": "execute_result"
    }
   ],
   "source": [
    "validate(Ridge()).mean()"
   ]
  },
  {
   "cell_type": "markdown",
   "metadata": {},
   "source": [
    "### Линейная регрессия с L1 регуляризацией"
   ]
  },
  {
   "cell_type": "code",
   "execution_count": 79,
   "metadata": {},
   "outputs": [
    {
     "data": {
      "text/plain": [
       "-0.2090330540722419"
      ]
     },
     "execution_count": 79,
     "metadata": {},
     "output_type": "execute_result"
    }
   ],
   "source": [
    "validate(Lasso()).mean()"
   ]
  },
  {
   "cell_type": "markdown",
   "metadata": {},
   "source": [
    "### Линейная регрессия с L1 и L2 регуляризациями"
   ]
  },
  {
   "cell_type": "code",
   "execution_count": 80,
   "metadata": {},
   "outputs": [
    {
     "data": {
      "text/plain": [
       "-0.076376059316807"
      ]
     },
     "execution_count": 80,
     "metadata": {},
     "output_type": "execute_result"
    }
   ],
   "source": [
    "validate(ElasticNet()).mean()"
   ]
  },
  {
   "cell_type": "markdown",
   "metadata": {},
   "source": [
    "### Случайный лес"
   ]
  },
  {
   "cell_type": "code",
   "execution_count": 81,
   "metadata": {},
   "outputs": [
    {
     "data": {
      "text/plain": [
       "0.4403316342374315"
      ]
     },
     "execution_count": 81,
     "metadata": {},
     "output_type": "execute_result"
    }
   ],
   "source": [
    "validate(RandomForestRegressor()).mean()"
   ]
  },
  {
   "cell_type": "markdown",
   "metadata": {},
   "source": [
    "### Градиентный бустинг"
   ]
  },
  {
   "cell_type": "code",
   "execution_count": 82,
   "metadata": {},
   "outputs": [
    {
     "data": {
      "text/plain": [
       "0.4632399016247442"
      ]
     },
     "execution_count": 82,
     "metadata": {},
     "output_type": "execute_result"
    }
   ],
   "source": [
    "validate(GradientBoostingRegressor()).mean()"
   ]
  },
  {
   "cell_type": "markdown",
   "metadata": {},
   "source": [
    "### XGBoosting"
   ]
  },
  {
   "cell_type": "code",
   "execution_count": 83,
   "metadata": {},
   "outputs": [
    {
     "data": {
      "text/plain": [
       "0.39163807497663533"
      ]
     },
     "execution_count": 83,
     "metadata": {},
     "output_type": "execute_result"
    }
   ],
   "source": [
    "validate(XGBRegressor()).mean()"
   ]
  },
  {
   "cell_type": "markdown",
   "metadata": {},
   "source": [
    "### К-ближайших соседей"
   ]
  },
  {
   "cell_type": "code",
   "execution_count": 84,
   "metadata": {},
   "outputs": [
    {
     "data": {
      "text/plain": [
       "0.4023810671413547"
      ]
     },
     "execution_count": 84,
     "metadata": {},
     "output_type": "execute_result"
    }
   ],
   "source": [
    "validate(KNeighborsRegressor()).mean()"
   ]
  },
  {
   "cell_type": "markdown",
   "metadata": {},
   "source": [
    "### Решающее дерево"
   ]
  },
  {
   "cell_type": "code",
   "execution_count": 85,
   "metadata": {},
   "outputs": [
    {
     "data": {
      "text/plain": [
       "-0.19038828536303773"
      ]
     },
     "execution_count": 85,
     "metadata": {},
     "output_type": "execute_result"
    }
   ],
   "source": [
    "validate(DecisionTreeRegressor()).mean()"
   ]
  },
  {
   "cell_type": "markdown",
   "metadata": {},
   "source": [
    "Самыми точными моделями получились - К-ближайших соседей, XGBoosting, Градиентный бустинг и Случайный лес \\\n",
    "Заметим, что 3 из 4 алгоритмов основаны на решающих деревьях, значит РД - это база!"
   ]
  },
  {
   "cell_type": "markdown",
   "metadata": {},
   "source": [
    "# Оптимизация гиперпараметров\n",
    "Найдем оптимальные гиперпараметры выбранных моделей \\\n",
    "Оптимизацию проведем с помощьюб библиотеки [__optuna__](https://optuna.org/)"
   ]
  },
  {
   "cell_type": "code",
   "execution_count": 94,
   "metadata": {},
   "outputs": [],
   "source": [
    "def xgb_objective(trial):\n",
    "    params = {\n",
    "        'booster': trial.suggest_categorical('booster', ['gbtree', 'gblinear', 'dart']),\n",
    "        'lambda': trial.suggest_float('lambda', 1e-8, 1.0, log=True),\n",
    "        'alpha': trial.suggest_float('alpha', 1e-8, 1.0, log=True),\n",
    "        'learning_rate': trial.suggest_float('learning_rate', 1e-4, 5e-1, log=True),\n",
    "        'n_estimators': trial.suggest_int('n_estimators', 10, 500, log=True)\n",
    "    }\n",
    "    regression_obj = XGBRegressor(**params)\n",
    "    \n",
    "    score = validate(regression_obj).mean()\n",
    "    return score\n",
    "\n",
    "\n",
    "def random_forest_objective(trial):\n",
    "    rf_max_depth = trial.suggest_int('max_depth', 2, 32, log=True)\n",
    "    rf_n_estimators = trial.suggest_int('n_estimators', 10, 500, step=20)\n",
    "    regression_obj = RandomForestRegressor(max_depth=rf_max_depth, n_estimators=rf_n_estimators)\n",
    "    \n",
    "    score = validate(regression_obj).mean()\n",
    "    return score\n",
    "\n",
    "\n",
    "def boosting_objective(trial):\n",
    "    bst_max_depth = trial.suggest_int('max_depth', 2, 32, log=True)\n",
    "    bst_lr = trial.suggest_float('learning_rate', 1e-4, 5e-1, log=True)\n",
    "    bst_min_samples_split = trial.suggest_int('min_samples_split', 2, 5, log=True)\n",
    "    bst_n_estimators = trial.suggest_int('n_estimators', 10, 500, log=True)\n",
    "    regression_obj = GradientBoostingRegressor(n_estimators=bst_n_estimators,\n",
    "                                               max_depth=bst_max_depth,\n",
    "                                               min_samples_split=bst_min_samples_split,\n",
    "                                               learning_rate=bst_lr)\n",
    "    \n",
    "    score = validate(regression_obj).mean()\n",
    "    return score\n",
    "\n",
    "\n",
    "def knn_objective(trial):\n",
    "    knn_n_neighbors = trial.suggest_int('n_neighbors', 2, 21, step=1, log=True)\n",
    "    knn_metric = trial.suggest_categorical('metric', ['manhattan', 'euclidean', 'minkowski'])\n",
    "    regression_obj = KNeighborsRegressor(n_neighbors=knn_n_neighbors,\n",
    "                                         metric=knn_metric)\n",
    "    \n",
    "    score = validate(regression_obj).mean()\n",
    "    return score\n",
    "\n",
    "\n",
    "objectives = [\n",
    "    ('xgb', xgb_objective),\n",
    "    ('rf', random_forest_objective),\n",
    "    ('boosting', boosting_objective),\n",
    "    ('knn', knn_objective)\n",
    "]"
   ]
  },
  {
   "cell_type": "markdown",
   "metadata": {},
   "source": [
    "## Создаем Study объекты для каждой модели\n",
    "Оптимизация занимает продолжительное время, у меня получилось около 15 минут"
   ]
  },
  {
   "cell_type": "code",
   "execution_count": 95,
   "metadata": {},
   "outputs": [
    {
     "name": "stderr",
     "output_type": "stream",
     "text": [
      "[I 2024-04-02 22:27:02,766] A new study created in memory with name: xgb\n",
      "[I 2024-04-02 22:27:03,639] Trial 0 finished with value: -0.19392226575003435 and parameters: {'booster': 'gbtree', 'lambda': 2.652007511464889e-06, 'alpha': 3.5722130450183105e-08, 'learning_rate': 0.000971459960116811, 'n_estimators': 12}. Best is trial 0 with value: -0.19392226575003435.\n",
      "[I 2024-04-02 22:27:04,076] Trial 1 finished with value: 0.22605753173154133 and parameters: {'booster': 'gblinear', 'lambda': 2.1541907755066514e-07, 'alpha': 0.003339999970093928, 'learning_rate': 0.0033006752385150682, 'n_estimators': 457}. Best is trial 1 with value: 0.22605753173154133.\n",
      "[I 2024-04-02 22:27:04,463] Trial 2 finished with value: -0.15913721579827605 and parameters: {'booster': 'gblinear', 'lambda': 0.000562135832577858, 'alpha': 1.3133523868799605e-07, 'learning_rate': 0.0004549933457214485, 'n_estimators': 22}. Best is trial 1 with value: 0.22605753173154133.\n",
      "[I 2024-04-02 22:27:04,879] Trial 3 finished with value: -0.14682129773990593 and parameters: {'booster': 'gbtree', 'lambda': 2.540398725225749e-07, 'alpha': 0.0006475365152928834, 'learning_rate': 0.0011816648982335633, 'n_estimators': 42}. Best is trial 1 with value: 0.22605753173154133.\n",
      "[I 2024-04-02 22:27:04,993] Trial 4 finished with value: -0.029335231992315358 and parameters: {'booster': 'gbtree', 'lambda': 0.21167920502009632, 'alpha': 5.858967021158662e-05, 'learning_rate': 0.0012765098602130689, 'n_estimators': 126}. Best is trial 1 with value: 0.22605753173154133.\n",
      "[I 2024-04-02 22:27:20,864] Trial 5 finished with value: -0.16223458188763976 and parameters: {'booster': 'dart', 'lambda': 0.0012358318728420722, 'alpha': 0.1605591134577237, 'learning_rate': 0.00011310212908742455, 'n_estimators': 327}. Best is trial 1 with value: 0.22605753173154133.\n",
      "[I 2024-04-02 22:27:20,915] Trial 6 finished with value: -0.20367817898969723 and parameters: {'booster': 'dart', 'lambda': 5.477550592142887e-08, 'alpha': 0.0038087842716832848, 'learning_rate': 0.00034162660059953575, 'n_estimators': 12}. Best is trial 1 with value: 0.22605753173154133.\n",
      "[I 2024-04-02 22:27:21,039] Trial 7 finished with value: 0.44266624576676106 and parameters: {'booster': 'dart', 'lambda': 3.4235067513257453e-07, 'alpha': 5.863291968937402e-07, 'learning_rate': 0.09195251542669802, 'n_estimators': 24}. Best is trial 7 with value: 0.44266624576676106.\n",
      "[I 2024-04-02 22:27:21,053] Trial 8 finished with value: -0.06582775444910585 and parameters: {'booster': 'gblinear', 'lambda': 2.1044499219076505e-07, 'alpha': 1.676915452867898e-08, 'learning_rate': 0.0025624469159275793, 'n_estimators': 13}. Best is trial 7 with value: 0.44266624576676106.\n",
      "[I 2024-04-02 22:27:21,106] Trial 9 finished with value: 0.18537871642284992 and parameters: {'booster': 'gblinear', 'lambda': 0.04147723904543225, 'alpha': 0.00038833634237989015, 'learning_rate': 0.003148413393994305, 'n_estimators': 189}. Best is trial 7 with value: 0.44266624576676106.\n",
      "[I 2024-04-02 22:27:21,539] Trial 10 finished with value: 0.44498891517768335 and parameters: {'booster': 'dart', 'lambda': 3.269227465575496e-06, 'alpha': 2.4909425104032635e-06, 'learning_rate': 0.11182180192129386, 'n_estimators': 50}. Best is trial 10 with value: 0.44498891517768335.\n",
      "[I 2024-04-02 22:27:21,938] Trial 11 finished with value: 0.4455812370738575 and parameters: {'booster': 'dart', 'lambda': 1.2932652316193543e-05, 'alpha': 1.2206896865631743e-06, 'learning_rate': 0.13062265076668264, 'n_estimators': 48}. Best is trial 11 with value: 0.4455812370738575.\n",
      "[I 2024-04-02 22:27:22,651] Trial 12 finished with value: 0.41155808971473007 and parameters: {'booster': 'dart', 'lambda': 1.9699361176040785e-05, 'alpha': 3.089455970351911e-06, 'learning_rate': 0.17849013317548, 'n_estimators': 66}. Best is trial 11 with value: 0.4455812370738575.\n",
      "[I 2024-04-02 22:27:23,222] Trial 13 finished with value: 0.44283650229460736 and parameters: {'booster': 'dart', 'lambda': 2.6960730453639045e-05, 'alpha': 7.461217810526294e-06, 'learning_rate': 0.033192670618900834, 'n_estimators': 57}. Best is trial 11 with value: 0.4455812370738575.\n",
      "[I 2024-04-02 22:27:25,017] Trial 14 finished with value: 0.29250985629425175 and parameters: {'booster': 'dart', 'lambda': 1.2316962451768075e-08, 'alpha': 1.0524783922004638e-05, 'learning_rate': 0.43652689284621626, 'n_estimators': 104}. Best is trial 11 with value: 0.4455812370738575.\n",
      "[I 2024-04-02 22:27:25,276] Trial 15 finished with value: 0.2648129356208155 and parameters: {'booster': 'dart', 'lambda': 4.90190946240833e-06, 'alpha': 1.0525668755597743e-06, 'learning_rate': 0.01877089841305799, 'n_estimators': 34}. Best is trial 11 with value: 0.4455812370738575.\n",
      "[I 2024-04-02 22:27:26,820] Trial 16 finished with value: 0.44117286660490607 and parameters: {'booster': 'dart', 'lambda': 0.00026617635129162743, 'alpha': 5.010697202479969e-05, 'learning_rate': 0.019523186437326066, 'n_estimators': 97}. Best is trial 11 with value: 0.4455812370738575.\n",
      "[I 2024-04-02 22:27:27,094] Trial 17 finished with value: 0.45262414629052594 and parameters: {'booster': 'dart', 'lambda': 0.005471216951949929, 'alpha': 2.2278708801241133e-07, 'learning_rate': 0.08657164407261221, 'n_estimators': 38}. Best is trial 17 with value: 0.45262414629052594.\n",
      "[I 2024-04-02 22:27:27,246] Trial 18 finished with value: 0.34160976491442413 and parameters: {'booster': 'dart', 'lambda': 0.005975001076195063, 'alpha': 2.3011679754957393e-07, 'learning_rate': 0.46404675830700065, 'n_estimators': 26}. Best is trial 17 with value: 0.45262414629052594.\n",
      "[I 2024-04-02 22:27:27,423] Trial 19 finished with value: 0.4333958055872652 and parameters: {'booster': 'gbtree', 'lambda': 0.005133398497832889, 'alpha': 1.1040261447240976e-07, 'learning_rate': 0.06302621918451438, 'n_estimators': 200}. Best is trial 17 with value: 0.45262414629052594.\n",
      "[I 2024-04-02 22:27:27,524] Trial 20 finished with value: 0.02084573284999598 and parameters: {'booster': 'dart', 'lambda': 0.2925621555863998, 'alpha': 1.549690494871971e-08, 'learning_rate': 0.011423973654845494, 'n_estimators': 19}. Best is trial 17 with value: 0.45262414629052594.\n",
      "[I 2024-04-02 22:27:27,886] Trial 21 finished with value: 0.43820280446474025 and parameters: {'booster': 'dart', 'lambda': 6.50401901688886e-05, 'alpha': 1.764732102142637e-06, 'learning_rate': 0.15781383962245593, 'n_estimators': 45}. Best is trial 17 with value: 0.45262414629052594.\n",
      "[I 2024-04-02 22:27:28,763] Trial 22 finished with value: 0.45596923736664746 and parameters: {'booster': 'dart', 'lambda': 2.701561473296527e-06, 'alpha': 1.6212845898105746e-05, 'learning_rate': 0.05310235995902486, 'n_estimators': 71}. Best is trial 22 with value: 0.45596923736664746.\n",
      "[I 2024-04-02 22:27:29,997] Trial 23 finished with value: 0.45481085638151253 and parameters: {'booster': 'dart', 'lambda': 8.86152813193838e-06, 'alpha': 1.2531654981876823e-05, 'learning_rate': 0.05609708483515092, 'n_estimators': 85}. Best is trial 22 with value: 0.45596923736664746.\n",
      "[I 2024-04-02 22:27:31,469] Trial 24 finished with value: 0.4533012805300266 and parameters: {'booster': 'dart', 'lambda': 0.029132038480222965, 'alpha': 1.922554128921418e-05, 'learning_rate': 0.05325683676068641, 'n_estimators': 93}. Best is trial 22 with value: 0.45596923736664746.\n",
      "[I 2024-04-02 22:27:35,120] Trial 25 finished with value: 0.4496897338219544 and parameters: {'booster': 'dart', 'lambda': 0.0001243516969435896, 'alpha': 1.6885850801970934e-05, 'learning_rate': 0.04507833849107673, 'n_estimators': 149}. Best is trial 22 with value: 0.45596923736664746.\n",
      "[I 2024-04-02 22:27:36,444] Trial 26 finished with value: 0.25410755297716936 and parameters: {'booster': 'dart', 'lambda': 9.485813333366776e-07, 'alpha': 0.00023260418906747118, 'learning_rate': 0.007219260983706569, 'n_estimators': 85}. Best is trial 22 with value: 0.45596923736664746.\n",
      "[I 2024-04-02 22:27:37,248] Trial 27 finished with value: 0.4163656674762063 and parameters: {'booster': 'dart', 'lambda': 0.022922005349960535, 'alpha': 0.0019734749672892155, 'learning_rate': 0.021716396021867833, 'n_estimators': 67}. Best is trial 22 with value: 0.45596923736664746.\n",
      "[I 2024-04-02 22:27:37,473] Trial 28 finished with value: 0.3516292736065507 and parameters: {'booster': 'gbtree', 'lambda': 1.2608022499848832e-06, 'alpha': 0.021039219348377027, 'learning_rate': 0.24950836982093313, 'n_estimators': 233}. Best is trial 22 with value: 0.45596923736664746.\n",
      "[I 2024-04-02 22:27:37,507] Trial 29 finished with value: 0.2809365028740241 and parameters: {'booster': 'gblinear', 'lambda': 7.318841091304414e-06, 'alpha': 3.267852917452031e-05, 'learning_rate': 0.03515222233626624, 'n_estimators': 86}. Best is trial 22 with value: 0.45596923736664746.\n",
      "[I 2024-04-02 22:27:37,647] Trial 30 finished with value: 0.32308290384769744 and parameters: {'booster': 'gbtree', 'lambda': 5.60637475219424e-05, 'alpha': 0.00013054117720687024, 'learning_rate': 0.006909291719267446, 'n_estimators': 120}. Best is trial 22 with value: 0.45596923736664746.\n",
      "[I 2024-04-02 22:27:37,915] Trial 31 finished with value: 0.44972882737853953 and parameters: {'booster': 'dart', 'lambda': 0.05941670972984152, 'alpha': 5.098200306502148e-06, 'learning_rate': 0.06705297515645658, 'n_estimators': 36}. Best is trial 22 with value: 0.45596923736664746.\n",
      "[I 2024-04-02 22:27:39,071] Trial 32 finished with value: 0.3919960985142572 and parameters: {'booster': 'dart', 'lambda': 0.8491529461063152, 'alpha': 2.1667418567246504e-05, 'learning_rate': 0.24188974910691027, 'n_estimators': 82}. Best is trial 22 with value: 0.45596923736664746.\n",
      "[I 2024-04-02 22:27:42,616] Trial 33 finished with value: 0.44365187902762615 and parameters: {'booster': 'dart', 'lambda': 0.004162323274373476, 'alpha': 5.285864726504235e-07, 'learning_rate': 0.06428840634516039, 'n_estimators': 145}. Best is trial 22 with value: 0.45596923736664746.\n",
      "[I 2024-04-02 22:27:42,652] Trial 34 finished with value: 0.1760521821033823 and parameters: {'booster': 'gblinear', 'lambda': 0.0010474715559280103, 'alpha': 2.0499002457012596e-07, 'learning_rate': 0.010605419253876432, 'n_estimators': 31}. Best is trial 22 with value: 0.45596923736664746.\n",
      "[I 2024-04-02 22:27:43,561] Trial 35 finished with value: 0.4458744003953087 and parameters: {'booster': 'dart', 'lambda': 0.012051263755985466, 'alpha': 0.001077943131472691, 'learning_rate': 0.030224710511338845, 'n_estimators': 66}. Best is trial 22 with value: 0.45596923736664746.\n",
      "[I 2024-04-02 22:27:43,667] Trial 36 finished with value: 0.41297721286824807 and parameters: {'booster': 'dart', 'lambda': 0.00033833781897459433, 'alpha': 3.969728337756324e-08, 'learning_rate': 0.07584942310550002, 'n_estimators': 18}. Best is trial 22 with value: 0.45596923736664746.\n",
      "[I 2024-04-02 22:27:44,068] Trial 37 finished with value: 0.4190600562650123 and parameters: {'booster': 'gbtree', 'lambda': 0.15158878477315477, 'alpha': 0.00012391125065112747, 'learning_rate': 0.04630901349564025, 'n_estimators': 442}. Best is trial 22 with value: 0.45596923736664746.\n",
      "[I 2024-04-02 22:27:44,712] Trial 38 finished with value: 0.40223305198409837 and parameters: {'booster': 'dart', 'lambda': 0.0017178476457288205, 'alpha': 0.6079466321304474, 'learning_rate': 0.24755926593659103, 'n_estimators': 58}. Best is trial 22 with value: 0.45596923736664746.\n",
      "[I 2024-04-02 22:27:44,769] Trial 39 finished with value: 0.23563133965906652 and parameters: {'booster': 'gblinear', 'lambda': 0.00017052718485610933, 'alpha': 0.006066342951737748, 'learning_rate': 0.016067673744810284, 'n_estimators': 111}. Best is trial 22 with value: 0.45596923736664746.\n",
      "[I 2024-04-02 22:27:45,120] Trial 40 finished with value: -0.0029088974031863833 and parameters: {'booster': 'dart', 'lambda': 1.731521366807426e-06, 'alpha': 8.634653487182403e-05, 'learning_rate': 0.004838589217393501, 'n_estimators': 39}. Best is trial 22 with value: 0.45596923736664746.\n",
      "[I 2024-04-02 22:27:45,362] Trial 41 finished with value: 0.4524715250403883 and parameters: {'booster': 'dart', 'lambda': 0.11777074877211466, 'alpha': 4.09693142633372e-06, 'learning_rate': 0.08497563703687837, 'n_estimators': 31}. Best is trial 22 with value: 0.45596923736664746.\n",
      "[I 2024-04-02 22:27:45,454] Trial 42 finished with value: 0.41276352128740407 and parameters: {'booster': 'dart', 'lambda': 0.6977635748081158, 'alpha': 5.750521854089445e-06, 'learning_rate': 0.08491693792913378, 'n_estimators': 16}. Best is trial 22 with value: 0.45596923736664746.\n",
      "[I 2024-04-02 22:27:45,649] Trial 43 finished with value: 0.4102982268903685 and parameters: {'booster': 'dart', 'lambda': 0.0646990747998803, 'alpha': 4.029418582817072e-07, 'learning_rate': 0.04889142846209062, 'n_estimators': 28}. Best is trial 22 with value: 0.45596923736664746.\n",
      "[I 2024-04-02 22:27:46,249] Trial 44 finished with value: 0.4493808027231772 and parameters: {'booster': 'dart', 'lambda': 0.018537174574101332, 'alpha': 1.358246588322019e-05, 'learning_rate': 0.11251047643758827, 'n_estimators': 54}. Best is trial 22 with value: 0.45596923736664746.\n",
      "[I 2024-04-02 22:27:47,424] Trial 45 finished with value: -0.1546521306565446 and parameters: {'booster': 'dart', 'lambda': 0.13329039054996245, 'alpha': 6.476138857233394e-08, 'learning_rate': 0.0005525480002257367, 'n_estimators': 78}. Best is trial 22 with value: 0.45596923736664746.\n",
      "[I 2024-04-02 22:27:47,810] Trial 46 finished with value: -0.20285014102775478 and parameters: {'booster': 'dart', 'lambda': 5.722016437654653e-07, 'alpha': 3.59083596789298e-05, 'learning_rate': 0.00011275814085714606, 'n_estimators': 42}. Best is trial 22 with value: 0.45596923736664746.\n",
      "[I 2024-04-02 22:27:47,869] Trial 47 finished with value: 0.24270302223473336 and parameters: {'booster': 'gblinear', 'lambda': 0.3655770526584911, 'alpha': 3.1021474355997274e-06, 'learning_rate': 0.025995253910818365, 'n_estimators': 163}. Best is trial 22 with value: 0.45596923736664746.\n",
      "[I 2024-04-02 22:27:48,000] Trial 48 finished with value: 0.44191317078885606 and parameters: {'booster': 'dart', 'lambda': 9.64523149856655e-06, 'alpha': 1.1786105867391797e-06, 'learning_rate': 0.17098288891640007, 'n_estimators': 22}. Best is trial 22 with value: 0.45596923736664746.\n",
      "[I 2024-04-02 22:27:49,648] Trial 49 finished with value: 0.3405811335920582 and parameters: {'booster': 'dart', 'lambda': 3.726962122196105e-05, 'alpha': 0.000382084789903226, 'learning_rate': 0.3284778494454054, 'n_estimators': 94}. Best is trial 22 with value: 0.45596923736664746.\n",
      "[I 2024-04-02 22:27:49,649] A new study created in memory with name: rf\n",
      "/Users/danila/Documents/Python Projects/Kaggle/.venv/lib/python3.11/site-packages/optuna/distributions.py:700: UserWarning: The distribution is specified by [10, 500] and step=20, but the range is not divisible by `step`. It will be replaced by [10, 490].\n",
      "  warnings.warn(\n",
      "[I 2024-04-02 22:27:53,344] Trial 0 finished with value: 0.44375318993753404 and parameters: {'max_depth': 29, 'n_estimators': 250}. Best is trial 0 with value: 0.44375318993753404.\n",
      "[I 2024-04-02 22:27:56,243] Trial 1 finished with value: 0.46334181613766245 and parameters: {'max_depth': 9, 'n_estimators': 290}. Best is trial 1 with value: 0.46334181613766245.\n",
      "[I 2024-04-02 22:27:58,596] Trial 2 finished with value: 0.4338851335239453 and parameters: {'max_depth': 5, 'n_estimators': 410}. Best is trial 1 with value: 0.46334181613766245.\n",
      "[I 2024-04-02 22:27:59,297] Trial 3 finished with value: 0.22838939260920718 and parameters: {'max_depth': 2, 'n_estimators': 230}. Best is trial 1 with value: 0.46334181613766245.\n",
      "[I 2024-04-02 22:28:02,320] Trial 4 finished with value: 0.4444026980894618 and parameters: {'max_depth': 19, 'n_estimators': 210}. Best is trial 1 with value: 0.46334181613766245.\n",
      "[I 2024-04-02 22:28:03,390] Trial 5 finished with value: 0.22850571888676194 and parameters: {'max_depth': 2, 'n_estimators': 390}. Best is trial 1 with value: 0.46334181613766245.\n",
      "[I 2024-04-02 22:28:07,710] Trial 6 finished with value: 0.46310652909212136 and parameters: {'max_depth': 9, 'n_estimators': 450}. Best is trial 1 with value: 0.46334181613766245.\n",
      "[I 2024-04-02 22:28:08,994] Trial 7 finished with value: 0.40038727376623007 and parameters: {'max_depth': 4, 'n_estimators': 270}. Best is trial 1 with value: 0.46334181613766245.\n",
      "[I 2024-04-02 22:28:09,057] Trial 8 finished with value: 0.30120361174323595 and parameters: {'max_depth': 3, 'n_estimators': 10}. Best is trial 1 with value: 0.46334181613766245.\n",
      "[I 2024-04-02 22:28:11,238] Trial 9 finished with value: 0.4523888933330988 and parameters: {'max_depth': 6, 'n_estimators': 330}. Best is trial 1 with value: 0.46334181613766245.\n",
      "[I 2024-04-02 22:28:12,450] Trial 10 finished with value: 0.45417115232911964 and parameters: {'max_depth': 11, 'n_estimators': 110}. Best is trial 1 with value: 0.46334181613766245.\n",
      "[I 2024-04-02 22:28:17,147] Trial 11 finished with value: 0.46264884176209914 and parameters: {'max_depth': 9, 'n_estimators': 490}. Best is trial 1 with value: 0.46334181613766245.\n",
      "[I 2024-04-02 22:28:23,583] Trial 12 finished with value: 0.450895288222514 and parameters: {'max_depth': 13, 'n_estimators': 490}. Best is trial 1 with value: 0.46334181613766245.\n",
      "[I 2024-04-02 22:28:29,195] Trial 13 finished with value: 0.4461644419820258 and parameters: {'max_depth': 17, 'n_estimators': 390}. Best is trial 1 with value: 0.46334181613766245.\n",
      "[I 2024-04-02 22:28:30,449] Trial 14 finished with value: 0.4647309385265169 and parameters: {'max_depth': 8, 'n_estimators': 150}. Best is trial 14 with value: 0.4647309385265169.\n",
      "[I 2024-04-02 22:28:31,575] Trial 15 finished with value: 0.4608315815403724 and parameters: {'max_depth': 7, 'n_estimators': 150}. Best is trial 14 with value: 0.4647309385265169.\n",
      "[I 2024-04-02 22:28:32,080] Trial 16 finished with value: 0.39867386113407605 and parameters: {'max_depth': 4, 'n_estimators': 110}. Best is trial 14 with value: 0.4647309385265169.\n",
      "[I 2024-04-02 22:28:36,539] Trial 17 finished with value: 0.44298358722775727 and parameters: {'max_depth': 26, 'n_estimators': 310}. Best is trial 14 with value: 0.4647309385265169.\n",
      "[I 2024-04-02 22:28:38,863] Trial 18 finished with value: 0.4480834914015898 and parameters: {'max_depth': 17, 'n_estimators': 170}. Best is trial 14 with value: 0.4647309385265169.\n",
      "[I 2024-04-02 22:28:39,333] Trial 19 finished with value: 0.46061923266337024 and parameters: {'max_depth': 8, 'n_estimators': 50}. Best is trial 14 with value: 0.4647309385265169.\n",
      "[I 2024-04-02 22:28:43,143] Trial 20 finished with value: 0.451541435852003 and parameters: {'max_depth': 13, 'n_estimators': 310}. Best is trial 14 with value: 0.4647309385265169.\n",
      "[I 2024-04-02 22:28:44,956] Trial 21 finished with value: 0.46476186366450867 and parameters: {'max_depth': 9, 'n_estimators': 190}. Best is trial 21 with value: 0.46476186366450867.\n",
      "[I 2024-04-02 22:28:46,281] Trial 22 finished with value: 0.45067626449337383 and parameters: {'max_depth': 6, 'n_estimators': 190}. Best is trial 21 with value: 0.46476186366450867.\n",
      "[I 2024-04-02 22:28:47,818] Trial 23 finished with value: 0.4508752109635007 and parameters: {'max_depth': 12, 'n_estimators': 130}. Best is trial 21 with value: 0.46476186366450867.\n",
      "[I 2024-04-02 22:28:48,547] Trial 24 finished with value: 0.4552254670986665 and parameters: {'max_depth': 10, 'n_estimators': 70}. Best is trial 21 with value: 0.46476186366450867.\n",
      "[I 2024-04-02 22:28:50,064] Trial 25 finished with value: 0.43480793027225423 and parameters: {'max_depth': 5, 'n_estimators': 270}. Best is trial 21 with value: 0.46476186366450867.\n",
      "[I 2024-04-02 22:28:52,635] Trial 26 finished with value: 0.4604296975250303 and parameters: {'max_depth': 7, 'n_estimators': 350}. Best is trial 21 with value: 0.46476186366450867.\n",
      "[I 2024-04-02 22:28:53,350] Trial 27 finished with value: 0.310846145159104 and parameters: {'max_depth': 3, 'n_estimators': 190}. Best is trial 21 with value: 0.46476186366450867.\n",
      "[I 2024-04-02 22:28:54,364] Trial 28 finished with value: 0.4384133992678394 and parameters: {'max_depth': 21, 'n_estimators': 70}. Best is trial 21 with value: 0.46476186366450867.\n",
      "[I 2024-04-02 22:28:57,657] Trial 29 finished with value: 0.4479053950723875 and parameters: {'max_depth': 14, 'n_estimators': 250}. Best is trial 21 with value: 0.46476186366450867.\n",
      "[I 2024-04-02 22:29:01,026] Trial 30 finished with value: 0.44091400405714304 and parameters: {'max_depth': 31, 'n_estimators': 230}. Best is trial 21 with value: 0.46476186366450867.\n",
      "[I 2024-04-02 22:29:05,263] Trial 31 finished with value: 0.4649885872836773 and parameters: {'max_depth': 9, 'n_estimators': 450}. Best is trial 31 with value: 0.4649885872836773.\n",
      "[I 2024-04-02 22:29:09,146] Trial 32 finished with value: 0.46406336595809367 and parameters: {'max_depth': 8, 'n_estimators': 450}. Best is trial 31 with value: 0.4649885872836773.\n",
      "[I 2024-04-02 22:29:12,861] Trial 33 finished with value: 0.4644211585872345 and parameters: {'max_depth': 8, 'n_estimators': 430}. Best is trial 31 with value: 0.4649885872836773.\n",
      "[I 2024-04-02 22:29:15,673] Trial 34 finished with value: 0.452406680384673 and parameters: {'max_depth': 6, 'n_estimators': 430}. Best is trial 31 with value: 0.4649885872836773.\n",
      "[I 2024-04-02 22:29:19,611] Trial 35 finished with value: 0.4602123843869155 and parameters: {'max_depth': 10, 'n_estimators': 370}. Best is trial 31 with value: 0.4649885872836773.\n",
      "[I 2024-04-02 22:29:22,184] Trial 36 finished with value: 0.4351889399904592 and parameters: {'max_depth': 5, 'n_estimators': 450}. Best is trial 31 with value: 0.4649885872836773.\n",
      "[I 2024-04-02 22:29:28,001] Trial 37 finished with value: 0.446972477272735 and parameters: {'max_depth': 15, 'n_estimators': 410}. Best is trial 31 with value: 0.4649885872836773.\n",
      "[I 2024-04-02 22:29:29,826] Trial 38 finished with value: 0.46557915653354376 and parameters: {'max_depth': 8, 'n_estimators': 210}. Best is trial 38 with value: 0.46557915653354376.\n",
      "[I 2024-04-02 22:29:31,318] Trial 39 finished with value: 0.4003728276557605 and parameters: {'max_depth': 4, 'n_estimators': 210}. Best is trial 38 with value: 0.46557915653354376.\n",
      "[I 2024-04-02 22:29:33,246] Trial 40 finished with value: 0.45770947673472995 and parameters: {'max_depth': 11, 'n_estimators': 150}. Best is trial 38 with value: 0.46557915653354376.\n",
      "[I 2024-04-02 22:29:35,514] Trial 41 finished with value: 0.4650955848101622 and parameters: {'max_depth': 8, 'n_estimators': 210}. Best is trial 38 with value: 0.46557915653354376.\n",
      "[I 2024-04-02 22:29:38,636] Trial 42 finished with value: 0.4600697896264768 and parameters: {'max_depth': 9, 'n_estimators': 230}. Best is trial 38 with value: 0.46557915653354376.\n",
      "[I 2024-04-02 22:29:40,037] Trial 43 finished with value: 0.4527802718938935 and parameters: {'max_depth': 6, 'n_estimators': 190}. Best is trial 38 with value: 0.46557915653354376.\n",
      "[I 2024-04-02 22:29:42,117] Trial 44 finished with value: 0.46171613886913543 and parameters: {'max_depth': 7, 'n_estimators': 270}. Best is trial 38 with value: 0.46557915653354376.\n",
      "[I 2024-04-02 22:29:43,717] Trial 45 finished with value: 0.4597691700057764 and parameters: {'max_depth': 10, 'n_estimators': 150}. Best is trial 38 with value: 0.46557915653354376.\n",
      "[I 2024-04-02 22:29:45,547] Trial 46 finished with value: 0.4633317559689594 and parameters: {'max_depth': 8, 'n_estimators': 210}. Best is trial 38 with value: 0.46557915653354376.\n",
      "[I 2024-04-02 22:29:46,875] Trial 47 finished with value: 0.45553375971295085 and parameters: {'max_depth': 11, 'n_estimators': 110}. Best is trial 38 with value: 0.46557915653354376.\n",
      "[I 2024-04-02 22:29:49,322] Trial 48 finished with value: 0.4620979402358915 and parameters: {'max_depth': 9, 'n_estimators': 250}. Best is trial 38 with value: 0.46557915653354376.\n",
      "[I 2024-04-02 22:29:50,414] Trial 49 finished with value: 0.30978845295938606 and parameters: {'max_depth': 3, 'n_estimators': 290}. Best is trial 38 with value: 0.46557915653354376.\n",
      "[I 2024-04-02 22:29:50,414] A new study created in memory with name: boosting\n",
      "[I 2024-04-02 22:29:51,586] Trial 0 finished with value: -0.056998312307918894 and parameters: {'max_depth': 3, 'learning_rate': 0.000759394947107781, 'min_samples_split': 2, 'n_estimators': 233}. Best is trial 0 with value: -0.056998312307918894.\n",
      "[I 2024-04-02 22:29:52,110] Trial 1 finished with value: 0.002825216266446229 and parameters: {'max_depth': 3, 'learning_rate': 0.0025665809790218017, 'min_samples_split': 2, 'n_estimators': 104}. Best is trial 1 with value: 0.002825216266446229.\n",
      "[I 2024-04-02 22:29:54,113] Trial 2 finished with value: -0.009452628559565367 and parameters: {'max_depth': 24, 'learning_rate': 0.0022139270654920056, 'min_samples_split': 3, 'n_estimators': 82}. Best is trial 1 with value: 0.002825216266446229.\n",
      "[I 2024-04-02 22:29:54,574] Trial 3 finished with value: 0.3631697591101901 and parameters: {'max_depth': 7, 'learning_rate': 0.31760978876895707, 'min_samples_split': 2, 'n_estimators': 39}. Best is trial 3 with value: 0.3631697591101901.\n",
      "[I 2024-04-02 22:29:54,805] Trial 4 finished with value: 0.4023751229283811 and parameters: {'max_depth': 6, 'learning_rate': 0.3397950289509667, 'min_samples_split': 2, 'n_estimators': 23}. Best is trial 4 with value: 0.4023751229283811.\n",
      "[I 2024-04-02 22:29:55,133] Trial 5 finished with value: 0.21957054803737455 and parameters: {'max_depth': 19, 'learning_rate': 0.05796089778301228, 'min_samples_split': 3, 'n_estimators': 13}. Best is trial 4 with value: 0.4023751229283811.\n",
      "[I 2024-04-02 22:29:59,031] Trial 6 finished with value: 0.23279017730144286 and parameters: {'max_depth': 13, 'learning_rate': 0.0032364312586947368, 'min_samples_split': 4, 'n_estimators': 200}. Best is trial 4 with value: 0.4023751229283811.\n",
      "[I 2024-04-02 22:29:59,716] Trial 7 finished with value: 0.22176486894241654 and parameters: {'max_depth': 16, 'learning_rate': 0.08987461279272355, 'min_samples_split': 4, 'n_estimators': 30}. Best is trial 4 with value: 0.4023751229283811.\n",
      "[I 2024-04-02 22:29:59,964] Trial 8 finished with value: -0.20714724607795634 and parameters: {'max_depth': 28, 'learning_rate': 0.00013543545340785637, 'min_samples_split': 3, 'n_estimators': 10}. Best is trial 4 with value: 0.4023751229283811.\n",
      "[I 2024-04-02 22:30:04,628] Trial 9 finished with value: 0.22980657081014372 and parameters: {'max_depth': 18, 'learning_rate': 0.1251294657862851, 'min_samples_split': 5, 'n_estimators': 181}. Best is trial 4 with value: 0.4023751229283811.\n",
      "[I 2024-04-02 22:30:04,892] Trial 10 finished with value: 0.18351548672319565 and parameters: {'max_depth': 6, 'learning_rate': 0.018433228058873617, 'min_samples_split': 2, 'n_estimators': 25}. Best is trial 4 with value: 0.4023751229283811.\n",
      "[I 2024-04-02 22:30:05,321] Trial 11 finished with value: 0.3302686255607138 and parameters: {'max_depth': 7, 'learning_rate': 0.397964303900082, 'min_samples_split': 2, 'n_estimators': 37}. Best is trial 4 with value: 0.4023751229283811.\n",
      "[I 2024-04-02 22:30:09,945] Trial 12 finished with value: 0.26163501381195553 and parameters: {'max_depth': 6, 'learning_rate': 0.45031320956665527, 'min_samples_split': 2, 'n_estimators': 486}. Best is trial 4 with value: 0.4023751229283811.\n",
      "[I 2024-04-02 22:30:10,589] Trial 13 finished with value: 0.34378025175711346 and parameters: {'max_depth': 8, 'learning_rate': 0.019043935333965086, 'min_samples_split': 2, 'n_estimators': 50}. Best is trial 4 with value: 0.4023751229283811.\n",
      "[I 2024-04-02 22:30:10,671] Trial 14 finished with value: 0.38712855038447397 and parameters: {'max_depth': 2, 'learning_rate': 0.24219956987915506, 'min_samples_split': 3, 'n_estimators': 18}. Best is trial 4 with value: 0.4023751229283811.\n",
      "[I 2024-04-02 22:30:10,762] Trial 15 finished with value: 0.13571053283276507 and parameters: {'max_depth': 2, 'learning_rate': 0.03607611052293798, 'min_samples_split': 4, 'n_estimators': 18}. Best is trial 4 with value: 0.4023751229283811.\n",
      "[I 2024-04-02 22:30:10,843] Trial 16 finished with value: 0.34332580466029655 and parameters: {'max_depth': 2, 'learning_rate': 0.1619011618988741, 'min_samples_split': 3, 'n_estimators': 18}. Best is trial 4 with value: 0.4023751229283811.\n",
      "[I 2024-04-02 22:30:10,998] Trial 17 finished with value: -0.010958215706896257 and parameters: {'max_depth': 4, 'learning_rate': 0.010291105942005923, 'min_samples_split': 5, 'n_estimators': 20}. Best is trial 4 with value: 0.4023751229283811.\n",
      "[I 2024-04-02 22:30:11,866] Trial 18 finished with value: 0.34096961991445374 and parameters: {'max_depth': 10, 'learning_rate': 0.1714286266350116, 'min_samples_split': 3, 'n_estimators': 54}. Best is trial 4 with value: 0.4023751229283811.\n",
      "[I 2024-04-02 22:30:11,955] Trial 19 finished with value: 0.12253630694360036 and parameters: {'max_depth': 4, 'learning_rate': 0.039805342366179226, 'min_samples_split': 4, 'n_estimators': 10}. Best is trial 4 with value: 0.4023751229283811.\n",
      "[I 2024-04-02 22:30:12,047] Trial 20 finished with value: -0.20732416284594857 and parameters: {'max_depth': 3, 'learning_rate': 0.00011305161307507229, 'min_samples_split': 4, 'n_estimators': 15}. Best is trial 4 with value: 0.4023751229283811.\n",
      "[I 2024-04-02 22:30:12,639] Trial 21 finished with value: 0.3121266045297906 and parameters: {'max_depth': 10, 'learning_rate': 0.2845259934582712, 'min_samples_split': 2, 'n_estimators': 38}. Best is trial 4 with value: 0.4023751229283811.\n",
      "[I 2024-04-02 22:30:12,903] Trial 22 finished with value: 0.4457803742001409 and parameters: {'max_depth': 5, 'learning_rate': 0.2351493218758217, 'min_samples_split': 3, 'n_estimators': 30}. Best is trial 22 with value: 0.4457803742001409.\n",
      "[I 2024-04-02 22:30:13,078] Trial 23 finished with value: 0.43790877415448987 and parameters: {'max_depth': 4, 'learning_rate': 0.09097679990189471, 'min_samples_split': 3, 'n_estimators': 24}. Best is trial 22 with value: 0.4457803742001409.\n",
      "[I 2024-04-02 22:30:13,329] Trial 24 finished with value: 0.44514189000665977 and parameters: {'max_depth': 5, 'learning_rate': 0.07283659130998166, 'min_samples_split': 3, 'n_estimators': 28}. Best is trial 22 with value: 0.4457803742001409.\n",
      "[I 2024-04-02 22:30:13,807] Trial 25 finished with value: 0.4679070502415158 and parameters: {'max_depth': 4, 'learning_rate': 0.08312330529676927, 'min_samples_split': 3, 'n_estimators': 70}. Best is trial 25 with value: 0.4679070502415158.\n",
      "[I 2024-04-02 22:30:14,704] Trial 26 finished with value: 0.44684260403029663 and parameters: {'max_depth': 5, 'learning_rate': 0.019866985560819353, 'min_samples_split': 4, 'n_estimators': 111}. Best is trial 25 with value: 0.4679070502415158.\n",
      "[I 2024-04-02 22:30:15,722] Trial 27 finished with value: 0.4609379508833832 and parameters: {'max_depth': 5, 'learning_rate': 0.023704487855546012, 'min_samples_split': 5, 'n_estimators': 121}. Best is trial 25 with value: 0.4679070502415158.\n",
      "[I 2024-04-02 22:30:17,554] Trial 28 finished with value: 0.30532435911720096 and parameters: {'max_depth': 9, 'learning_rate': 0.006099633205624093, 'min_samples_split': 5, 'n_estimators': 129}. Best is trial 25 with value: 0.4679070502415158.\n",
      "[I 2024-04-02 22:30:19,217] Trial 29 finished with value: 0.4551871757580475 and parameters: {'max_depth': 3, 'learning_rate': 0.021637791575454698, 'min_samples_split': 5, 'n_estimators': 324}. Best is trial 25 with value: 0.4679070502415158.\n",
      "[I 2024-04-02 22:30:20,930] Trial 30 finished with value: 0.03276353258592912 and parameters: {'max_depth': 3, 'learning_rate': 0.0009340690158609761, 'min_samples_split': 5, 'n_estimators': 341}. Best is trial 25 with value: 0.4679070502415158.\n",
      "[I 2024-04-02 22:30:21,762] Trial 31 finished with value: 0.4556744663974226 and parameters: {'max_depth': 4, 'learning_rate': 0.02373786927658352, 'min_samples_split': 5, 'n_estimators': 125}. Best is trial 25 with value: 0.4679070502415158.\n",
      "[I 2024-04-02 22:30:23,213] Trial 32 finished with value: 0.3995469904715869 and parameters: {'max_depth': 3, 'learning_rate': 0.007728638026565384, 'min_samples_split': 5, 'n_estimators': 291}. Best is trial 25 with value: 0.4679070502415158.\n",
      "[I 2024-04-02 22:30:23,761] Trial 33 finished with value: 0.4438903812009453 and parameters: {'max_depth': 4, 'learning_rate': 0.029224303019581708, 'min_samples_split': 5, 'n_estimators': 82}. Best is trial 25 with value: 0.4679070502415158.\n",
      "[I 2024-04-02 22:30:24,502] Trial 34 finished with value: 0.35391942738909493 and parameters: {'max_depth': 3, 'learning_rate': 0.010556739742878022, 'min_samples_split': 5, 'n_estimators': 149}. Best is trial 25 with value: 0.4679070502415158.\n",
      "[I 2024-04-02 22:30:25,053] Trial 35 finished with value: 0.0839495362072181 and parameters: {'max_depth': 4, 'learning_rate': 0.004200182034159487, 'min_samples_split': 4, 'n_estimators': 81}. Best is trial 25 with value: 0.4679070502415158.\n",
      "[I 2024-04-02 22:30:25,560] Trial 36 finished with value: 0.33707573213321773 and parameters: {'max_depth': 5, 'learning_rate': 0.015113168458969518, 'min_samples_split': 5, 'n_estimators': 62}. Best is trial 25 with value: 0.4679070502415158.\n",
      "[I 2024-04-02 22:30:26,869] Trial 37 finished with value: 0.4616268216389603 and parameters: {'max_depth': 3, 'learning_rate': 0.045555920470214756, 'min_samples_split': 4, 'n_estimators': 260}. Best is trial 25 with value: 0.4679070502415158.\n",
      "[I 2024-04-02 22:30:28,822] Trial 38 finished with value: 0.4574598722086275 and parameters: {'max_depth': 5, 'learning_rate': 0.05387160864815831, 'min_samples_split': 4, 'n_estimators': 237}. Best is trial 25 with value: 0.4679070502415158.\n",
      "[I 2024-04-02 22:30:31,072] Trial 39 finished with value: 0.4402236966255478 and parameters: {'max_depth': 6, 'learning_rate': 0.049970912083847886, 'min_samples_split': 4, 'n_estimators': 238}. Best is trial 25 with value: 0.4679070502415158.\n",
      "[I 2024-04-02 22:30:32,440] Trial 40 finished with value: 0.4624318837353094 and parameters: {'max_depth': 5, 'learning_rate': 0.06221167374022213, 'min_samples_split': 4, 'n_estimators': 170}. Best is trial 25 with value: 0.4679070502415158.\n",
      "[I 2024-04-02 22:30:33,811] Trial 41 finished with value: 0.45871427260293807 and parameters: {'max_depth': 5, 'learning_rate': 0.06645208067399395, 'min_samples_split': 4, 'n_estimators': 171}. Best is trial 25 with value: 0.4679070502415158.\n",
      "[I 2024-04-02 22:30:36,079] Trial 42 finished with value: 0.39309079327112356 and parameters: {'max_depth': 8, 'learning_rate': 0.08760514061831842, 'min_samples_split': 4, 'n_estimators': 183}. Best is trial 25 with value: 0.4679070502415158.\n",
      "[I 2024-04-02 22:30:37,814] Trial 43 finished with value: 0.3854785839894332 and parameters: {'max_depth': 7, 'learning_rate': 0.1358433474032327, 'min_samples_split': 4, 'n_estimators': 155}. Best is trial 25 with value: 0.4679070502415158.\n",
      "[I 2024-04-02 22:30:38,833] Trial 44 finished with value: 0.44850376108618634 and parameters: {'max_depth': 6, 'learning_rate': 0.06315343716890717, 'min_samples_split': 4, 'n_estimators': 106}. Best is trial 25 with value: 0.4679070502415158.\n",
      "[I 2024-04-02 22:30:40,487] Trial 45 finished with value: 0.28388385711666214 and parameters: {'max_depth': 13, 'learning_rate': 0.03663385505269572, 'min_samples_split': 4, 'n_estimators': 86}. Best is trial 25 with value: 0.4679070502415158.\n",
      "[I 2024-04-02 22:30:43,794] Trial 46 finished with value: 0.401376927789254 and parameters: {'max_depth': 5, 'learning_rate': 0.11424631231257756, 'min_samples_split': 4, 'n_estimators': 418}. Best is trial 25 with value: 0.4679070502415158.\n",
      "[I 2024-04-02 22:30:46,040] Trial 47 finished with value: -0.15398816821479538 and parameters: {'max_depth': 7, 'learning_rate': 0.00021294977985070993, 'min_samples_split': 4, 'n_estimators': 203}. Best is trial 25 with value: 0.4679070502415158.\n",
      "[I 2024-04-02 22:30:47,933] Trial 48 finished with value: 0.41399901004794737 and parameters: {'max_depth': 8, 'learning_rate': 0.04474335108188504, 'min_samples_split': 5, 'n_estimators': 152}. Best is trial 25 with value: 0.4679070502415158.\n",
      "[I 2024-04-02 22:30:50,446] Trial 49 finished with value: 0.46006295965557154 and parameters: {'max_depth': 6, 'learning_rate': 0.013300494273538712, 'min_samples_split': 3, 'n_estimators': 266}. Best is trial 25 with value: 0.4679070502415158.\n",
      "[I 2024-04-02 22:30:50,446] A new study created in memory with name: knn\n",
      "[I 2024-04-02 22:30:50,471] Trial 0 finished with value: 0.433977091267419 and parameters: {'n_neighbors': 9, 'metric': 'minkowski'}. Best is trial 0 with value: 0.433977091267419.\n",
      "[I 2024-04-02 22:30:50,496] Trial 1 finished with value: 0.43406774070819854 and parameters: {'n_neighbors': 10, 'metric': 'manhattan'}. Best is trial 1 with value: 0.43406774070819854.\n",
      "[I 2024-04-02 22:30:50,523] Trial 2 finished with value: 0.4418851805898904 and parameters: {'n_neighbors': 20, 'metric': 'euclidean'}. Best is trial 2 with value: 0.4418851805898904.\n",
      "[I 2024-04-02 22:30:50,537] Trial 3 finished with value: 0.25090409736565156 and parameters: {'n_neighbors': 2, 'metric': 'euclidean'}. Best is trial 2 with value: 0.4418851805898904.\n",
      "[I 2024-04-02 22:30:50,565] Trial 4 finished with value: 0.44338240938040485 and parameters: {'n_neighbors': 19, 'metric': 'minkowski'}. Best is trial 4 with value: 0.44338240938040485.\n",
      "[I 2024-04-02 22:30:50,590] Trial 5 finished with value: 0.33483211451650596 and parameters: {'n_neighbors': 3, 'metric': 'manhattan'}. Best is trial 4 with value: 0.44338240938040485.\n",
      "[I 2024-04-02 22:30:50,617] Trial 6 finished with value: 0.4296203606401242 and parameters: {'n_neighbors': 8, 'metric': 'minkowski'}. Best is trial 4 with value: 0.44338240938040485.\n",
      "[I 2024-04-02 22:30:50,632] Trial 7 finished with value: 0.3283594169543497 and parameters: {'n_neighbors': 3, 'metric': 'minkowski'}. Best is trial 4 with value: 0.44338240938040485.\n",
      "[I 2024-04-02 22:30:50,658] Trial 8 finished with value: 0.4023810671413547 and parameters: {'n_neighbors': 5, 'metric': 'euclidean'}. Best is trial 4 with value: 0.44338240938040485.\n",
      "[I 2024-04-02 22:30:50,685] Trial 9 finished with value: 0.4296203606401242 and parameters: {'n_neighbors': 8, 'metric': 'minkowski'}. Best is trial 4 with value: 0.44338240938040485.\n",
      "[I 2024-04-02 22:30:50,714] Trial 10 finished with value: 0.44338240938040485 and parameters: {'n_neighbors': 19, 'metric': 'minkowski'}. Best is trial 4 with value: 0.44338240938040485.\n",
      "[I 2024-04-02 22:30:50,741] Trial 11 finished with value: 0.44076827835770366 and parameters: {'n_neighbors': 21, 'metric': 'minkowski'}. Best is trial 4 with value: 0.44338240938040485.\n",
      "[I 2024-04-02 22:30:50,769] Trial 12 finished with value: 0.44270448605474916 and parameters: {'n_neighbors': 14, 'metric': 'minkowski'}. Best is trial 4 with value: 0.44338240938040485.\n",
      "[I 2024-04-02 22:30:50,797] Trial 13 finished with value: 0.44270448605474916 and parameters: {'n_neighbors': 14, 'metric': 'minkowski'}. Best is trial 4 with value: 0.44338240938040485.\n",
      "[I 2024-04-02 22:30:50,826] Trial 14 finished with value: 0.44399990043694376 and parameters: {'n_neighbors': 15, 'metric': 'minkowski'}. Best is trial 14 with value: 0.44399990043694376.\n",
      "[I 2024-04-02 22:30:50,853] Trial 15 finished with value: 0.43959592437870076 and parameters: {'n_neighbors': 13, 'metric': 'manhattan'}. Best is trial 14 with value: 0.44399990043694376.\n",
      "[I 2024-04-02 22:30:50,870] Trial 16 finished with value: 0.412069672488093 and parameters: {'n_neighbors': 6, 'metric': 'minkowski'}. Best is trial 14 with value: 0.44399990043694376.\n",
      "[I 2024-04-02 22:30:50,899] Trial 17 finished with value: 0.44271369265481636 and parameters: {'n_neighbors': 12, 'metric': 'minkowski'}. Best is trial 14 with value: 0.44399990043694376.\n",
      "[I 2024-04-02 22:30:50,927] Trial 18 finished with value: 0.39674611828978873 and parameters: {'n_neighbors': 5, 'metric': 'manhattan'}. Best is trial 14 with value: 0.44399990043694376.\n",
      "[I 2024-04-02 22:30:50,956] Trial 19 finished with value: 0.4240965029830857 and parameters: {'n_neighbors': 7, 'metric': 'euclidean'}. Best is trial 14 with value: 0.44399990043694376.\n",
      "[I 2024-04-02 22:30:50,983] Trial 20 finished with value: 0.4447059668291887 and parameters: {'n_neighbors': 16, 'metric': 'minkowski'}. Best is trial 20 with value: 0.4447059668291887.\n",
      "[I 2024-04-02 22:30:51,010] Trial 21 finished with value: 0.4447059668291887 and parameters: {'n_neighbors': 16, 'metric': 'minkowski'}. Best is trial 20 with value: 0.4447059668291887.\n",
      "[I 2024-04-02 22:30:51,037] Trial 22 finished with value: 0.4447059668291887 and parameters: {'n_neighbors': 16, 'metric': 'minkowski'}. Best is trial 20 with value: 0.4447059668291887.\n",
      "[I 2024-04-02 22:30:51,065] Trial 23 finished with value: 0.4421883409238096 and parameters: {'n_neighbors': 11, 'metric': 'minkowski'}. Best is trial 20 with value: 0.4447059668291887.\n",
      "[I 2024-04-02 22:30:51,093] Trial 24 finished with value: 0.4447059668291887 and parameters: {'n_neighbors': 16, 'metric': 'minkowski'}. Best is trial 20 with value: 0.4447059668291887.\n",
      "[I 2024-04-02 22:30:51,121] Trial 25 finished with value: 0.44476722103723587 and parameters: {'n_neighbors': 17, 'metric': 'minkowski'}. Best is trial 25 with value: 0.44476722103723587.\n",
      "[I 2024-04-02 22:30:51,147] Trial 26 finished with value: 0.4421883409238096 and parameters: {'n_neighbors': 11, 'metric': 'minkowski'}. Best is trial 25 with value: 0.44476722103723587.\n",
      "[I 2024-04-02 22:30:51,177] Trial 27 finished with value: 0.4447059668291887 and parameters: {'n_neighbors': 16, 'metric': 'minkowski'}. Best is trial 25 with value: 0.44476722103723587.\n",
      "[I 2024-04-02 22:30:51,206] Trial 28 finished with value: 0.3751828591934423 and parameters: {'n_neighbors': 4, 'metric': 'manhattan'}. Best is trial 25 with value: 0.44476722103723587.\n",
      "[I 2024-04-02 22:30:51,236] Trial 29 finished with value: 0.433977091267419 and parameters: {'n_neighbors': 9, 'metric': 'euclidean'}. Best is trial 25 with value: 0.44476722103723587.\n",
      "[I 2024-04-02 22:30:51,263] Trial 30 finished with value: 0.433977091267419 and parameters: {'n_neighbors': 9, 'metric': 'minkowski'}. Best is trial 25 with value: 0.44476722103723587.\n",
      "[I 2024-04-02 22:30:51,291] Trial 31 finished with value: 0.4436589136517147 and parameters: {'n_neighbors': 18, 'metric': 'minkowski'}. Best is trial 25 with value: 0.44476722103723587.\n",
      "[I 2024-04-02 22:30:51,318] Trial 32 finished with value: 0.44476722103723587 and parameters: {'n_neighbors': 17, 'metric': 'minkowski'}. Best is trial 25 with value: 0.44476722103723587.\n",
      "[I 2024-04-02 22:30:51,344] Trial 33 finished with value: 0.44271369265481636 and parameters: {'n_neighbors': 12, 'metric': 'minkowski'}. Best is trial 25 with value: 0.44476722103723587.\n",
      "[I 2024-04-02 22:30:51,372] Trial 34 finished with value: 0.44076827835770366 and parameters: {'n_neighbors': 21, 'metric': 'minkowski'}. Best is trial 25 with value: 0.44476722103723587.\n",
      "[I 2024-04-02 22:30:51,400] Trial 35 finished with value: 0.44476722103723587 and parameters: {'n_neighbors': 17, 'metric': 'minkowski'}. Best is trial 25 with value: 0.44476722103723587.\n",
      "[I 2024-04-02 22:30:51,429] Trial 36 finished with value: 0.4436589136517147 and parameters: {'n_neighbors': 18, 'metric': 'euclidean'}. Best is trial 25 with value: 0.44476722103723587.\n",
      "[I 2024-04-02 22:30:51,458] Trial 37 finished with value: 0.24415382394742197 and parameters: {'n_neighbors': 2, 'metric': 'manhattan'}. Best is trial 25 with value: 0.44476722103723587.\n",
      "[I 2024-04-02 22:30:51,487] Trial 38 finished with value: 0.4375510440222925 and parameters: {'n_neighbors': 10, 'metric': 'minkowski'}. Best is trial 25 with value: 0.44476722103723587.\n",
      "[I 2024-04-02 22:30:51,515] Trial 39 finished with value: 0.44404316507076286 and parameters: {'n_neighbors': 13, 'metric': 'minkowski'}. Best is trial 25 with value: 0.44476722103723587.\n",
      "[I 2024-04-02 22:30:51,544] Trial 40 finished with value: 0.4436589136517147 and parameters: {'n_neighbors': 18, 'metric': 'euclidean'}. Best is trial 25 with value: 0.44476722103723587.\n",
      "[I 2024-04-02 22:30:51,571] Trial 41 finished with value: 0.4447059668291887 and parameters: {'n_neighbors': 16, 'metric': 'minkowski'}. Best is trial 25 with value: 0.44476722103723587.\n",
      "[I 2024-04-02 22:30:51,601] Trial 42 finished with value: 0.4436589136517147 and parameters: {'n_neighbors': 18, 'metric': 'minkowski'}. Best is trial 25 with value: 0.44476722103723587.\n",
      "[I 2024-04-02 22:30:51,630] Trial 43 finished with value: 0.44076827835770366 and parameters: {'n_neighbors': 21, 'metric': 'minkowski'}. Best is trial 25 with value: 0.44476722103723587.\n",
      "[I 2024-04-02 22:30:51,660] Trial 44 finished with value: 0.44399990043694376 and parameters: {'n_neighbors': 15, 'metric': 'minkowski'}. Best is trial 25 with value: 0.44476722103723587.\n",
      "[I 2024-04-02 22:30:51,686] Trial 45 finished with value: 0.4375510440222925 and parameters: {'n_neighbors': 10, 'metric': 'minkowski'}. Best is trial 25 with value: 0.44476722103723587.\n",
      "[I 2024-04-02 22:30:51,715] Trial 46 finished with value: 0.44404316507076286 and parameters: {'n_neighbors': 13, 'metric': 'minkowski'}. Best is trial 25 with value: 0.44476722103723587.\n",
      "[I 2024-04-02 22:30:51,742] Trial 47 finished with value: 0.3283594169543497 and parameters: {'n_neighbors': 3, 'metric': 'minkowski'}. Best is trial 25 with value: 0.44476722103723587.\n",
      "[I 2024-04-02 22:30:51,769] Trial 48 finished with value: 0.44063146962741406 and parameters: {'n_neighbors': 14, 'metric': 'manhattan'}. Best is trial 25 with value: 0.44476722103723587.\n",
      "[I 2024-04-02 22:30:51,798] Trial 49 finished with value: 0.4296203606401242 and parameters: {'n_neighbors': 8, 'metric': 'minkowski'}. Best is trial 25 with value: 0.44476722103723587.\n"
     ]
    }
   ],
   "source": [
    "from optuna import create_study\n",
    "\n",
    "\n",
    "studies = [None] * len(objectives)\n",
    "for i, (name, objective) in enumerate(objectives):\n",
    "    studies[i] = create_study(study_name=name, direction='maximize')\n",
    "    studies[i].optimize(objective, n_trials=50)"
   ]
  },
  {
   "cell_type": "markdown",
   "metadata": {},
   "source": [
    "## Извлекаем лучшие параметры"
   ]
  },
  {
   "cell_type": "code",
   "execution_count": 96,
   "metadata": {},
   "outputs": [],
   "source": [
    "params = {objectives[i][0]: study.best_params for i, study in enumerate(studies)}"
   ]
  },
  {
   "cell_type": "markdown",
   "metadata": {},
   "source": [
    "# Создание ансамбля"
   ]
  },
  {
   "cell_type": "markdown",
   "metadata": {},
   "source": [
    "В качестве ансамбля был выбран Stacking, на первом уровне наши оптимизированные алгоритмы, в качестве мета-алгоритма выбрана линейная регрессия с L2 регуляризацией с встроенной кросс-валидацией (_RidgeCV_)"
   ]
  },
  {
   "cell_type": "code",
   "execution_count": 97,
   "metadata": {},
   "outputs": [],
   "source": [
    "from sklearn.ensemble import StackingRegressor\n",
    "from sklearn.linear_model import RidgeCV\n",
    "from sklearn.model_selection import KFold\n",
    "\n",
    "\n",
    "regressor_ensemble = StackingRegressor(estimators=[\n",
    "    ('rf', RandomForestRegressor(**params['rf'])),\n",
    "    ('boosting', GradientBoostingRegressor(**params['boosting'])),\n",
    "    ('knn', KNeighborsRegressor(**params['knn'])),\n",
    "    ('xgb', XGBRegressor(**params['xgb']))\n",
    "],\n",
    "                                       final_estimator=RidgeCV(),\n",
    "                                       cv=KFold(n_splits=5),\n",
    "                                       n_jobs=-1)"
   ]
  },
  {
   "cell_type": "markdown",
   "metadata": {},
   "source": [
    "## Обучение ансамбля\n",
    "При инициализации ансамбля была выбрана KFold кросс валидация с 5 сплитами для обучена мета-алгоритма \\\n",
    "Выберем ту же самую кросс валидацию для обучения всего ансамбля"
   ]
  },
  {
   "cell_type": "code",
   "execution_count": 98,
   "metadata": {},
   "outputs": [
    {
     "name": "stdout",
     "output_type": "stream",
     "text": [
      "1 split finished\n",
      "2 split finished\n",
      "3 split finished\n",
      "4 split finished\n",
      "5 split finished\n"
     ]
    },
    {
     "data": {
      "text/plain": [
       "0.47515699847672205"
      ]
     },
     "execution_count": 98,
     "metadata": {},
     "output_type": "execute_result"
    },
    {
     "data": {
      "image/png": "[encoded data removed]",
      "text/plain": [
       "<Figure size 640x480 with 1 Axes>"
      ]
     },
     "metadata": {},
     "output_type": "display_data"
    }
   ],
   "source": [
    "import numpy as np\n",
    "\n",
    "\n",
    "splitter = KFold(n_splits=5)\n",
    "scores = np.empty(0)\n",
    "for i, (train_index, test_index) in enumerate(splitter.split(X, y)):\n",
    "    X_train, y_train = X[train_index], y[train_index]\n",
    "    X_test, y_test = X[test_index], y[test_index]\n",
    "    \n",
    "    regressor_ensemble.fit(X_train, y_train)\n",
    "    \n",
    "    logits = regressor_ensemble.predict(X_test)\n",
    "    scores = np.hstack([scores, r2_score(y_test, logits)])\n",
    "    \n",
    "    print(f'{i + 1} split finished')\n",
    "\n",
    "plt.plot(np.arange(1, scores.size + 1), scores)\n",
    "scores.mean()"
   ]
  },
  {
   "cell_type": "markdown",
   "metadata": {},
   "source": [
    "Отличный результат у ансамбля, среднее значение метрики увеличилось и равно - 0.4752!"
   ]
  },
  {
   "cell_type": "markdown",
   "metadata": {},
   "source": [
    "# Интерпретация результатов\n",
    "У класса _StandartScaler_ есть метод __inverse_transform__, который позволяет привести нормированное значение обратно к немасштабируемому по обратной формуле"
   ]
  },
  {
   "cell_type": "code",
   "execution_count": 110,
   "metadata": {},
   "outputs": [
    {
     "name": "stdout",
     "output_type": "stream",
     "text": [
      "3.2237830658212117 9.933684462532918\n",
      "[[32.96408801]]\n"
     ]
    }
   ],
   "source": [
    "input_ = X[0].reshape(1, -1)\n",
    "logit = regressor_ensemble.predict(input_).reshape(-1, 1)\n",
    "print(scaler.scale_[-1], scaler.mean_[-1])\n",
    "print(dataframe[\"Rings\"].mean(), dataframe[\"Rings\"].std())\n",
    "\n",
    "print((logit + scaler.mean_[-1]) * scaler.scale_[-1])"
   ]
  },
  {
   "cell_type": "markdown",
   "metadata": {},
   "source": [
    "# Возможные улучшения\n",
    "- Разобраться с выбросами\n",
    "- Поэкспериментировать с мета-алгоритмом ансамбля"
   ]
  }
 ],
 "metadata": {
  "kernelspec": {
   "display_name": ".venv",
   "language": "python",
   "name": "python3"
  },
  "language_info": {
   "codemirror_mode": {
    "name": "ipython",
    "version": 3
   },
   "file_extension": ".py",
   "mimetype": "text/x-python",
   "name": "python",
   "nbconvert_exporter": "python",
   "pygments_lexer": "ipython3",
   "version": "3.11.5"
  }
 },
 "nbformat": 4,
 "nbformat_minor": 2
}
