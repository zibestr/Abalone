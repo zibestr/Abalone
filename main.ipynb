{
 "cells": [
  {
   "cell_type": "code",
   "execution_count": 1,
   "metadata": {},
   "outputs": [],
   "source": [
    "import pandas as pd\n",
    "import matplotlib.pyplot as plt\n",
    "\n",
    "%matplotlib inline"
   ]
  },
  {
   "cell_type": "markdown",
   "metadata": {},
   "source": [
    "# Подготовка данных"
   ]
  },
  {
   "cell_type": "markdown",
   "metadata": {},
   "source": [
    "## Загрузка таблицы\n",
    "Таблица лежит в папка data в формате .data (при открытии можете убедиться, что это просто csv таблица без заголовка, поэтому в ручную указываем название столбцов)\n",
    "Orignal data: https://archive.ics.uci.edu/dataset/1/abalone \\\n",
    "Целевой столбец - Rings"
   ]
  },
  {
   "cell_type": "code",
   "execution_count": 2,
   "metadata": {},
   "outputs": [
    {
     "data": {
      "text/html": [
       "<div>\n",
       "<style scoped>\n",
       "    .dataframe tbody tr th:only-of-type {\n",
       "        vertical-align: middle;\n",
       "    }\n",
       "\n",
       "    .dataframe tbody tr th {\n",
       "        vertical-align: top;\n",
       "    }\n",
       "\n",
       "    .dataframe thead th {\n",
       "        text-align: right;\n",
       "    }\n",
       "</style>\n",
       "<table border=\"1\" class=\"dataframe\">\n",
       "  <thead>\n",
       "    <tr style=\"text-align: right;\">\n",
       "      <th></th>\n",
       "      <th>Sex</th>\n",
       "      <th>Length</th>\n",
       "      <th>Diameter</th>\n",
       "      <th>Height</th>\n",
       "      <th>Whole_weight</th>\n",
       "      <th>Shucked_weight</th>\n",
       "      <th>Viscera_weight</th>\n",
       "      <th>Shell_weight</th>\n",
       "      <th>Rings</th>\n",
       "    </tr>\n",
       "  </thead>\n",
       "  <tbody>\n",
       "    <tr>\n",
       "      <th>0</th>\n",
       "      <td>M</td>\n",
       "      <td>0.455</td>\n",
       "      <td>0.365</td>\n",
       "      <td>0.095</td>\n",
       "      <td>0.5140</td>\n",
       "      <td>0.2245</td>\n",
       "      <td>0.1010</td>\n",
       "      <td>0.150</td>\n",
       "      <td>15</td>\n",
       "    </tr>\n",
       "    <tr>\n",
       "      <th>1</th>\n",
       "      <td>M</td>\n",
       "      <td>0.350</td>\n",
       "      <td>0.265</td>\n",
       "      <td>0.090</td>\n",
       "      <td>0.2255</td>\n",
       "      <td>0.0995</td>\n",
       "      <td>0.0485</td>\n",
       "      <td>0.070</td>\n",
       "      <td>7</td>\n",
       "    </tr>\n",
       "    <tr>\n",
       "      <th>2</th>\n",
       "      <td>F</td>\n",
       "      <td>0.530</td>\n",
       "      <td>0.420</td>\n",
       "      <td>0.135</td>\n",
       "      <td>0.6770</td>\n",
       "      <td>0.2565</td>\n",
       "      <td>0.1415</td>\n",
       "      <td>0.210</td>\n",
       "      <td>9</td>\n",
       "    </tr>\n",
       "    <tr>\n",
       "      <th>3</th>\n",
       "      <td>M</td>\n",
       "      <td>0.440</td>\n",
       "      <td>0.365</td>\n",
       "      <td>0.125</td>\n",
       "      <td>0.5160</td>\n",
       "      <td>0.2155</td>\n",
       "      <td>0.1140</td>\n",
       "      <td>0.155</td>\n",
       "      <td>10</td>\n",
       "    </tr>\n",
       "    <tr>\n",
       "      <th>4</th>\n",
       "      <td>I</td>\n",
       "      <td>0.330</td>\n",
       "      <td>0.255</td>\n",
       "      <td>0.080</td>\n",
       "      <td>0.2050</td>\n",
       "      <td>0.0895</td>\n",
       "      <td>0.0395</td>\n",
       "      <td>0.055</td>\n",
       "      <td>7</td>\n",
       "    </tr>\n",
       "  </tbody>\n",
       "</table>\n",
       "</div>"
      ],
      "text/plain": [
       "  Sex  Length  Diameter  Height  Whole_weight  Shucked_weight  Viscera_weight  \\\n",
       "0   M   0.455     0.365   0.095        0.5140          0.2245          0.1010   \n",
       "1   M   0.350     0.265   0.090        0.2255          0.0995          0.0485   \n",
       "2   F   0.530     0.420   0.135        0.6770          0.2565          0.1415   \n",
       "3   M   0.440     0.365   0.125        0.5160          0.2155          0.1140   \n",
       "4   I   0.330     0.255   0.080        0.2050          0.0895          0.0395   \n",
       "\n",
       "   Shell_weight  Rings  \n",
       "0         0.150     15  \n",
       "1         0.070      7  \n",
       "2         0.210      9  \n",
       "3         0.155     10  \n",
       "4         0.055      7  "
      ]
     },
     "execution_count": 2,
     "metadata": {},
     "output_type": "execute_result"
    }
   ],
   "source": [
    "cols = [\"Sex\", \"Length\", \"Diameter\",\n",
    "        \"Height\", \"Whole_weight\",\n",
    "        \"Shucked_weight\", \"Viscera_weight\",\n",
    "        \"Shell_weight\", \"Rings\"]\n",
    "dataframe = pd.read_table(\"data/abalone.data\", sep=\",\", names=cols)\n",
    "dataframe.head(5)"
   ]
  },
  {
   "cell_type": "markdown",
   "metadata": {},
   "source": [
    "### Столбцы\n",
    "Извлекаем название стоблцов и группируем их по типам для дальнейшего анализа"
   ]
  },
  {
   "cell_type": "code",
   "execution_count": 3,
   "metadata": {},
   "outputs": [
    {
     "data": {
      "text/plain": [
       "('Rings',\n",
       " ['Length',\n",
       "  'Diameter',\n",
       "  'Height',\n",
       "  'Whole_weight',\n",
       "  'Shucked_weight',\n",
       "  'Viscera_weight',\n",
       "  'Shell_weight'],\n",
       " 'Sex')"
      ]
     },
     "execution_count": 3,
     "metadata": {},
     "output_type": "execute_result"
    }
   ],
   "source": [
    "int_col = dataframe.select_dtypes(int).columns.to_list()[0]\n",
    "float_cols = dataframe.select_dtypes(float).columns.to_list()\n",
    "cat_col = dataframe.select_dtypes(object).columns.to_list()[0]\n",
    "int_col, float_cols, cat_col"
   ]
  },
  {
   "cell_type": "markdown",
   "metadata": {},
   "source": [
    "#### Категориальные данные\n",
    "У нас получился один категориальный столбец - Sex. Посмотрим его содержимое с помощью pie диаграммы."
   ]
  },
  {
   "cell_type": "code",
   "execution_count": 4,
   "metadata": {},
   "outputs": [
    {
     "data": {
      "text/plain": [
       "([<matplotlib.patches.Wedge at 0x11ec40510>,\n",
       "  <matplotlib.patches.Wedge at 0x11f09b6d0>,\n",
       "  <matplotlib.patches.Wedge at 0x11f0a8950>],\n",
       " [Text(0.45010440780275796, 1.0036961801643607, 'M'),\n",
       "  Text(-1.0848393519507589, -0.18199884741134378, 'F'),\n",
       "  Text(0.6099659291018239, -0.9153914820091725, 'I')])"
      ]
     },
     "execution_count": 4,
     "metadata": {},
     "output_type": "execute_result"
    },
    {
     "data": {
      "image/png": "[encoded data removed]",
      "text/plain": [
       "<Figure size 640x480 with 1 Axes>"
      ]
     },
     "metadata": {},
     "output_type": "display_data"
    }
   ],
   "source": [
    "plt.pie(x=dataframe[cat_col].value_counts().to_numpy(), labels=dataframe[cat_col].unique())"
   ]
  },
  {
   "cell_type": "markdown",
   "metadata": {},
   "source": [
    "Категорий примерно одинаковое количество, что хорошо для обучения моделей"
   ]
  },
  {
   "cell_type": "markdown",
   "metadata": {},
   "source": [
    "#### Целочисленные данные\n",
    "Целочисленных тоже один столбец, это целевой столбец - Rings. Изобразим значения этого столбца на столбчатой диаграмме."
   ]
  },
  {
   "cell_type": "code",
   "execution_count": 5,
   "metadata": {},
   "outputs": [
    {
     "data": {
      "text/plain": [
       "(array([  17.,  431., 1648., 1388.,  329.,  228.,  100.,   29.,    4.,\n",
       "           3.]),\n",
       " array([ 1. ,  3.8,  6.6,  9.4, 12.2, 15. , 17.8, 20.6, 23.4, 26.2, 29. ]),\n",
       " <BarContainer object of 10 artists>)"
      ]
     },
     "execution_count": 5,
     "metadata": {},
     "output_type": "execute_result"
    },
    {
     "data": {
      "image/png": "[encoded data removed]",
      "text/plain": [
       "<Figure size 640x480 with 1 Axes>"
      ]
     },
     "metadata": {},
     "output_type": "display_data"
    }
   ],
   "source": [
    "plt.hist(x=dataframe[int_col].to_numpy())"
   ]
  },
  {
   "cell_type": "markdown",
   "metadata": {},
   "source": [
    "Как видим - у Rings есть некоторые шумы, такие как значения 25-30 и значения близкие к 0, но в целом распределение неплохое"
   ]
  },
  {
   "cell_type": "markdown",
   "metadata": {},
   "source": [
    "#### Вещественные значения\n",
    "Для вещественных значений нарисуем график \"ящик с усиками\". https://wiki.loginom.ru/articles/box-plot.html"
   ]
  },
  {
   "cell_type": "code",
   "execution_count": 6,
   "metadata": {},
   "outputs": [
    {
     "data": {
      "image/png": "[encoded data removed]",
      "text/plain": [
       "<Figure size 1600x1000 with 9 Axes>"
      ]
     },
     "metadata": {},
     "output_type": "display_data"
    }
   ],
   "source": [
    "fig, axes = plt.subplots(nrows=3, ncols=3, figsize=(16,10))\n",
    "\n",
    "count = 0\n",
    "for i in range(3):\n",
    "    for j in range(3):\n",
    "        if count == len(float_cols):\n",
    "            break\n",
    "        \n",
    "        col = float_cols[count]\n",
    "        axes[i, j].boxplot(dataframe[col].to_numpy())\n",
    "        axes[i, j].set_title(col)\n",
    "        axes[i, j].grid()\n",
    "        count += 1"
   ]
  },
  {
   "cell_type": "markdown",
   "metadata": {},
   "source": [
    "На графиках видно, что у данных немало выбросов, но с этим мало что можно сделать, только если удалить данные с выбросами или заменить их на медианные значения, но это может повлиять на качество модели, поэтому лучше выбрать модели устойчивые к выбросам данных."
   ]
  },
  {
   "cell_type": "markdown",
   "metadata": {},
   "source": [
    "#### Кодируем категориальные признаки\n",
    "Категориальный признак всего один, поэтому достаточно LabelEncoder, который вместо категорий подставляет целые числа."
   ]
  },
  {
   "cell_type": "code",
   "execution_count": 7,
   "metadata": {},
   "outputs": [
    {
     "data": {
      "text/html": [
       "<div>\n",
       "<style scoped>\n",
       "    .dataframe tbody tr th:only-of-type {\n",
       "        vertical-align: middle;\n",
       "    }\n",
       "\n",
       "    .dataframe tbody tr th {\n",
       "        vertical-align: top;\n",
       "    }\n",
       "\n",
       "    .dataframe thead th {\n",
       "        text-align: right;\n",
       "    }\n",
       "</style>\n",
       "<table border=\"1\" class=\"dataframe\">\n",
       "  <thead>\n",
       "    <tr style=\"text-align: right;\">\n",
       "      <th></th>\n",
       "      <th>Sex</th>\n",
       "      <th>Length</th>\n",
       "      <th>Diameter</th>\n",
       "      <th>Height</th>\n",
       "      <th>Whole_weight</th>\n",
       "      <th>Shucked_weight</th>\n",
       "      <th>Viscera_weight</th>\n",
       "      <th>Shell_weight</th>\n",
       "      <th>Rings</th>\n",
       "    </tr>\n",
       "  </thead>\n",
       "  <tbody>\n",
       "    <tr>\n",
       "      <th>0</th>\n",
       "      <td>2</td>\n",
       "      <td>0.455</td>\n",
       "      <td>0.365</td>\n",
       "      <td>0.095</td>\n",
       "      <td>0.5140</td>\n",
       "      <td>0.2245</td>\n",
       "      <td>0.1010</td>\n",
       "      <td>0.150</td>\n",
       "      <td>15</td>\n",
       "    </tr>\n",
       "    <tr>\n",
       "      <th>1</th>\n",
       "      <td>2</td>\n",
       "      <td>0.350</td>\n",
       "      <td>0.265</td>\n",
       "      <td>0.090</td>\n",
       "      <td>0.2255</td>\n",
       "      <td>0.0995</td>\n",
       "      <td>0.0485</td>\n",
       "      <td>0.070</td>\n",
       "      <td>7</td>\n",
       "    </tr>\n",
       "    <tr>\n",
       "      <th>2</th>\n",
       "      <td>0</td>\n",
       "      <td>0.530</td>\n",
       "      <td>0.420</td>\n",
       "      <td>0.135</td>\n",
       "      <td>0.6770</td>\n",
       "      <td>0.2565</td>\n",
       "      <td>0.1415</td>\n",
       "      <td>0.210</td>\n",
       "      <td>9</td>\n",
       "    </tr>\n",
       "    <tr>\n",
       "      <th>3</th>\n",
       "      <td>2</td>\n",
       "      <td>0.440</td>\n",
       "      <td>0.365</td>\n",
       "      <td>0.125</td>\n",
       "      <td>0.5160</td>\n",
       "      <td>0.2155</td>\n",
       "      <td>0.1140</td>\n",
       "      <td>0.155</td>\n",
       "      <td>10</td>\n",
       "    </tr>\n",
       "    <tr>\n",
       "      <th>4</th>\n",
       "      <td>1</td>\n",
       "      <td>0.330</td>\n",
       "      <td>0.255</td>\n",
       "      <td>0.080</td>\n",
       "      <td>0.2050</td>\n",
       "      <td>0.0895</td>\n",
       "      <td>0.0395</td>\n",
       "      <td>0.055</td>\n",
       "      <td>7</td>\n",
       "    </tr>\n",
       "  </tbody>\n",
       "</table>\n",
       "</div>"
      ],
      "text/plain": [
       "   Sex  Length  Diameter  Height  Whole_weight  Shucked_weight  \\\n",
       "0    2   0.455     0.365   0.095        0.5140          0.2245   \n",
       "1    2   0.350     0.265   0.090        0.2255          0.0995   \n",
       "2    0   0.530     0.420   0.135        0.6770          0.2565   \n",
       "3    2   0.440     0.365   0.125        0.5160          0.2155   \n",
       "4    1   0.330     0.255   0.080        0.2050          0.0895   \n",
       "\n",
       "   Viscera_weight  Shell_weight  Rings  \n",
       "0          0.1010         0.150     15  \n",
       "1          0.0485         0.070      7  \n",
       "2          0.1415         0.210      9  \n",
       "3          0.1140         0.155     10  \n",
       "4          0.0395         0.055      7  "
      ]
     },
     "execution_count": 7,
     "metadata": {},
     "output_type": "execute_result"
    }
   ],
   "source": [
    "from sklearn.preprocessing import LabelEncoder\n",
    "\n",
    "\n",
    "cat_encoder = LabelEncoder()\n",
    "cat_encoder.fit(dataframe[cat_col])\n",
    "dataframe[cat_col] = cat_encoder.transform(dataframe[cat_col])\n",
    "dataframe.head(5)"
   ]
  },
  {
   "cell_type": "markdown",
   "metadata": {},
   "source": [
    "### Корреляция данных\n",
    "Изучем корреляцию данных для линейных зависимостей"
   ]
  },
  {
   "cell_type": "code",
   "execution_count": 8,
   "metadata": {},
   "outputs": [
    {
     "data": {
      "text/plain": [
       "<matplotlib.image.AxesImage at 0x158b28410>"
      ]
     },
     "execution_count": 8,
     "metadata": {},
     "output_type": "execute_result"
    },
    {
     "data": {
      "image/png": "[encoded data removed]",
      "text/plain": [
       "<Figure size 640x480 with 1 Axes>"
      ]
     },
     "metadata": {},
     "output_type": "display_data"
    }
   ],
   "source": [
    "plt.imshow(dataframe.corr())"
   ]
  },
  {
   "cell_type": "markdown",
   "metadata": {},
   "source": [
    "Как видим последний столбец не очень хорошо коррелирует со всеми остальными, значит линейные модели буду показывать небольшую точность"
   ]
  },
  {
   "cell_type": "markdown",
   "metadata": {},
   "source": [
    "## Нормализуем данные\n",
    "Нормализуем данные и извлечем X и y в numpy массивы"
   ]
  },
  {
   "cell_type": "code",
   "execution_count": 74,
   "metadata": {},
   "outputs": [
    {
     "name": "stderr",
     "output_type": "stream",
     "text": [
      "/Users/danila/Documents/Python Projects/Kaggle/.venv/lib/python3.11/site-packages/sklearn/base.py:486: UserWarning: X has feature names, but StandardScaler was fitted without feature names\n",
      "  warnings.warn(\n"
     ]
    },
    {
     "data": {
      "text/plain": [
       "((4177, 8), (4177,))"
      ]
     },
     "execution_count": 74,
     "metadata": {},
     "output_type": "execute_result"
    }
   ],
   "source": [
    "from sklearn.preprocessing import StandardScaler\n",
    "\n",
    "scaler = StandardScaler()\n",
    "scaler.fit(dataframe.to_numpy())\n",
    "data = scaler.transform(dataframe)\n",
    "X, y = data[:, :-1], data[:, -1]\n",
    "X.shape, y.shape"
   ]
  },
  {
   "cell_type": "markdown",
   "metadata": {},
   "source": [
    "# Выбор моделей"
   ]
  },
  {
   "cell_type": "markdown",
   "metadata": {},
   "source": [
    "## Кросс валидация\n",
    "Выберем модели на основе метрики R^2 с помощью cross_val_score \\\n",
    "Значения метрики лежат от 0 до 1 (самая точная модель), но могут получатся и отрицательные значения "
   ]
  },
  {
   "cell_type": "code",
   "execution_count": 75,
   "metadata": {},
   "outputs": [],
   "source": [
    "# создает из введенное с уже инициализированными параметрами\n",
    "from functools import partial\n",
    "from sklearn.metrics import r2_score, make_scorer\n",
    "from sklearn.model_selection import cross_val_score\n",
    "\n",
    "\n",
    "scorer = make_scorer(r2_score)\n",
    "validate = partial(cross_val_score, X=X, y=y, cv=5, n_jobs=-1, scoring=scorer)"
   ]
  },
  {
   "cell_type": "markdown",
   "metadata": {},
   "source": [
    "### Импортируем алгоритмы"
   ]
  },
  {
   "cell_type": "code",
   "execution_count": 76,
   "metadata": {},
   "outputs": [],
   "source": [
    "from sklearn.linear_model import LinearRegression, Ridge, Lasso, ElasticNet\n",
    "from sklearn.ensemble import RandomForestRegressor, GradientBoostingRegressor\n",
    "from sklearn.neighbors import KNeighborsRegressor\n",
    "from xgboost import XGBRegressor\n",
    "from sklearn.tree import DecisionTreeRegressor"
   ]
  },
  {
   "cell_type": "markdown",
   "metadata": {},
   "source": [
    "### Линейная регрессия"
   ]
  },
  {
   "cell_type": "code",
   "execution_count": 77,
   "metadata": {},
   "outputs": [
    {
     "data": {
      "text/plain": [
       "0.39803615577874024"
      ]
     },
     "execution_count": 77,
     "metadata": {},
     "output_type": "execute_result"
    }
   ],
   "source": [
    "validate(LinearRegression()).mean()"
   ]
  },
  {
   "cell_type": "markdown",
   "metadata": {},
   "source": [
    "### Линейная регрессия с L2 регуляризацией"
   ]
  },
  {
   "cell_type": "code",
   "execution_count": 78,
   "metadata": {},
   "outputs": [
    {
     "data": {
      "text/plain": [
       "0.39883812008570196"
      ]
     },
     "execution_count": 78,
     "metadata": {},
     "output_type": "execute_result"
    }
   ],
   "source": [
    "validate(Ridge()).mean()"
   ]
  },
  {
   "cell_type": "markdown",
   "metadata": {},
   "source": [
    "### Линейная регрессия с L1 регуляризацией"
   ]
  },
  {
   "cell_type": "code",
   "execution_count": 79,
   "metadata": {},
   "outputs": [
    {
     "data": {
      "text/plain": [
       "-0.2090330540722419"
      ]
     },
     "execution_count": 79,
     "metadata": {},
     "output_type": "execute_result"
    }
   ],
   "source": [
    "validate(Lasso()).mean()"
   ]
  },
  {
   "cell_type": "markdown",
   "metadata": {},
   "source": [
    "### Линейная регрессия с L1 и L2 регуляризациями"
   ]
  },
  {
   "cell_type": "code",
   "execution_count": 80,
   "metadata": {},
   "outputs": [
    {
     "data": {
      "text/plain": [
       "-0.076376059316807"
      ]
     },
     "execution_count": 80,
     "metadata": {},
     "output_type": "execute_result"
    }
   ],
   "source": [
    "validate(ElasticNet()).mean()"
   ]
  },
  {
   "cell_type": "markdown",
   "metadata": {},
   "source": [
    "### Случайный лес"
   ]
  },
  {
   "cell_type": "code",
   "execution_count": 81,
   "metadata": {},
   "outputs": [
    {
     "data": {
      "text/plain": [
       "0.4403316342374315"
      ]
     },
     "execution_count": 81,
     "metadata": {},
     "output_type": "execute_result"
    }
   ],
   "source": [
    "validate(RandomForestRegressor()).mean()"
   ]
  },
  {
   "cell_type": "markdown",
   "metadata": {},
   "source": [
    "### Градиентный бустинг"
   ]
  },
  {
   "cell_type": "code",
   "execution_count": 82,
   "metadata": {},
   "outputs": [
    {
     "data": {
      "text/plain": [
       "0.4632399016247442"
      ]
     },
     "execution_count": 82,
     "metadata": {},
     "output_type": "execute_result"
    }
   ],
   "source": [
    "validate(GradientBoostingRegressor()).mean()"
   ]
  },
  {
   "cell_type": "markdown",
   "metadata": {},
   "source": [
    "### XGBoosting"
   ]
  },
  {
   "cell_type": "code",
   "execution_count": 83,
   "metadata": {},
   "outputs": [
    {
     "data": {
      "text/plain": [
       "0.39163807497663533"
      ]
     },
     "execution_count": 83,
     "metadata": {},
     "output_type": "execute_result"
    }
   ],
   "source": [
    "validate(XGBRegressor()).mean()"
   ]
  },
  {
   "cell_type": "markdown",
   "metadata": {},
   "source": [
    "### К-ближайших соседей"
   ]
  },
  {
   "cell_type": "code",
   "execution_count": 84,
   "metadata": {},
   "outputs": [
    {
     "data": {
      "text/plain": [
       "0.4023810671413547"
      ]
     },
     "execution_count": 84,
     "metadata": {},
     "output_type": "execute_result"
    }
   ],
   "source": [
    "validate(KNeighborsRegressor()).mean()"
   ]
  },
  {
   "cell_type": "markdown",
   "metadata": {},
   "source": [
    "### Решающее дерево"
   ]
  },
  {
   "cell_type": "code",
   "execution_count": 85,
   "metadata": {},
   "outputs": [
    {
     "data": {
      "text/plain": [
       "-0.19038828536303773"
      ]
     },
     "execution_count": 85,
     "metadata": {},
     "output_type": "execute_result"
    }
   ],
   "source": [
    "validate(DecisionTreeRegressor()).mean()"
   ]
  },
  {
   "cell_type": "markdown",
   "metadata": {},
   "source": [
    "Самыми точными моделями получились - К-ближайших соседей, XGBoosting, Градиентный бустинг и Случайный лес \\\n",
    "Заметим, что 3 из 4 алгоритмов основаны на решающих деревьях, значит РД - это база!"
   ]
  },
  {
   "cell_type": "markdown",
   "metadata": {},
   "source": [
    "# Оптимизация гиперпараметров\n",
    "Найдем оптимальные гиперпараметры выбранных моделей \\\n",
    "Оптимизацию проведем с помощьюб библиотеки [__optuna__](https://optuna.org/) \\\n",
    "Можно также воспользоваться средствами __scikit-learn__ из модуля __model_selection__, но он предоставляет только оптимизацию гиперпараметров по сетке (GridSearchCV) и случайный поиск по сетке (RandomSearchCV), но данные алгоритмы не являются оптимальными"
   ]
  },
  {
   "cell_type": "code",
   "execution_count": 94,
   "metadata": {},
   "outputs": [],
   "source": [
    "def xgb_objective(trial):\n",
    "    params = {\n",
    "        'booster': trial.suggest_categorical('booster', ['gbtree', 'gblinear', 'dart']),\n",
    "        'lambda': trial.suggest_float('lambda', 1e-8, 1.0, log=True),\n",
    "        'alpha': trial.suggest_float('alpha', 1e-8, 1.0, log=True),\n",
    "        'learning_rate': trial.suggest_float('learning_rate', 1e-4, 5e-1, log=True),\n",
    "        'n_estimators': trial.suggest_int('n_estimators', 10, 500, log=True)\n",
    "    }\n",
    "    regression_obj = XGBRegressor(**params)\n",
    "    \n",
    "    score = validate(regression_obj).mean()\n",
    "    return score\n",
    "\n",
    "\n",
    "def random_forest_objective(trial):\n",
    "    rf_max_depth = trial.suggest_int('max_depth', 2, 32, log=True)\n",
    "    rf_n_estimators = trial.suggest_int('n_estimators', 10, 500, step=20)\n",
    "    regression_obj = RandomForestRegressor(max_depth=rf_max_depth, n_estimators=rf_n_estimators)\n",
    "    \n",
    "    score = validate(regression_obj).mean()\n",
    "    return score\n",
    "\n",
    "\n",
    "def boosting_objective(trial):\n",
    "    bst_max_depth = trial.suggest_int('max_depth', 2, 32, log=True)\n",
    "    bst_lr = trial.suggest_float('learning_rate', 1e-4, 5e-1, log=True)\n",
    "    bst_min_samples_split = trial.suggest_int('min_samples_split', 2, 5, log=True)\n",
    "    bst_n_estimators = trial.suggest_int('n_estimators', 10, 500, log=True)\n",
    "    regression_obj = GradientBoostingRegressor(n_estimators=bst_n_estimators,\n",
    "                                               max_depth=bst_max_depth,\n",
    "                                               min_samples_split=bst_min_samples_split,\n",
    "                                               learning_rate=bst_lr)\n",
    "    \n",
    "    score = validate(regression_obj).mean()\n",
    "    return score\n",
    "\n",
    "\n",
    "def knn_objective(trial):\n",
    "    knn_n_neighbors = trial.suggest_int('n_neighbors', 2, 21, step=1, log=True)\n",
    "    knn_metric = trial.suggest_categorical('metric', ['manhattan', 'euclidean', 'minkowski'])\n",
    "    regression_obj = KNeighborsRegressor(n_neighbors=knn_n_neighbors,\n",
    "                                         metric=knn_metric)\n",
    "    \n",
    "    score = validate(regression_obj).mean()\n",
    "    return score\n",
    "\n",
    "\n",
    "objectives = [\n",
    "    ('xgb', xgb_objective),\n",
    "    ('rf', random_forest_objective),\n",
    "    ('boosting', boosting_objective),\n",
    "    ('knn', knn_objective)\n",
    "]"
   ]
  },
  {
   "cell_type": "markdown",
   "metadata": {},
   "source": [
    "## Создаем Study объекты для каждой модели\n",
    "Оптимизация занимает продолжительное время, у меня получилось около 15 минут"
   ]
  },
  {
   "cell_type": "code",
   "execution_count": 116,
   "metadata": {},
   "outputs": [
    {
     "name": "stderr",
     "output_type": "stream",
     "text": [
      "[I 2024-04-02 22:45:57,523] A new study created in memory with name: xgb\n",
      "[I 2024-04-02 22:45:58,461] Trial 0 finished with value: -0.15690441194954338 and parameters: {'booster': 'gbtree', 'lambda': 4.124098300656127e-05, 'alpha': 0.028268557563523783, 'learning_rate': 0.0007798747874934989, 'n_estimators': 53}. Best is trial 0 with value: -0.15690441194954338.\n",
      "[I 2024-04-02 22:45:58,846] Trial 1 finished with value: -0.19807662809551235 and parameters: {'booster': 'gblinear', 'lambda': 8.0349439487715e-05, 'alpha': 0.5055881490872028, 'learning_rate': 0.0005314339005948595, 'n_estimators': 39}. Best is trial 0 with value: -0.15690441194954338.\n",
      "[I 2024-04-02 22:45:59,962] Trial 2 finished with value: -0.18341392508343174 and parameters: {'booster': 'dart', 'lambda': 3.4653652147930366e-05, 'alpha': 1.1870127916555968e-08, 'learning_rate': 0.0002730481940397657, 'n_estimators': 73}. Best is trial 0 with value: -0.15690441194954338.\n",
      "[I 2024-04-02 22:46:02,299] Trial 3 finished with value: 0.4553964381602258 and parameters: {'booster': 'dart', 'lambda': 1.3060995171682352e-05, 'alpha': 0.006596249494880218, 'learning_rate': 0.036441567457527475, 'n_estimators': 124}. Best is trial 3 with value: 0.4553964381602258.\n",
      "[I 2024-04-02 22:46:02,380] Trial 4 finished with value: 0.39279723454179283 and parameters: {'booster': 'gbtree', 'lambda': 7.464853992118589e-06, 'alpha': 2.761845516378587e-07, 'learning_rate': 0.2465445717943074, 'n_estimators': 70}. Best is trial 3 with value: 0.4553964381602258.\n",
      "[I 2024-04-02 22:46:08,275] Trial 5 finished with value: 0.4400888059180753 and parameters: {'booster': 'dart', 'lambda': 5.968209325630623e-08, 'alpha': 5.983436694473031e-06, 'learning_rate': 0.008838150143316735, 'n_estimators': 211}. Best is trial 3 with value: 0.4553964381602258.\n",
      "[I 2024-04-02 22:46:08,351] Trial 6 finished with value: 0.44315162967401667 and parameters: {'booster': 'dart', 'lambda': 0.0006451296843135192, 'alpha': 1.4304190283677979e-05, 'learning_rate': 0.1716207856146189, 'n_estimators': 19}. Best is trial 3 with value: 0.4553964381602258.\n",
      "[I 2024-04-02 22:46:08,379] Trial 7 finished with value: 0.09342757413746834 and parameters: {'booster': 'gbtree', 'lambda': 0.0017689940103533936, 'alpha': 0.2164294195764571, 'learning_rate': 0.022156971912024054, 'n_estimators': 14}. Best is trial 3 with value: 0.4553964381602258.\n",
      "[I 2024-04-02 22:46:08,431] Trial 8 finished with value: -0.20442895387363552 and parameters: {'booster': 'gbtree', 'lambda': 0.00010202330976406551, 'alpha': 0.0036266202242601787, 'learning_rate': 0.00010066560655747188, 'n_estimators': 35}. Best is trial 3 with value: 0.4553964381602258.\n",
      "[I 2024-04-02 22:46:19,549] Trial 9 finished with value: 0.42712197516199846 and parameters: {'booster': 'dart', 'lambda': 0.09224889362251446, 'alpha': 0.00029347321025892186, 'learning_rate': 0.05536907435808723, 'n_estimators': 285}. Best is trial 3 with value: 0.4553964381602258.\n",
      "[I 2024-04-02 22:46:19,594] Trial 10 finished with value: 0.17550533349413153 and parameters: {'booster': 'gblinear', 'lambda': 1.0915081229586832e-07, 'alpha': 0.0007760738094050536, 'learning_rate': 0.0021627317150982326, 'n_estimators': 149}. Best is trial 3 with value: 0.4553964381602258.\n",
      "[I 2024-04-02 22:46:19,638] Trial 11 finished with value: 0.41771410901628164 and parameters: {'booster': 'dart', 'lambda': 0.008103689890303968, 'alpha': 1.425167000950243e-05, 'learning_rate': 0.4303489134412538, 'n_estimators': 10}. Best is trial 3 with value: 0.4553964381602258.\n",
      "[I 2024-04-02 22:46:19,755] Trial 12 finished with value: 0.448960556624049 and parameters: {'booster': 'dart', 'lambda': 1.0858690126983385e-06, 'alpha': 2.6408901268369907e-05, 'learning_rate': 0.09402459730869925, 'n_estimators': 24}. Best is trial 3 with value: 0.4553964381602258.\n",
      "[I 2024-04-02 22:46:22,032] Trial 13 finished with value: 0.44958713107403037 and parameters: {'booster': 'dart', 'lambda': 7.54055349236795e-07, 'alpha': 0.005072151353805352, 'learning_rate': 0.06319714311201151, 'n_estimators': 125}. Best is trial 3 with value: 0.4553964381602258.\n",
      "[I 2024-04-02 22:46:24,527] Trial 14 finished with value: 0.45698705937826467 and parameters: {'booster': 'dart', 'lambda': 1.3966417891245545e-06, 'alpha': 0.009888442879090681, 'learning_rate': 0.02392004590648098, 'n_estimators': 130}. Best is trial 14 with value: 0.45698705937826467.\n",
      "[I 2024-04-02 22:46:55,082] Trial 15 finished with value: 0.45911701303855823 and parameters: {'booster': 'dart', 'lambda': 1.5763083560621475e-08, 'alpha': 0.06473010211972988, 'learning_rate': 0.008341478458202137, 'n_estimators': 448}. Best is trial 15 with value: 0.45911701303855823.\n",
      "[I 2024-04-02 22:46:55,197] Trial 16 finished with value: 0.2144128892337119 and parameters: {'booster': 'gblinear', 'lambda': 1.3779268078549149e-08, 'alpha': 0.09529882107562467, 'learning_rate': 0.005099877625632524, 'n_estimators': 487}. Best is trial 15 with value: 0.45911701303855823.\n",
      "[I 2024-04-02 22:47:21,242] Trial 17 finished with value: 0.45242321897949267 and parameters: {'booster': 'dart', 'lambda': 1.0419076299967613e-08, 'alpha': 0.03985581526119747, 'learning_rate': 0.013351686912435748, 'n_estimators': 401}. Best is trial 15 with value: 0.45911701303855823.\n",
      "[I 2024-04-02 22:47:32,671] Trial 18 finished with value: 0.3163596417660046 and parameters: {'booster': 'dart', 'lambda': 1.342985878242824e-06, 'alpha': 0.0008627615379510782, 'learning_rate': 0.003082407746698476, 'n_estimators': 261}. Best is trial 15 with value: 0.45911701303855823.\n",
      "[I 2024-04-02 22:47:32,725] Trial 19 finished with value: -0.20903305144154394 and parameters: {'booster': 'gblinear', 'lambda': 1.802980638713806e-07, 'alpha': 0.7293737963397587, 'learning_rate': 0.001786986407203494, 'n_estimators': 185}. Best is trial 15 with value: 0.45911701303855823.\n",
      "[I 2024-04-02 22:47:34,142] Trial 20 finished with value: 0.42794888051968805 and parameters: {'booster': 'dart', 'lambda': 3.652067982474456e-07, 'alpha': 0.02045252385585013, 'learning_rate': 0.018470469324729084, 'n_estimators': 87}. Best is trial 15 with value: 0.45911701303855823.\n",
      "[I 2024-04-02 22:47:36,453] Trial 21 finished with value: 0.45881141055730684 and parameters: {'booster': 'dart', 'lambda': 5.354720012376971e-06, 'alpha': 0.005247521826037652, 'learning_rate': 0.03127363198469129, 'n_estimators': 115}. Best is trial 15 with value: 0.45911701303855823.\n",
      "[I 2024-04-02 22:47:38,439] Trial 22 finished with value: 0.28042814290856255 and parameters: {'booster': 'dart', 'lambda': 3.895322706645154e-06, 'alpha': 0.00014710883545222855, 'learning_rate': 0.006467496660994312, 'n_estimators': 106}. Best is trial 15 with value: 0.45911701303855823.\n",
      "[I 2024-04-02 22:48:03,159] Trial 23 finished with value: 0.4408948249683934 and parameters: {'booster': 'dart', 'lambda': 4.136485139107476e-08, 'alpha': 0.0013035678931331213, 'learning_rate': 0.029420421515180623, 'n_estimators': 371}. Best is trial 15 with value: 0.45911701303855823.\n",
      "[I 2024-04-02 22:48:03,688] Trial 24 finished with value: 0.21771711558141876 and parameters: {'booster': 'dart', 'lambda': 3.047302314148336e-06, 'alpha': 0.012820757654604897, 'learning_rate': 0.01037986624215657, 'n_estimators': 51}. Best is trial 15 with value: 0.45911701303855823.\n",
      "[I 2024-04-02 22:48:10,499] Trial 25 finished with value: 0.3036889167724754 and parameters: {'booster': 'dart', 'lambda': 2.7840084333607694e-07, 'alpha': 0.10556932029948295, 'learning_rate': 0.0041592724758100965, 'n_estimators': 183}. Best is trial 15 with value: 0.45911701303855823.\n",
      "[I 2024-04-02 22:48:29,588] Trial 26 finished with value: 0.38720522186117873 and parameters: {'booster': 'dart', 'lambda': 0.00032830805364303866, 'alpha': 0.0027248102315549014, 'learning_rate': 0.11124686300550604, 'n_estimators': 317}. Best is trial 15 with value: 0.45911701303855823.\n",
      "[I 2024-04-02 22:48:31,467] Trial 27 finished with value: 0.46001538079264465 and parameters: {'booster': 'dart', 'lambda': 3.363895208962735e-08, 'alpha': 0.06358247296756196, 'learning_rate': 0.03428536870214554, 'n_estimators': 98}. Best is trial 27 with value: 0.46001538079264465.\n",
      "[I 2024-04-02 22:48:31,537] Trial 28 finished with value: 0.2250817097739703 and parameters: {'booster': 'gblinear', 'lambda': 3.278209076764336e-08, 'alpha': 0.17182941078881608, 'learning_rate': 0.04629345926125104, 'n_estimators': 231}. Best is trial 27 with value: 0.46001538079264465.\n",
      "[I 2024-04-02 22:48:31,619] Trial 29 finished with value: 0.2799887301156059 and parameters: {'booster': 'gbtree', 'lambda': 1.0431037146084369e-08, 'alpha': 0.02448611004287597, 'learning_rate': 0.0145141901399649, 'n_estimators': 47}. Best is trial 27 with value: 0.46001538079264465.\n",
      "[I 2024-04-02 22:48:31,727] Trial 30 finished with value: -0.06894094197789732 and parameters: {'booster': 'gbtree', 'lambda': 0.018207614302823114, 'alpha': 0.9895856553633451, 'learning_rate': 0.0013160160778156321, 'n_estimators': 92}. Best is trial 27 with value: 0.46001538079264465.\n",
      "[I 2024-04-02 22:48:35,947] Trial 31 finished with value: 0.45661608694850087 and parameters: {'booster': 'dart', 'lambda': 2.1234222620941708e-05, 'alpha': 0.05502651192625444, 'learning_rate': 0.0268348612666588, 'n_estimators': 150}. Best is trial 27 with value: 0.46001538079264465.\n",
      "[I 2024-04-02 22:48:36,983] Trial 32 finished with value: 0.45559703903668713 and parameters: {'booster': 'dart', 'lambda': 0.9959963664152737, 'alpha': 0.010854901606878018, 'learning_rate': 0.07722465846298182, 'n_estimators': 70}. Best is trial 27 with value: 0.46001538079264465.\n",
      "[I 2024-04-02 22:48:37,260] Trial 33 finished with value: 0.07449964394049147 and parameters: {'booster': 'dart', 'lambda': 5.087709337337616e-07, 'alpha': 0.28934110838738303, 'learning_rate': 0.008647049116750464, 'n_estimators': 33}. Best is trial 27 with value: 0.46001538079264465.\n",
      "[I 2024-04-02 22:48:37,893] Trial 34 finished with value: 0.43536230763038397 and parameters: {'booster': 'dart', 'lambda': 1.326416615637737e-07, 'alpha': 0.02905196279299352, 'learning_rate': 0.031187907602109, 'n_estimators': 56}. Best is trial 27 with value: 0.46001538079264465.\n",
      "[I 2024-04-02 22:48:40,637] Trial 35 finished with value: -0.07982043543195286 and parameters: {'booster': 'dart', 'lambda': 5.537644224682787e-05, 'alpha': 0.00037755681102087896, 'learning_rate': 0.0009103823752808308, 'n_estimators': 120}. Best is trial 27 with value: 0.46001538079264465.\n",
      "[I 2024-04-02 22:48:42,011] Trial 36 finished with value: 0.4289659678517922 and parameters: {'booster': 'dart', 'lambda': 6.910000385165557e-06, 'alpha': 0.002703195650524732, 'learning_rate': 0.1422079122680361, 'n_estimators': 85}. Best is trial 27 with value: 0.46001538079264465.\n",
      "[I 2024-04-02 22:48:42,067] Trial 37 finished with value: 0.34368973981983536 and parameters: {'booster': 'gblinear', 'lambda': 4.0423260775472336e-08, 'alpha': 0.008553625197947235, 'learning_rate': 0.04253193858309275, 'n_estimators': 178}. Best is trial 27 with value: 0.46001538079264465.\n",
      "[I 2024-04-02 22:48:42,885] Trial 38 finished with value: 0.37906344177797413 and parameters: {'booster': 'dart', 'lambda': 2.3711857379572727e-06, 'alpha': 2.6996143008714892e-08, 'learning_rate': 0.017428653717052975, 'n_estimators': 64}. Best is trial 27 with value: 0.46001538079264465.\n",
      "[I 2024-04-02 22:48:43,051] Trial 39 finished with value: -0.13181560003741996 and parameters: {'booster': 'gbtree', 'lambda': 1.0265816666159205e-05, 'alpha': 0.08762142717058606, 'learning_rate': 0.00043113655020003884, 'n_estimators': 145}. Best is trial 27 with value: 0.46001538079264465.\n",
      "[I 2024-04-02 22:48:43,224] Trial 40 finished with value: 0.42431849556045326 and parameters: {'booster': 'dart', 'lambda': 7.078676388571018e-08, 'alpha': 0.3809266432334535, 'learning_rate': 0.2687452725243903, 'n_estimators': 26}. Best is trial 27 with value: 0.46001538079264465.\n",
      "[I 2024-04-02 22:48:47,661] Trial 41 finished with value: 0.45721138501801645 and parameters: {'booster': 'dart', 'lambda': 2.6353781478355118e-05, 'alpha': 0.047427325641560436, 'learning_rate': 0.025267464200212968, 'n_estimators': 154}. Best is trial 27 with value: 0.46001538079264465.\n",
      "[I 2024-04-02 22:48:49,812] Trial 42 finished with value: 0.4120807988775875 and parameters: {'booster': 'dart', 'lambda': 0.0001861587027254029, 'alpha': 0.042852140825941076, 'learning_rate': 0.013367924504915767, 'n_estimators': 106}. Best is trial 27 with value: 0.46001538079264465.\n",
      "[I 2024-04-02 22:48:58,888] Trial 43 finished with value: 0.4537770612664797 and parameters: {'booster': 'dart', 'lambda': 4.702060498186708e-05, 'alpha': 0.1996686384352963, 'learning_rate': 0.02455596760218518, 'n_estimators': 224}. Best is trial 27 with value: 0.46001538079264465.\n",
      "[I 2024-04-02 22:49:01,884] Trial 44 finished with value: 0.4547941590289172 and parameters: {'booster': 'dart', 'lambda': 2.592891743299176e-05, 'alpha': 0.0055767151159330595, 'learning_rate': 0.038340376912546915, 'n_estimators': 128}. Best is trial 27 with value: 0.46001538079264465.\n",
      "[I 2024-04-02 22:49:03,473] Trial 45 finished with value: 0.27151550783711553 and parameters: {'booster': 'dart', 'lambda': 0.001897180738864632, 'alpha': 5.308581352229631e-05, 'learning_rate': 0.0070923435790448365, 'n_estimators': 93}. Best is trial 27 with value: 0.46001538079264465.\n",
      "[I 2024-04-02 22:49:04,536] Trial 46 finished with value: 0.4523321055176635 and parameters: {'booster': 'dart', 'lambda': 0.00013198844413160395, 'alpha': 0.00146204335927588, 'learning_rate': 0.06344329599746212, 'n_estimators': 74}. Best is trial 27 with value: 0.46001538079264465.\n",
      "[I 2024-04-02 22:49:04,732] Trial 47 finished with value: 0.43087927771191337 and parameters: {'booster': 'gbtree', 'lambda': 1.705303902530936e-06, 'alpha': 3.488793470824218e-07, 'learning_rate': 0.011204663910287998, 'n_estimators': 150}. Best is trial 27 with value: 0.46001538079264465.\n",
      "[I 2024-04-02 22:49:22,619] Trial 48 finished with value: 0.39212546419770944 and parameters: {'booster': 'dart', 'lambda': 6.44019121361546e-06, 'alpha': 0.013080860320971902, 'learning_rate': 0.004033037390326593, 'n_estimators': 303}. Best is trial 27 with value: 0.46001538079264465.\n",
      "[I 2024-04-02 22:49:22,724] Trial 49 finished with value: 0.2411665439148328 and parameters: {'booster': 'gblinear', 'lambda': 7.408245016437713e-07, 'alpha': 0.08040276321855618, 'learning_rate': 0.0200260791101675, 'n_estimators': 477}. Best is trial 27 with value: 0.46001538079264465.\n",
      "[I 2024-04-02 22:49:25,275] Trial 50 finished with value: 0.43330222650624906 and parameters: {'booster': 'dart', 'lambda': 2.7208651657153962e-08, 'alpha': 2.5804046314728717e-06, 'learning_rate': 0.0992711636812832, 'n_estimators': 109}. Best is trial 27 with value: 0.46001538079264465.\n",
      "[I 2024-04-02 22:49:30,233] Trial 51 finished with value: 0.45372391843093035 and parameters: {'booster': 'dart', 'lambda': 2.6018037317093254e-05, 'alpha': 0.06813240826457491, 'learning_rate': 0.027374905619394235, 'n_estimators': 161}. Best is trial 27 with value: 0.46001538079264465.\n",
      "[I 2024-04-02 22:49:37,731] Trial 52 finished with value: 0.44844399991917766 and parameters: {'booster': 'dart', 'lambda': 1.7908578145947724e-05, 'alpha': 0.03712822956062899, 'learning_rate': 0.04353465386086881, 'n_estimators': 200}. Best is trial 27 with value: 0.46001538079264465.\n",
      "[I 2024-04-02 22:49:49,304] Trial 53 finished with value: 0.4568274502325657 and parameters: {'booster': 'dart', 'lambda': 1.5678412015820422e-05, 'alpha': 0.16769128207711975, 'learning_rate': 0.022151794327860012, 'n_estimators': 248}. Best is trial 27 with value: 0.46001538079264465.\n",
      "[I 2024-04-02 22:50:02,740] Trial 54 finished with value: 0.43243542539542756 and parameters: {'booster': 'dart', 'lambda': 2.314158492669479e-07, 'alpha': 0.18548764803105414, 'learning_rate': 0.0581307990468584, 'n_estimators': 261}. Best is trial 27 with value: 0.46001538079264465.\n",
      "[I 2024-04-02 22:50:32,594] Trial 55 finished with value: -0.15683565878255587 and parameters: {'booster': 'dart', 'lambda': 0.000407677260569725, 'alpha': 0.44740856742929125, 'learning_rate': 0.00010807366650430638, 'n_estimators': 382}. Best is trial 27 with value: 0.46001538079264465.\n",
      "[I 2024-04-02 22:50:45,068] Trial 56 finished with value: 0.42954575638566717 and parameters: {'booster': 'dart', 'lambda': 4.850859632773362e-06, 'alpha': 0.020806803209515508, 'learning_rate': 0.006517750911759796, 'n_estimators': 254}. Best is trial 27 with value: 0.46001538079264465.\n",
      "[I 2024-04-02 22:50:48,320] Trial 57 finished with value: 0.45207762590426287 and parameters: {'booster': 'dart', 'lambda': 8.44282997666842e-05, 'alpha': 0.13551710646910134, 'learning_rate': 0.018677801797460335, 'n_estimators': 125}. Best is trial 27 with value: 0.46001538079264465.\n",
      "[I 2024-04-02 22:51:10,077] Trial 58 finished with value: 0.45750446041229315 and parameters: {'booster': 'dart', 'lambda': 2.100123739916116e-08, 'alpha': 0.0063007084657211885, 'learning_rate': 0.010134333198263365, 'n_estimators': 337}. Best is trial 27 with value: 0.46001538079264465.\n",
      "[I 2024-04-02 22:51:10,159] Trial 59 finished with value: 0.19870670353051817 and parameters: {'booster': 'gblinear', 'lambda': 2.074154514308743e-08, 'alpha': 0.003886073229630312, 'learning_rate': 0.002716262370593291, 'n_estimators': 326}. Best is trial 27 with value: 0.46001538079264465.\n",
      "[I 2024-04-02 22:51:34,455] Trial 60 finished with value: 0.45635498212016057 and parameters: {'booster': 'dart', 'lambda': 6.036489913170926e-08, 'alpha': 0.0004320414672414087, 'learning_rate': 0.00851519306880838, 'n_estimators': 353}. Best is trial 27 with value: 0.46001538079264465.\n",
      "[I 2024-04-02 22:52:07,718] Trial 61 finished with value: 0.4486087982449569 and parameters: {'booster': 'dart', 'lambda': 1.1583702298564549e-07, 'alpha': 0.016691617611843214, 'learning_rate': 0.014905273413397625, 'n_estimators': 426}. Best is trial 27 with value: 0.46001538079264465.\n",
      "[I 2024-04-02 22:52:22,463] Trial 62 finished with value: 0.45639519933147465 and parameters: {'booster': 'dart', 'lambda': 1.3851548788432383e-05, 'alpha': 0.0016860717819044773, 'learning_rate': 0.011056552636231457, 'n_estimators': 282}. Best is trial 27 with value: 0.46001538079264465.\n",
      "[I 2024-04-02 22:52:59,780] Trial 63 finished with value: 0.4263255274350244 and parameters: {'booster': 'dart', 'lambda': 1.9580536660748683e-08, 'alpha': 0.0077200241827912915, 'learning_rate': 0.032780656685953764, 'n_estimators': 451}. Best is trial 27 with value: 0.46001538079264465.\n",
      "[I 2024-04-02 22:53:08,641] Trial 64 finished with value: 0.3713099306717644 and parameters: {'booster': 'dart', 'lambda': 4.825947232579254e-07, 'alpha': 0.046529372369387506, 'learning_rate': 0.0049300450978338375, 'n_estimators': 217}. Best is trial 27 with value: 0.46001538079264465.\n",
      "[I 2024-04-02 22:53:08,805] Trial 65 finished with value: 0.427338164303937 and parameters: {'booster': 'gbtree', 'lambda': 8.953802497543126e-07, 'alpha': 0.00017570872446977454, 'learning_rate': 0.08068234916466423, 'n_estimators': 171}. Best is trial 27 with value: 0.46001538079264465.\n",
      "[I 2024-04-02 22:53:12,407] Trial 66 finished with value: 0.4575922851340966 and parameters: {'booster': 'dart', 'lambda': 7.641824454217197e-08, 'alpha': 0.747335459689426, 'learning_rate': 0.0228248499602438, 'n_estimators': 136}. Best is trial 27 with value: 0.46001538079264465.\n",
      "[I 2024-04-02 22:53:13,765] Trial 67 finished with value: 0.45290922476664575 and parameters: {'booster': 'dart', 'lambda': 7.341082274781417e-08, 'alpha': 0.5536578435281059, 'learning_rate': 0.052233879854471456, 'n_estimators': 82}. Best is trial 27 with value: 0.46001538079264465.\n",
      "[I 2024-04-02 22:53:17,163] Trial 68 finished with value: 0.4437445002698732 and parameters: {'booster': 'dart', 'lambda': 1.1462037101995129e-08, 'alpha': 0.0006720866659613254, 'learning_rate': 0.0147706081456333, 'n_estimators': 134}. Best is trial 27 with value: 0.46001538079264465.\n",
      "[I 2024-04-02 22:53:19,093] Trial 69 finished with value: 0.46033057019004975 and parameters: {'booster': 'dart', 'lambda': 1.2152328222365546e-07, 'alpha': 0.7614258638392967, 'learning_rate': 0.03314215385176552, 'n_estimators': 98}. Best is trial 69 with value: 0.46033057019004975.\n",
      "[I 2024-04-02 22:53:21,352] Trial 70 finished with value: 0.46267617540063705 and parameters: {'booster': 'dart', 'lambda': 1.7065579124317522e-07, 'alpha': 0.9287038383165256, 'learning_rate': 0.03622515927591031, 'n_estimators': 107}. Best is trial 70 with value: 0.46267617540063705.\n",
      "[I 2024-04-02 22:53:23,516] Trial 71 finished with value: 0.45993632002892165 and parameters: {'booster': 'dart', 'lambda': 1.8486142725546476e-07, 'alpha': 0.6988645403037298, 'learning_rate': 0.03547868705240953, 'n_estimators': 105}. Best is trial 70 with value: 0.46267617540063705.\n",
      "[I 2024-04-02 22:53:25,506] Trial 72 finished with value: 0.4618952101090996 and parameters: {'booster': 'dart', 'lambda': 1.8728466476388533e-07, 'alpha': 0.9588102823159278, 'learning_rate': 0.0364772015273515, 'n_estimators': 101}. Best is trial 70 with value: 0.46267617540063705.\n",
      "[I 2024-04-02 22:53:26,330] Trial 73 finished with value: 0.45173981044293327 and parameters: {'booster': 'dart', 'lambda': 1.8546905441239293e-07, 'alpha': 0.9405893092628204, 'learning_rate': 0.03526187728768203, 'n_estimators': 63}. Best is trial 70 with value: 0.46267617540063705.\n",
      "[I 2024-04-02 22:53:28,254] Trial 74 finished with value: 0.4502943752862584 and parameters: {'booster': 'dart', 'lambda': 3.086392540282318e-07, 'alpha': 0.3190244418111396, 'learning_rate': 0.06963848649885326, 'n_estimators': 99}. Best is trial 70 with value: 0.46267617540063705.\n",
      "[I 2024-04-02 22:53:29,449] Trial 75 finished with value: 0.454884140200918 and parameters: {'booster': 'dart', 'lambda': 1.0757021081170892e-07, 'alpha': 0.6305930155993208, 'learning_rate': 0.052556978590696864, 'n_estimators': 78}. Best is trial 70 with value: 0.46267617540063705.\n",
      "[I 2024-04-02 22:53:32,073] Trial 76 finished with value: 0.4161337897740447 and parameters: {'booster': 'dart', 'lambda': 4.610035163105923e-08, 'alpha': 0.2879039486137994, 'learning_rate': 0.1309205995344908, 'n_estimators': 114}. Best is trial 70 with value: 0.46267617540063705.\n",
      "[I 2024-04-02 22:53:32,121] Trial 77 finished with value: -0.2090330597850855 and parameters: {'booster': 'gblinear', 'lambda': 9.145439350327136e-08, 'alpha': 0.9502731866281682, 'learning_rate': 0.03549116673748015, 'n_estimators': 94}. Best is trial 70 with value: 0.46267617540063705.\n",
      "[I 2024-04-02 22:53:32,204] Trial 78 finished with value: 0.45163419178053343 and parameters: {'booster': 'gbtree', 'lambda': 5.537251673392666e-07, 'alpha': 0.4271471978842716, 'learning_rate': 0.0823380104918151, 'n_estimators': 63}. Best is trial 70 with value: 0.46267617540063705.\n",
      "[I 2024-04-02 22:53:32,602] Trial 79 finished with value: 0.4489949777134924 and parameters: {'booster': 'dart', 'lambda': 1.3633516206744332e-07, 'alpha': 0.6329105169000304, 'learning_rate': 0.04831295478103573, 'n_estimators': 43}. Best is trial 70 with value: 0.46267617540063705.\n",
      "[I 2024-04-02 22:53:32,689] Trial 80 finished with value: 0.44419516962811745 and parameters: {'booster': 'dart', 'lambda': 3.3789919650909536e-07, 'alpha': 0.13182145049460017, 'learning_rate': 0.1732802535364398, 'n_estimators': 15}. Best is trial 70 with value: 0.46267617540063705.\n",
      "[I 2024-04-02 22:53:34,785] Trial 81 finished with value: 0.4411449262332237 and parameters: {'booster': 'dart', 'lambda': 2.0852973280403318e-08, 'alpha': 0.4273645179412398, 'learning_rate': 0.018064529157601584, 'n_estimators': 103}. Best is trial 70 with value: 0.46267617540063705.\n",
      "[I 2024-04-02 22:53:36,206] Trial 82 finished with value: 0.45237501835016725 and parameters: {'booster': 'dart', 'lambda': 4.930897397651789e-08, 'alpha': 0.230786546883389, 'learning_rate': 0.02736879446110192, 'n_estimators': 85}. Best is trial 70 with value: 0.46267617540063705.\n",
      "[I 2024-04-02 22:53:38,742] Trial 83 finished with value: 0.3908621691587812 and parameters: {'booster': 'dart', 'lambda': 3.603618871684264e-08, 'alpha': 0.10777969235194938, 'learning_rate': 0.01056733910720171, 'n_estimators': 114}. Best is trial 70 with value: 0.46267617540063705.\n",
      "[I 2024-04-02 22:53:42,287] Trial 84 finished with value: 0.45682485435935466 and parameters: {'booster': 'dart', 'lambda': 1.616074937450766e-08, 'alpha': 0.2770777212560299, 'learning_rate': 0.021848922447279165, 'n_estimators': 134}. Best is trial 70 with value: 0.46267617540063705.\n",
      "[I 2024-04-02 22:53:42,906] Trial 85 finished with value: 0.45226349536497157 and parameters: {'booster': 'dart', 'lambda': 6.63980868442042e-08, 'alpha': 0.5929164271884462, 'learning_rate': 0.04265953897207274, 'n_estimators': 55}. Best is trial 70 with value: 0.46267617540063705.\n",
      "[I 2024-04-02 22:53:43,937] Trial 86 finished with value: 0.23525454745022722 and parameters: {'booster': 'dart', 'lambda': 1.7924667653449535e-07, 'alpha': 0.7423700358253166, 'learning_rate': 0.008163851992439101, 'n_estimators': 70}. Best is trial 70 with value: 0.46267617540063705.\n",
      "[I 2024-04-02 22:53:45,724] Trial 87 finished with value: 0.42545248822642334 and parameters: {'booster': 'dart', 'lambda': 2.976526962767285e-08, 'alpha': 0.9900120830451048, 'learning_rate': 0.016425121166656988, 'n_estimators': 95}. Best is trial 70 with value: 0.46267617540063705.\n",
      "[I 2024-04-02 22:53:52,974] Trial 88 finished with value: 0.450092420658372 and parameters: {'booster': 'dart', 'lambda': 2.3831380981481368e-06, 'alpha': 0.06655818376760679, 'learning_rate': 0.034333203234175616, 'n_estimators': 197}. Best is trial 70 with value: 0.46267617540063705.\n",
      "[I 2024-04-02 22:53:54,207] Trial 89 finished with value: 0.45240703164207374 and parameters: {'booster': 'dart', 'lambda': 2.1441731256722453e-07, 'alpha': 0.21965692648941204, 'learning_rate': 0.03025812132822808, 'n_estimators': 78}. Best is trial 70 with value: 0.46267617540063705.\n",
      "[I 2024-04-02 22:53:54,268] Trial 90 finished with value: 0.21867729962683535 and parameters: {'booster': 'gblinear', 'lambda': 1.335101867943162e-08, 'alpha': 0.029747928649315896, 'learning_rate': 0.012144749229604937, 'n_estimators': 138}. Best is trial 70 with value: 0.46267617540063705.\n",
      "[I 2024-04-02 22:53:59,119] Trial 91 finished with value: 0.456873073746507 and parameters: {'booster': 'dart', 'lambda': 8.294912618199593e-08, 'alpha': 0.12303975044547263, 'learning_rate': 0.02603646674530652, 'n_estimators': 160}. Best is trial 70 with value: 0.46267617540063705.\n",
      "[I 2024-04-02 22:54:01,799] Trial 92 finished with value: 0.45705185542051596 and parameters: {'booster': 'dart', 'lambda': 2.8721020150774395e-08, 'alpha': 0.359541708525812, 'learning_rate': 0.022485527874018956, 'n_estimators': 118}. Best is trial 70 with value: 0.46267617540063705.\n",
      "[I 2024-04-02 22:54:48,588] Trial 93 finished with value: 0.4192182246361348 and parameters: {'booster': 'dart', 'lambda': 1.5314726015050486e-06, 'alpha': 0.05205383425045623, 'learning_rate': 0.04102555781662803, 'n_estimators': 498}. Best is trial 70 with value: 0.46267617540063705.\n",
      "[I 2024-04-02 22:54:50,675] Trial 94 finished with value: 0.4472970302573044 and parameters: {'booster': 'dart', 'lambda': 4.784978213397825e-08, 'alpha': 0.0024888985171424268, 'learning_rate': 0.06319299833454707, 'n_estimators': 104}. Best is trial 70 with value: 0.46267617540063705.\n",
      "[I 2024-04-02 22:54:55,497] Trial 95 finished with value: 0.45897869508183736 and parameters: {'booster': 'dart', 'lambda': 6.415901271979287e-07, 'alpha': 0.014856833861007087, 'learning_rate': 0.020403655854067424, 'n_estimators': 159}. Best is trial 70 with value: 0.46267617540063705.\n",
      "[I 2024-04-02 22:54:57,138] Trial 96 finished with value: 0.43688097587160685 and parameters: {'booster': 'dart', 'lambda': 5.168717188115418e-07, 'alpha': 0.015500856239586865, 'learning_rate': 0.01958399851045527, 'n_estimators': 91}. Best is trial 70 with value: 0.46267617540063705.\n",
      "[I 2024-04-02 22:54:57,299] Trial 97 finished with value: 0.427431016227067 and parameters: {'booster': 'gbtree', 'lambda': 1.4259504490945797e-07, 'alpha': 0.00850062512234975, 'learning_rate': 0.013095519395857793, 'n_estimators': 122}. Best is trial 70 with value: 0.46267617540063705.\n",
      "[I 2024-04-02 22:55:02,631] Trial 98 finished with value: 0.31710302473212815 and parameters: {'booster': 'dart', 'lambda': 3.2002112501044114e-07, 'alpha': 0.006022917324136551, 'learning_rate': 0.004799856248578874, 'n_estimators': 168}. Best is trial 70 with value: 0.46267617540063705.\n",
      "[I 2024-04-02 22:55:06,787] Trial 99 finished with value: 0.45199065594240856 and parameters: {'booster': 'dart', 'lambda': 7.671551209508977e-07, 'alpha': 0.0904714623179852, 'learning_rate': 0.015847132976341646, 'n_estimators': 146}. Best is trial 70 with value: 0.46267617540063705.\n",
      "[I 2024-04-02 22:55:06,787] A new study created in memory with name: rf\n",
      "/Users/danila/Documents/Python Projects/Kaggle/.venv/lib/python3.11/site-packages/optuna/distributions.py:700: UserWarning: The distribution is specified by [10, 500] and step=20, but the range is not divisible by `step`. It will be replaced by [10, 490].\n",
      "  warnings.warn(\n",
      "[I 2024-04-02 22:55:06,980] Trial 0 finished with value: 0.4279970289384966 and parameters: {'max_depth': 5, 'n_estimators': 10}. Best is trial 0 with value: 0.4279970289384966.\n",
      "[I 2024-04-02 22:55:08,001] Trial 1 finished with value: 0.3096062297616789 and parameters: {'max_depth': 3, 'n_estimators': 250}. Best is trial 0 with value: 0.4279970289384966.\n",
      "[I 2024-04-02 22:55:08,554] Trial 2 finished with value: 0.31028314583049854 and parameters: {'max_depth': 3, 'n_estimators': 130}. Best is trial 0 with value: 0.4279970289384966.\n",
      "[I 2024-04-02 22:55:13,922] Trial 3 finished with value: 0.450632757161324 and parameters: {'max_depth': 13, 'n_estimators': 430}. Best is trial 3 with value: 0.450632757161324.\n",
      "[I 2024-04-02 22:55:17,233] Trial 4 finished with value: 0.44761012702046105 and parameters: {'max_depth': 18, 'n_estimators': 230}. Best is trial 3 with value: 0.450632757161324.\n",
      "[I 2024-04-02 22:55:17,883] Trial 5 finished with value: 0.46329985303800747 and parameters: {'max_depth': 9, 'n_estimators': 70}. Best is trial 5 with value: 0.46329985303800747.\n",
      "[I 2024-04-02 22:55:19,246] Trial 6 finished with value: 0.30852134687799343 and parameters: {'max_depth': 3, 'n_estimators': 350}. Best is trial 5 with value: 0.46329985303800747.\n",
      "[I 2024-04-02 22:55:20,589] Trial 7 finished with value: 0.22845446659664673 and parameters: {'max_depth': 2, 'n_estimators': 470}. Best is trial 5 with value: 0.46329985303800747.\n",
      "[I 2024-04-02 22:55:24,543] Trial 8 finished with value: 0.4515835382869244 and parameters: {'max_depth': 15, 'n_estimators': 290}. Best is trial 5 with value: 0.46329985303800747.\n",
      "[I 2024-04-02 22:55:26,692] Trial 9 finished with value: 0.4386746396267737 and parameters: {'max_depth': 20, 'n_estimators': 150}. Best is trial 5 with value: 0.46329985303800747.\n",
      "[I 2024-04-02 22:55:26,960] Trial 10 finished with value: 0.4606497135097573 and parameters: {'max_depth': 8, 'n_estimators': 30}. Best is trial 5 with value: 0.46329985303800747.\n",
      "[I 2024-04-02 22:55:27,065] Trial 11 finished with value: 0.44313027520148046 and parameters: {'max_depth': 8, 'n_estimators': 10}. Best is trial 5 with value: 0.46329985303800747.\n",
      "[I 2024-04-02 22:55:27,850] Trial 12 finished with value: 0.4609516613134789 and parameters: {'max_depth': 8, 'n_estimators': 90}. Best is trial 5 with value: 0.46329985303800747.\n",
      "[I 2024-04-02 22:55:29,484] Trial 13 finished with value: 0.4421506342380189 and parameters: {'max_depth': 29, 'n_estimators': 110}. Best is trial 5 with value: 0.46329985303800747.\n",
      "[I 2024-04-02 22:55:30,071] Trial 14 finished with value: 0.4513345469401758 and parameters: {'max_depth': 6, 'n_estimators': 90}. Best is trial 5 with value: 0.46329985303800747.\n",
      "[I 2024-04-02 22:55:32,046] Trial 15 finished with value: 0.4614337070056297 and parameters: {'max_depth': 10, 'n_estimators': 190}. Best is trial 5 with value: 0.46329985303800747.\n",
      "[I 2024-04-02 22:55:34,199] Trial 16 finished with value: 0.4571415547224585 and parameters: {'max_depth': 11, 'n_estimators': 190}. Best is trial 5 with value: 0.46329985303800747.\n",
      "[I 2024-04-02 22:55:36,092] Trial 17 finished with value: 0.43472590945884076 and parameters: {'max_depth': 5, 'n_estimators': 330}. Best is trial 5 with value: 0.46329985303800747.\n",
      "[I 2024-04-02 22:55:37,123] Trial 18 finished with value: 0.44416728120277205 and parameters: {'max_depth': 30, 'n_estimators': 70}. Best is trial 5 with value: 0.46329985303800747.\n",
      "[I 2024-04-02 22:55:39,453] Trial 19 finished with value: 0.4556666460301769 and parameters: {'max_depth': 12, 'n_estimators': 190}. Best is trial 5 with value: 0.46329985303800747.\n",
      "[I 2024-04-02 22:55:40,295] Trial 20 finished with value: 0.3999347659653286 and parameters: {'max_depth': 4, 'n_estimators': 170}. Best is trial 5 with value: 0.46329985303800747.\n",
      "[I 2024-04-02 22:55:40,972] Trial 21 finished with value: 0.4622889404807705 and parameters: {'max_depth': 9, 'n_estimators': 70}. Best is trial 5 with value: 0.46329985303800747.\n",
      "[I 2024-04-02 22:55:41,511] Trial 22 finished with value: 0.45268949137856296 and parameters: {'max_depth': 10, 'n_estimators': 50}. Best is trial 5 with value: 0.46329985303800747.\n",
      "[I 2024-04-02 22:55:43,525] Trial 23 finished with value: 0.46319530249301816 and parameters: {'max_depth': 9, 'n_estimators': 210}. Best is trial 5 with value: 0.46329985303800747.\n",
      "[I 2024-04-02 22:55:44,386] Trial 24 finished with value: 0.4501436255023695 and parameters: {'max_depth': 6, 'n_estimators': 130}. Best is trial 5 with value: 0.46329985303800747.\n",
      "[I 2024-04-02 22:55:50,063] Trial 25 finished with value: 0.4443140400030366 and parameters: {'max_depth': 19, 'n_estimators': 390}. Best is trial 5 with value: 0.46329985303800747.\n",
      "[I 2024-04-02 22:55:52,280] Trial 26 finished with value: 0.4612599396196992 and parameters: {'max_depth': 7, 'n_estimators': 290}. Best is trial 5 with value: 0.46329985303800747.\n",
      "[I 2024-04-02 22:55:52,986] Trial 27 finished with value: 0.43657105960176396 and parameters: {'max_depth': 15, 'n_estimators': 50}. Best is trial 5 with value: 0.46329985303800747.\n",
      "[I 2024-04-02 22:55:55,269] Trial 28 finished with value: 0.4618528256108342 and parameters: {'max_depth': 9, 'n_estimators': 230}. Best is trial 5 with value: 0.46329985303800747.\n",
      "[I 2024-04-02 22:55:55,338] Trial 29 finished with value: 0.39502856707191236 and parameters: {'max_depth': 4, 'n_estimators': 10}. Best is trial 5 with value: 0.46329985303800747.\n",
      "[I 2024-04-02 22:55:56,680] Trial 30 finished with value: 0.44117191293966196 and parameters: {'max_depth': 24, 'n_estimators': 90}. Best is trial 5 with value: 0.46329985303800747.\n",
      "[I 2024-04-02 22:55:58,879] Trial 31 finished with value: 0.4643760022412905 and parameters: {'max_depth': 9, 'n_estimators': 230}. Best is trial 31 with value: 0.4643760022412905.\n",
      "[I 2024-04-02 22:56:00,714] Trial 32 finished with value: 0.4512628091916028 and parameters: {'max_depth': 6, 'n_estimators': 270}. Best is trial 31 with value: 0.4643760022412905.\n",
      "[I 2024-04-02 22:56:03,730] Trial 33 finished with value: 0.4493027590862707 and parameters: {'max_depth': 14, 'n_estimators': 230}. Best is trial 31 with value: 0.4643760022412905.\n",
      "[I 2024-04-02 22:56:04,584] Trial 34 finished with value: 0.4333291671257259 and parameters: {'max_depth': 5, 'n_estimators': 150}. Best is trial 31 with value: 0.4643760022412905.\n",
      "[I 2024-04-02 22:56:06,179] Trial 35 finished with value: 0.46018289356774095 and parameters: {'max_depth': 7, 'n_estimators': 210}. Best is trial 31 with value: 0.4643760022412905.\n",
      "[I 2024-04-02 22:56:09,638] Trial 36 finished with value: 0.4567005928891416 and parameters: {'max_depth': 10, 'n_estimators': 330}. Best is trial 31 with value: 0.4643760022412905.\n",
      "[I 2024-04-02 22:56:11,230] Trial 37 finished with value: 0.44723334463525666 and parameters: {'max_depth': 12, 'n_estimators': 130}. Best is trial 31 with value: 0.4643760022412905.\n",
      "[I 2024-04-02 22:56:13,135] Trial 38 finished with value: 0.3994004193165796 and parameters: {'max_depth': 4, 'n_estimators': 390}. Best is trial 31 with value: 0.4643760022412905.\n",
      "[I 2024-04-02 22:56:13,838] Trial 39 finished with value: 0.22808733837739698 and parameters: {'max_depth': 2, 'n_estimators': 250}. Best is trial 31 with value: 0.4643760022412905.\n",
      "[I 2024-04-02 22:56:14,561] Trial 40 finished with value: 0.43436410276796805 and parameters: {'max_depth': 16, 'n_estimators': 50}. Best is trial 31 with value: 0.4643760022412905.\n",
      "[I 2024-04-02 22:56:16,743] Trial 41 finished with value: 0.4602209769276616 and parameters: {'max_depth': 9, 'n_estimators': 230}. Best is trial 31 with value: 0.4643760022412905.\n",
      "[I 2024-04-02 22:56:19,473] Trial 42 finished with value: 0.46312342416035523 and parameters: {'max_depth': 9, 'n_estimators': 290}. Best is trial 31 with value: 0.4643760022412905.\n",
      "[I 2024-04-02 22:56:21,967] Trial 43 finished with value: 0.46256445537152785 and parameters: {'max_depth': 8, 'n_estimators': 290}. Best is trial 31 with value: 0.4643760022412905.\n",
      "[I 2024-04-02 22:56:24,200] Trial 44 finished with value: 0.46088013139192296 and parameters: {'max_depth': 7, 'n_estimators': 290}. Best is trial 31 with value: 0.4643760022412905.\n",
      "[I 2024-04-02 22:56:26,875] Trial 45 finished with value: 0.4647498197572924 and parameters: {'max_depth': 8, 'n_estimators': 310}. Best is trial 45 with value: 0.4647498197572924.\n",
      "[I 2024-04-02 22:56:30,891] Trial 46 finished with value: 0.45744984032478453 and parameters: {'max_depth': 11, 'n_estimators': 350}. Best is trial 45 with value: 0.4647498197572924.\n",
      "[I 2024-04-02 22:56:34,185] Trial 47 finished with value: 0.4532960214451043 and parameters: {'max_depth': 6, 'n_estimators': 490}. Best is trial 45 with value: 0.4647498197572924.\n",
      "[I 2024-04-02 22:56:38,358] Trial 48 finished with value: 0.44959670742937785 and parameters: {'max_depth': 13, 'n_estimators': 330}. Best is trial 45 with value: 0.4647498197572924.\n",
      "[I 2024-04-02 22:56:40,738] Trial 49 finished with value: 0.4635754623237812 and parameters: {'max_depth': 8, 'n_estimators': 270}. Best is trial 45 with value: 0.4647498197572924.\n",
      "[I 2024-04-02 22:56:42,178] Trial 50 finished with value: 0.43474475155630365 and parameters: {'max_depth': 5, 'n_estimators': 250}. Best is trial 45 with value: 0.4647498197572924.\n",
      "[I 2024-04-02 22:56:44,963] Trial 51 finished with value: 0.46572375036289 and parameters: {'max_depth': 8, 'n_estimators': 310}. Best is trial 51 with value: 0.46572375036289.\n",
      "[I 2024-04-02 22:56:48,009] Trial 52 finished with value: 0.46277425441174636 and parameters: {'max_depth': 8, 'n_estimators': 310}. Best is trial 51 with value: 0.46572375036289.\n",
      "[I 2024-04-02 22:56:52,493] Trial 53 finished with value: 0.456858391077491 and parameters: {'max_depth': 11, 'n_estimators': 390}. Best is trial 51 with value: 0.46572375036289.\n",
      "[I 2024-04-02 22:56:54,609] Trial 54 finished with value: 0.4620896399230512 and parameters: {'max_depth': 7, 'n_estimators': 270}. Best is trial 51 with value: 0.46572375036289.\n",
      "[I 2024-04-02 22:56:57,858] Trial 55 finished with value: 0.46308449384105266 and parameters: {'max_depth': 8, 'n_estimators': 370}. Best is trial 51 with value: 0.46572375036289.\n",
      "[I 2024-04-02 22:57:00,126] Trial 56 finished with value: 0.4590555138895204 and parameters: {'max_depth': 10, 'n_estimators': 210}. Best is trial 51 with value: 0.46572375036289.\n",
      "[I 2024-04-02 22:57:03,365] Trial 57 finished with value: 0.45125103450879334 and parameters: {'max_depth': 6, 'n_estimators': 450}. Best is trial 51 with value: 0.46572375036289.\n",
      "[I 2024-04-02 22:57:06,869] Trial 58 finished with value: 0.4517767711249345 and parameters: {'max_depth': 12, 'n_estimators': 270}. Best is trial 51 with value: 0.46572375036289.\n",
      "[I 2024-04-02 22:57:09,817] Trial 59 finished with value: 0.46239545025127526 and parameters: {'max_depth': 9, 'n_estimators': 310}. Best is trial 51 with value: 0.46572375036289.\n",
      "[I 2024-04-02 22:57:12,489] Trial 60 finished with value: 0.46054939531011635 and parameters: {'max_depth': 7, 'n_estimators': 350}. Best is trial 51 with value: 0.46572375036289.\n",
      "[I 2024-04-02 22:57:15,697] Trial 61 finished with value: 0.4610429767970792 and parameters: {'max_depth': 9, 'n_estimators': 310}. Best is trial 51 with value: 0.46572375036289.\n",
      "[I 2024-04-02 22:57:18,392] Trial 62 finished with value: 0.46307553201738666 and parameters: {'max_depth': 8, 'n_estimators': 270}. Best is trial 51 with value: 0.46572375036289.\n",
      "[I 2024-04-02 22:57:20,641] Trial 63 finished with value: 0.46051655239663464 and parameters: {'max_depth': 10, 'n_estimators': 210}. Best is trial 51 with value: 0.46572375036289.\n",
      "[I 2024-04-02 22:57:23,091] Trial 64 finished with value: 0.4451189177408107 and parameters: {'max_depth': 17, 'n_estimators': 170}. Best is trial 51 with value: 0.46572375036289.\n",
      "[I 2024-04-02 22:57:26,770] Trial 65 finished with value: 0.4520648509192804 and parameters: {'max_depth': 13, 'n_estimators': 250}. Best is trial 51 with value: 0.46572375036289.\n",
      "[I 2024-04-02 22:57:30,411] Trial 66 finished with value: 0.45787936429132825 and parameters: {'max_depth': 11, 'n_estimators': 310}. Best is trial 51 with value: 0.46572375036289.\n",
      "[I 2024-04-02 22:57:33,527] Trial 67 finished with value: 0.4650086823569087 and parameters: {'max_depth': 8, 'n_estimators': 350}. Best is trial 51 with value: 0.46572375036289.\n",
      "[I 2024-04-02 22:57:36,923] Trial 68 finished with value: 0.45290799954515143 and parameters: {'max_depth': 6, 'n_estimators': 410}. Best is trial 51 with value: 0.46572375036289.\n",
      "[I 2024-04-02 22:57:40,400] Trial 69 finished with value: 0.46530331725225854 and parameters: {'max_depth': 8, 'n_estimators': 370}. Best is trial 51 with value: 0.46572375036289.\n",
      "[I 2024-04-02 22:57:43,587] Trial 70 finished with value: 0.46318411346479865 and parameters: {'max_depth': 8, 'n_estimators': 370}. Best is trial 51 with value: 0.46572375036289.\n",
      "[I 2024-04-02 22:57:47,382] Trial 71 finished with value: 0.4605726967842868 and parameters: {'max_depth': 10, 'n_estimators': 330}. Best is trial 51 with value: 0.46572375036289.\n",
      "[I 2024-04-02 22:57:50,351] Trial 72 finished with value: 0.4608947905390613 and parameters: {'max_depth': 7, 'n_estimators': 350}. Best is trial 51 with value: 0.46572375036289.\n",
      "[I 2024-04-02 22:57:53,977] Trial 73 finished with value: 0.4618153513304975 and parameters: {'max_depth': 9, 'n_estimators': 370}. Best is trial 51 with value: 0.46572375036289.\n",
      "[I 2024-04-02 22:57:54,928] Trial 74 finished with value: 0.460796860878178 and parameters: {'max_depth': 8, 'n_estimators': 110}. Best is trial 51 with value: 0.46572375036289.\n",
      "[I 2024-04-02 22:57:59,245] Trial 75 finished with value: 0.46153162173321133 and parameters: {'max_depth': 10, 'n_estimators': 410}. Best is trial 51 with value: 0.46572375036289.\n",
      "[I 2024-04-02 22:58:01,465] Trial 76 finished with value: 0.4492902755856106 and parameters: {'max_depth': 13, 'n_estimators': 170}. Best is trial 51 with value: 0.46572375036289.\n",
      "[I 2024-04-02 22:58:06,476] Trial 77 finished with value: 0.4570791703763306 and parameters: {'max_depth': 11, 'n_estimators': 430}. Best is trial 51 with value: 0.46572375036289.\n",
      "[I 2024-04-02 22:58:08,404] Trial 78 finished with value: 0.4342617019940115 and parameters: {'max_depth': 5, 'n_estimators': 330}. Best is trial 51 with value: 0.46572375036289.\n",
      "[I 2024-04-02 22:58:12,260] Trial 79 finished with value: 0.45262004754875357 and parameters: {'max_depth': 12, 'n_estimators': 310}. Best is trial 51 with value: 0.46572375036289.\n",
      "[I 2024-04-02 22:58:14,471] Trial 80 finished with value: 0.46452750755000016 and parameters: {'max_depth': 9, 'n_estimators': 230}. Best is trial 51 with value: 0.46572375036289.\n",
      "[I 2024-04-02 22:58:16,749] Trial 81 finished with value: 0.46037729746934913 and parameters: {'max_depth': 9, 'n_estimators': 230}. Best is trial 51 with value: 0.46572375036289.\n",
      "[I 2024-04-02 22:58:18,258] Trial 82 finished with value: 0.4602477724055924 and parameters: {'max_depth': 7, 'n_estimators': 190}. Best is trial 51 with value: 0.46572375036289.\n",
      "[I 2024-04-02 22:58:19,980] Trial 83 finished with value: 0.4535138582818073 and parameters: {'max_depth': 6, 'n_estimators': 250}. Best is trial 51 with value: 0.46572375036289.\n",
      "[I 2024-04-02 22:58:21,834] Trial 84 finished with value: 0.4614588553786774 and parameters: {'max_depth': 8, 'n_estimators': 210}. Best is trial 51 with value: 0.46572375036289.\n",
      "[I 2024-04-02 22:58:24,943] Trial 85 finished with value: 0.4546453231344918 and parameters: {'max_depth': 11, 'n_estimators': 270}. Best is trial 51 with value: 0.46572375036289.\n",
      "[I 2024-04-02 22:58:28,353] Trial 86 finished with value: 0.46455796766585344 and parameters: {'max_depth': 9, 'n_estimators': 350}. Best is trial 51 with value: 0.46572375036289.\n",
      "[I 2024-04-02 22:58:31,808] Trial 87 finished with value: 0.46200889443881576 and parameters: {'max_depth': 9, 'n_estimators': 350}. Best is trial 51 with value: 0.46572375036289.\n",
      "[I 2024-04-02 22:58:35,761] Trial 88 finished with value: 0.46163617458582473 and parameters: {'max_depth': 10, 'n_estimators': 370}. Best is trial 51 with value: 0.46572375036289.\n",
      "[I 2024-04-02 22:58:38,266] Trial 89 finished with value: 0.46271144435477324 and parameters: {'max_depth': 8, 'n_estimators': 290}. Best is trial 51 with value: 0.46572375036289.\n",
      "[I 2024-04-02 22:58:43,628] Trial 90 finished with value: 0.4473223578226405 and parameters: {'max_depth': 15, 'n_estimators': 390}. Best is trial 51 with value: 0.46572375036289.\n",
      "[I 2024-04-02 22:58:46,211] Trial 91 finished with value: 0.4617357637432965 and parameters: {'max_depth': 7, 'n_estimators': 330}. Best is trial 51 with value: 0.46572375036289.\n",
      "[I 2024-04-02 22:58:48,449] Trial 92 finished with value: 0.4624053694292689 and parameters: {'max_depth': 9, 'n_estimators': 230}. Best is trial 51 with value: 0.46572375036289.\n",
      "[I 2024-04-02 22:58:51,547] Trial 93 finished with value: 0.46082507495233405 and parameters: {'max_depth': 10, 'n_estimators': 290}. Best is trial 51 with value: 0.46572375036289.\n",
      "[I 2024-04-02 22:58:54,633] Trial 94 finished with value: 0.4639745457418398 and parameters: {'max_depth': 9, 'n_estimators': 310}. Best is trial 51 with value: 0.46572375036289.\n",
      "[I 2024-04-02 22:58:59,274] Trial 95 finished with value: 0.4478880585959124 and parameters: {'max_depth': 14, 'n_estimators': 330}. Best is trial 51 with value: 0.46572375036289.\n",
      "[I 2024-04-02 22:59:02,426] Trial 96 finished with value: 0.4632200388431931 and parameters: {'max_depth': 8, 'n_estimators': 350}. Best is trial 51 with value: 0.46572375036289.\n",
      "[I 2024-04-02 22:59:07,182] Trial 97 finished with value: 0.44453322880523816 and parameters: {'max_depth': 22, 'n_estimators': 310}. Best is trial 51 with value: 0.46572375036289.\n",
      "[I 2024-04-02 22:59:11,676] Trial 98 finished with value: 0.45490585183002696 and parameters: {'max_depth': 12, 'n_estimators': 370}. Best is trial 51 with value: 0.46572375036289.\n",
      "[I 2024-04-02 22:59:14,900] Trial 99 finished with value: 0.45888238801939235 and parameters: {'max_depth': 10, 'n_estimators': 270}. Best is trial 51 with value: 0.46572375036289.\n",
      "[I 2024-04-02 22:59:14,901] A new study created in memory with name: boosting\n",
      "[I 2024-04-02 22:59:15,628] Trial 0 finished with value: 0.25867403405131767 and parameters: {'max_depth': 8, 'learning_rate': 0.011813314661682183, 'min_samples_split': 2, 'n_estimators': 53}. Best is trial 0 with value: 0.25867403405131767.\n",
      "[I 2024-04-02 22:59:15,922] Trial 1 finished with value: -0.2053961219573111 and parameters: {'max_depth': 9, 'learning_rate': 0.00023904931206130374, 'min_samples_split': 3, 'n_estimators': 11}. Best is trial 0 with value: 0.25867403405131767.\n",
      "[I 2024-04-02 22:59:16,379] Trial 2 finished with value: 0.018244075997151166 and parameters: {'max_depth': 8, 'learning_rate': 0.008302382409066408, 'min_samples_split': 3, 'n_estimators': 25}. Best is trial 0 with value: 0.25867403405131767.\n",
      "[I 2024-04-02 22:59:16,938] Trial 3 finished with value: 0.44885111352846296 and parameters: {'max_depth': 2, 'learning_rate': 0.37109213862338725, 'min_samples_split': 2, 'n_estimators': 136}. Best is trial 3 with value: 0.44885111352846296.\n",
      "[I 2024-04-02 22:59:17,421] Trial 4 finished with value: 0.28881620360832483 and parameters: {'max_depth': 9, 'learning_rate': 0.024058379053205143, 'min_samples_split': 5, 'n_estimators': 30}. Best is trial 3 with value: 0.44885111352846296.\n",
      "[I 2024-04-02 22:59:18,064] Trial 5 finished with value: 0.4042896416333674 and parameters: {'max_depth': 4, 'learning_rate': 0.016564546424100008, 'min_samples_split': 3, 'n_estimators': 98}. Best is trial 3 with value: 0.44885111352846296.\n",
      "[I 2024-04-02 22:59:18,402] Trial 6 finished with value: 0.08369610427148859 and parameters: {'max_depth': 26, 'learning_rate': 0.02338472079107348, 'min_samples_split': 2, 'n_estimators': 14}. Best is trial 3 with value: 0.44885111352846296.\n",
      "[I 2024-04-02 22:59:21,058] Trial 7 finished with value: -0.1911725249451125 and parameters: {'max_depth': 16, 'learning_rate': 0.00010381273920762698, 'min_samples_split': 4, 'n_estimators': 126}. Best is trial 3 with value: 0.44885111352846296.\n",
      "[I 2024-04-02 22:59:21,654] Trial 8 finished with value: 0.4385343243156443 and parameters: {'max_depth': 3, 'learning_rate': 0.24924779167952946, 'min_samples_split': 3, 'n_estimators': 120}. Best is trial 3 with value: 0.44885111352846296.\n",
      "[I 2024-04-02 22:59:22,274] Trial 9 finished with value: 0.4098023564877799 and parameters: {'max_depth': 4, 'learning_rate': 0.018855477171413185, 'min_samples_split': 2, 'n_estimators': 90}. Best is trial 3 with value: 0.44885111352846296.\n",
      "[I 2024-04-02 22:59:23,811] Trial 10 finished with value: 0.3957087287674044 and parameters: {'max_depth': 2, 'learning_rate': 0.39992738833701114, 'min_samples_split': 2, 'n_estimators': 400}. Best is trial 3 with value: 0.44885111352846296.\n",
      "[I 2024-04-02 22:59:24,737] Trial 11 finished with value: 0.4163904397389059 and parameters: {'max_depth': 2, 'learning_rate': 0.44727568305971604, 'min_samples_split': 4, 'n_estimators': 218}. Best is trial 3 with value: 0.44885111352846296.\n",
      "[I 2024-04-02 22:59:25,996] Trial 12 finished with value: 0.4589846843840954 and parameters: {'max_depth': 3, 'learning_rate': 0.11565853186277959, 'min_samples_split': 4, 'n_estimators': 204}. Best is trial 12 with value: 0.4589846843840954.\n",
      "[I 2024-04-02 22:59:27,661] Trial 13 finished with value: 0.4553928901684543 and parameters: {'max_depth': 3, 'learning_rate': 0.08535351782497008, 'min_samples_split': 4, 'n_estimators': 286}. Best is trial 12 with value: 0.4589846843840954.\n",
      "[I 2024-04-02 22:59:30,816] Trial 14 finished with value: 0.43874366560889494 and parameters: {'max_depth': 4, 'learning_rate': 0.08175655492031215, 'min_samples_split': 4, 'n_estimators': 431}. Best is trial 12 with value: 0.4589846843840954.\n",
      "[I 2024-04-02 22:59:32,169] Trial 15 finished with value: 0.45725089846789924 and parameters: {'max_depth': 3, 'learning_rate': 0.08282154501524727, 'min_samples_split': 5, 'n_estimators': 247}. Best is trial 12 with value: 0.4589846843840954.\n",
      "[I 2024-04-02 22:59:34,071] Trial 16 finished with value: 0.07037130089037066 and parameters: {'max_depth': 5, 'learning_rate': 0.0013629784253057608, 'min_samples_split': 5, 'n_estimators': 216}. Best is trial 12 with value: 0.4589846843840954.\n",
      "[I 2024-04-02 22:59:34,630] Trial 17 finished with value: -0.04428244952833129 and parameters: {'max_depth': 6, 'learning_rate': 0.002970485003369441, 'min_samples_split': 5, 'n_estimators': 49}. Best is trial 12 with value: 0.4589846843840954.\n",
      "[I 2024-04-02 22:59:35,642] Trial 18 finished with value: 0.45566022800358014 and parameters: {'max_depth': 3, 'learning_rate': 0.09496826917077208, 'min_samples_split': 5, 'n_estimators': 201}. Best is trial 12 with value: 0.4589846843840954.\n",
      "[I 2024-04-02 22:59:48,100] Trial 19 finished with value: 0.18979168211701594 and parameters: {'max_depth': 17, 'learning_rate': 0.0577928290967843, 'min_samples_split': 4, 'n_estimators': 488}. Best is trial 12 with value: 0.4589846843840954.\n",
      "[I 2024-04-02 22:59:49,634] Trial 20 finished with value: 0.26512993445705374 and parameters: {'max_depth': 3, 'learning_rate': 0.0032780618991963737, 'min_samples_split': 5, 'n_estimators': 300}. Best is trial 12 with value: 0.4589846843840954.\n",
      "[I 2024-04-02 22:59:50,647] Trial 21 finished with value: 0.4403479688911367 and parameters: {'max_depth': 3, 'learning_rate': 0.1673162417449704, 'min_samples_split': 5, 'n_estimators': 193}. Best is trial 12 with value: 0.4589846843840954.\n",
      "[I 2024-04-02 22:59:52,079] Trial 22 finished with value: 0.4619562304672769 and parameters: {'max_depth': 5, 'learning_rate': 0.05696888329732466, 'min_samples_split': 4, 'n_estimators': 174}. Best is trial 22 with value: 0.4619562304672769.\n",
      "[I 2024-04-02 22:59:53,555] Trial 23 finished with value: 0.4550831803870052 and parameters: {'max_depth': 6, 'learning_rate': 0.03984090509741299, 'min_samples_split': 4, 'n_estimators': 152}. Best is trial 22 with value: 0.4619562304672769.\n",
      "[I 2024-04-02 22:59:56,119] Trial 24 finished with value: 0.40776304146082953 and parameters: {'max_depth': 5, 'learning_rate': 0.13384232757558778, 'min_samples_split': 4, 'n_estimators': 305}. Best is trial 22 with value: 0.4619562304672769.\n",
      "[I 2024-04-02 22:59:57,233] Trial 25 finished with value: 0.3223840352700111 and parameters: {'max_depth': 12, 'learning_rate': 0.03825660460011902, 'min_samples_split': 4, 'n_estimators': 59}. Best is trial 22 with value: 0.4619562304672769.\n",
      "[I 2024-04-02 22:59:57,844] Trial 26 finished with value: 0.4628717344712848 and parameters: {'max_depth': 4, 'learning_rate': 0.14511385153630943, 'min_samples_split': 5, 'n_estimators': 88}. Best is trial 26 with value: 0.4628717344712848.\n",
      "[I 2024-04-02 22:59:58,600] Trial 27 finished with value: 0.4401866943712288 and parameters: {'max_depth': 5, 'learning_rate': 0.18096047290039524, 'min_samples_split': 3, 'n_estimators': 90}. Best is trial 26 with value: 0.4628717344712848.\n",
      "[I 2024-04-02 22:59:59,691] Trial 28 finished with value: 0.46948762368817587 and parameters: {'max_depth': 4, 'learning_rate': 0.03945904847625608, 'min_samples_split': 4, 'n_estimators': 159}. Best is trial 28 with value: 0.46948762368817587.\n",
      "[I 2024-04-02 23:00:00,532] Trial 29 finished with value: 0.1866918385853038 and parameters: {'max_depth': 11, 'learning_rate': 0.009811012852899781, 'min_samples_split': 5, 'n_estimators': 48}. Best is trial 28 with value: 0.46948762368817587.\n",
      "[I 2024-04-02 23:00:01,262] Trial 30 finished with value: 0.4569478287504958 and parameters: {'max_depth': 6, 'learning_rate': 0.04071118788277562, 'min_samples_split': 4, 'n_estimators': 74}. Best is trial 28 with value: 0.46948762368817587.\n",
      "[I 2024-04-02 23:00:02,364] Trial 31 finished with value: 0.42631344437680685 and parameters: {'max_depth': 4, 'learning_rate': 0.23112912537274785, 'min_samples_split': 4, 'n_estimators': 165}. Best is trial 28 with value: 0.46948762368817587.\n",
      "[I 2024-04-02 23:00:03,123] Trial 32 finished with value: 0.47053043010053486 and parameters: {'max_depth': 4, 'learning_rate': 0.05219376957929512, 'min_samples_split': 3, 'n_estimators': 112}. Best is trial 32 with value: 0.47053043010053486.\n",
      "[I 2024-04-02 23:00:04,290] Trial 33 finished with value: 0.2521165001724736 and parameters: {'max_depth': 7, 'learning_rate': 0.005918908616131298, 'min_samples_split': 3, 'n_estimators': 103}. Best is trial 32 with value: 0.47053043010053486.\n",
      "[I 2024-04-02 23:00:04,872] Trial 34 finished with value: 0.4628657124087082 and parameters: {'max_depth': 5, 'learning_rate': 0.05013969678783081, 'min_samples_split': 3, 'n_estimators': 70}. Best is trial 32 with value: 0.47053043010053486.\n",
      "[I 2024-04-02 23:00:05,908] Trial 35 finished with value: 0.15284638820087598 and parameters: {'max_depth': 9, 'learning_rate': 0.005541584464477723, 'min_samples_split': 3, 'n_estimators': 71}. Best is trial 32 with value: 0.47053043010053486.\n",
      "[I 2024-04-02 23:00:06,348] Trial 36 finished with value: -0.17233778657009755 and parameters: {'max_depth': 7, 'learning_rate': 0.0008108311195481505, 'min_samples_split': 3, 'n_estimators': 35}. Best is trial 32 with value: 0.47053043010053486.\n",
      "[I 2024-04-02 23:00:06,622] Trial 37 finished with value: 0.17280482688054427 and parameters: {'max_depth': 4, 'learning_rate': 0.01360371715582208, 'min_samples_split': 3, 'n_estimators': 37}. Best is trial 32 with value: 0.47053043010053486.\n",
      "[I 2024-04-02 23:00:06,881] Trial 38 finished with value: 0.22459582908638587 and parameters: {'max_depth': 8, 'learning_rate': 0.028109029286454954, 'min_samples_split': 3, 'n_estimators': 19}. Best is trial 32 with value: 0.47053043010053486.\n",
      "[I 2024-04-02 23:00:07,653] Trial 39 finished with value: 0.4693022398316649 and parameters: {'max_depth': 4, 'learning_rate': 0.05668505489247975, 'min_samples_split': 3, 'n_estimators': 115}. Best is trial 32 with value: 0.47053043010053486.\n",
      "[I 2024-04-02 23:00:09,029] Trial 40 finished with value: -0.07999306268573672 and parameters: {'max_depth': 31, 'learning_rate': 0.27245117751767967, 'min_samples_split': 2, 'n_estimators': 117}. Best is trial 32 with value: 0.47053043010053486.\n",
      "[I 2024-04-02 23:00:09,552] Trial 41 finished with value: 0.46317116356595067 and parameters: {'max_depth': 4, 'learning_rate': 0.05768301357897908, 'min_samples_split': 3, 'n_estimators': 79}. Best is trial 32 with value: 0.47053043010053486.\n",
      "[I 2024-04-02 23:00:10,466] Trial 42 finished with value: 0.4633013021437248 and parameters: {'max_depth': 4, 'learning_rate': 0.02692760683142413, 'min_samples_split': 3, 'n_estimators': 134}. Best is trial 32 with value: 0.47053043010053486.\n",
      "[I 2024-04-02 23:00:11,011] Trial 43 finished with value: 0.3573700596687216 and parameters: {'max_depth': 2, 'learning_rate': 0.023271640250560794, 'min_samples_split': 3, 'n_estimators': 150}. Best is trial 32 with value: 0.47053043010053486.\n",
      "[I 2024-04-02 23:00:12,180] Trial 44 finished with value: 0.418117761737917 and parameters: {'max_depth': 6, 'learning_rate': 0.012758031417070746, 'min_samples_split': 3, 'n_estimators': 118}. Best is trial 32 with value: 0.47053043010053486.\n",
      "[I 2024-04-02 23:00:12,894] Trial 45 finished with value: 0.457704351841727 and parameters: {'max_depth': 4, 'learning_rate': 0.029420916611908005, 'min_samples_split': 3, 'n_estimators': 106}. Best is trial 32 with value: 0.47053043010053486.\n",
      "[I 2024-04-02 23:00:13,815] Trial 46 finished with value: 0.4408505212356024 and parameters: {'max_depth': 4, 'learning_rate': 0.017135312279820115, 'min_samples_split': 3, 'n_estimators': 134}. Best is trial 32 with value: 0.47053043010053486.\n",
      "[I 2024-04-02 23:00:14,508] Trial 47 finished with value: 0.46590755426370867 and parameters: {'max_depth': 5, 'learning_rate': 0.06597710992016362, 'min_samples_split': 3, 'n_estimators': 82}. Best is trial 32 with value: 0.47053043010053486.\n",
      "[I 2024-04-02 23:00:15,004] Trial 48 finished with value: 0.4675151010384101 and parameters: {'max_depth': 5, 'learning_rate': 0.07205877659304802, 'min_samples_split': 2, 'n_estimators': 58}. Best is trial 32 with value: 0.47053043010053486.\n",
      "[I 2024-04-02 23:00:15,830] Trial 49 finished with value: 0.4130483450937964 and parameters: {'max_depth': 8, 'learning_rate': 0.07063567578460463, 'min_samples_split': 2, 'n_estimators': 61}. Best is trial 32 with value: 0.47053043010053486.\n",
      "[I 2024-04-02 23:00:16,193] Trial 50 finished with value: 0.46342597250595324 and parameters: {'max_depth': 5, 'learning_rate': 0.1074556914438164, 'min_samples_split': 2, 'n_estimators': 44}. Best is trial 32 with value: 0.47053043010053486.\n",
      "[I 2024-04-02 23:00:16,531] Trial 51 finished with value: 0.4666868418015538 and parameters: {'max_depth': 5, 'learning_rate': 0.12167722803688612, 'min_samples_split': 2, 'n_estimators': 39}. Best is trial 32 with value: 0.47053043010053486.\n",
      "[I 2024-04-02 23:00:16,782] Trial 52 finished with value: 0.41210725299562834 and parameters: {'max_depth': 6, 'learning_rate': 0.3185853424827633, 'min_samples_split': 2, 'n_estimators': 23}. Best is trial 32 with value: 0.47053043010053486.\n",
      "[I 2024-04-02 23:00:17,476] Trial 53 finished with value: 0.4021207490770199 and parameters: {'max_depth': 7, 'learning_rate': 0.18877558086741955, 'min_samples_split': 2, 'n_estimators': 59}. Best is trial 32 with value: 0.47053043010053486.\n",
      "[I 2024-04-02 23:00:17,830] Trial 54 finished with value: 0.4591372584320082 and parameters: {'max_depth': 5, 'learning_rate': 0.10226104582749827, 'min_samples_split': 2, 'n_estimators': 41}. Best is trial 32 with value: 0.47053043010053486.\n",
      "[I 2024-04-02 23:00:17,951] Trial 55 finished with value: 0.29755039757012824 and parameters: {'max_depth': 6, 'learning_rate': 0.07288306643360923, 'min_samples_split': 2, 'n_estimators': 10}. Best is trial 32 with value: 0.47053043010053486.\n",
      "[I 2024-04-02 23:00:18,213] Trial 56 finished with value: 0.40726985084255996 and parameters: {'max_depth': 5, 'learning_rate': 0.4700980547524971, 'min_samples_split': 2, 'n_estimators': 30}. Best is trial 32 with value: 0.47053043010053486.\n",
      "[I 2024-04-02 23:00:19,647] Trial 57 finished with value: 0.3689564776671458 and parameters: {'max_depth': 10, 'learning_rate': 0.04264510509002285, 'min_samples_split': 3, 'n_estimators': 89}. Best is trial 32 with value: 0.47053043010053486.\n",
      "[I 2024-04-02 23:00:19,920] Trial 58 finished with value: 0.4554095362074534 and parameters: {'max_depth': 3, 'learning_rate': 0.126075573373149, 'min_samples_split': 2, 'n_estimators': 51}. Best is trial 32 with value: 0.47053043010053486.\n",
      "[I 2024-04-02 23:00:22,705] Trial 59 finished with value: 0.40620703188441515 and parameters: {'max_depth': 7, 'learning_rate': 0.07477383530669852, 'min_samples_split': 3, 'n_estimators': 246}. Best is trial 32 with value: 0.47053043010053486.\n",
      "[I 2024-04-02 23:00:24,055] Trial 60 finished with value: 0.2659489808187926 and parameters: {'max_depth': 15, 'learning_rate': 0.020655744144608152, 'min_samples_split': 4, 'n_estimators': 61}. Best is trial 32 with value: 0.47053043010053486.\n",
      "[I 2024-04-02 23:00:24,415] Trial 61 finished with value: 0.46649636849088993 and parameters: {'max_depth': 5, 'learning_rate': 0.10736890043834242, 'min_samples_split': 2, 'n_estimators': 43}. Best is trial 32 with value: 0.47053043010053486.\n",
      "[I 2024-04-02 23:00:24,677] Trial 62 finished with value: 0.3437137442286529 and parameters: {'max_depth': 5, 'learning_rate': 0.0329886506385313, 'min_samples_split': 2, 'n_estimators': 29}. Best is trial 32 with value: 0.47053043010053486.\n",
      "[I 2024-04-02 23:00:25,494] Trial 63 finished with value: 0.4044644633242703 and parameters: {'max_depth': 6, 'learning_rate': 0.2129454739970518, 'min_samples_split': 2, 'n_estimators': 83}. Best is trial 32 with value: 0.47053043010053486.\n",
      "[I 2024-04-02 23:00:25,724] Trial 64 finished with value: 0.3953047968705804 and parameters: {'max_depth': 3, 'learning_rate': 0.052263546711779615, 'min_samples_split': 2, 'n_estimators': 40}. Best is trial 32 with value: 0.47053043010053486.\n",
      "[I 2024-04-02 23:00:27,133] Trial 65 finished with value: 0.3828849579315635 and parameters: {'max_depth': 8, 'learning_rate': 0.1439315543719573, 'min_samples_split': 2, 'n_estimators': 109}. Best is trial 32 with value: 0.47053043010053486.\n",
      "[I 2024-04-02 23:00:27,526] Trial 66 finished with value: 0.4680507696382842 and parameters: {'max_depth': 4, 'learning_rate': 0.09072856855919537, 'min_samples_split': 3, 'n_estimators': 53}. Best is trial 32 with value: 0.47053043010053486.\n",
      "[I 2024-04-02 23:00:27,866] Trial 67 finished with value: 0.4668288452014947 and parameters: {'max_depth': 4, 'learning_rate': 0.09594964174452889, 'min_samples_split': 2, 'n_estimators': 47}. Best is trial 32 with value: 0.47053043010053486.\n",
      "[I 2024-04-02 23:00:28,160] Trial 68 finished with value: -0.19220975707624027 and parameters: {'max_depth': 3, 'learning_rate': 0.00031052624820327487, 'min_samples_split': 3, 'n_estimators': 54}. Best is trial 32 with value: 0.47053043010053486.\n",
      "[I 2024-04-02 23:00:28,401] Trial 69 finished with value: 0.45125323223068936 and parameters: {'max_depth': 4, 'learning_rate': 0.3205287034456096, 'min_samples_split': 4, 'n_estimators': 33}. Best is trial 32 with value: 0.47053043010053486.\n",
      "[I 2024-04-02 23:00:28,496] Trial 70 finished with value: 0.1879932989680421 and parameters: {'max_depth': 2, 'learning_rate': 0.04409155543066617, 'min_samples_split': 3, 'n_estimators': 20}. Best is trial 32 with value: 0.47053043010053486.\n",
      "[I 2024-04-02 23:00:28,831] Trial 71 finished with value: 0.462558969116362 and parameters: {'max_depth': 4, 'learning_rate': 0.09734615384689604, 'min_samples_split': 2, 'n_estimators': 48}. Best is trial 32 with value: 0.47053043010053486.\n",
      "[I 2024-04-02 23:00:30,398] Trial 72 finished with value: -0.07752198411946165 and parameters: {'max_depth': 23, 'learning_rate': 0.08506064929213492, 'min_samples_split': 2, 'n_estimators': 66}. Best is trial 32 with value: 0.47053043010053486.\n",
      "[I 2024-04-02 23:00:30,751] Trial 73 finished with value: 0.4474014518739205 and parameters: {'max_depth': 6, 'learning_rate': 0.16310419296122874, 'min_samples_split': 2, 'n_estimators': 33}. Best is trial 32 with value: 0.47053043010053486.\n",
      "[I 2024-04-02 23:00:31,122] Trial 74 finished with value: 0.41765426436821934 and parameters: {'max_depth': 5, 'learning_rate': 0.03625090823596473, 'min_samples_split': 2, 'n_estimators': 42}. Best is trial 32 with value: 0.47053043010053486.\n",
      "[I 2024-04-02 23:00:31,407] Trial 75 finished with value: 0.45445189414403 and parameters: {'max_depth': 3, 'learning_rate': 0.12321898991310094, 'min_samples_split': 2, 'n_estimators': 53}. Best is trial 32 with value: 0.47053043010053486.\n",
      "[I 2024-04-02 23:00:31,649] Trial 76 finished with value: 0.45675336362616503 and parameters: {'max_depth': 5, 'learning_rate': 0.0920881720222284, 'min_samples_split': 2, 'n_estimators': 27}. Best is trial 32 with value: 0.47053043010053486.\n",
      "[I 2024-04-02 23:00:32,809] Trial 77 finished with value: 0.46622869183925797 and parameters: {'max_depth': 4, 'learning_rate': 0.05363847212290123, 'min_samples_split': 3, 'n_estimators': 174}. Best is trial 32 with value: 0.47053043010053486.\n",
      "[I 2024-04-02 23:00:33,071] Trial 78 finished with value: 0.4385330415593165 and parameters: {'max_depth': 4, 'learning_rate': 0.06353090132048511, 'min_samples_split': 2, 'n_estimators': 36}. Best is trial 32 with value: 0.47053043010053486.\n",
      "[I 2024-04-02 23:00:34,032] Trial 79 finished with value: 0.36443551213746983 and parameters: {'max_depth': 6, 'learning_rate': 0.27383056270219913, 'min_samples_split': 3, 'n_estimators': 98}. Best is trial 32 with value: 0.47053043010053486.\n",
      "[I 2024-04-02 23:00:34,340] Trial 80 finished with value: 0.4682648237635297 and parameters: {'max_depth': 4, 'learning_rate': 0.1593151112269841, 'min_samples_split': 5, 'n_estimators': 44}. Best is trial 32 with value: 0.47053043010053486.\n",
      "[I 2024-04-02 23:00:34,647] Trial 81 finished with value: 0.458034783803465 and parameters: {'max_depth': 4, 'learning_rate': 0.1921897805350013, 'min_samples_split': 5, 'n_estimators': 44}. Best is trial 32 with value: 0.47053043010053486.\n",
      "[I 2024-04-02 23:00:35,194] Trial 82 finished with value: 0.4651914550757521 and parameters: {'max_depth': 5, 'learning_rate': 0.11793457742465528, 'min_samples_split': 5, 'n_estimators': 65}. Best is trial 32 with value: 0.47053043010053486.\n",
      "[I 2024-04-02 23:00:35,458] Trial 83 finished with value: 0.4514254910527706 and parameters: {'max_depth': 3, 'learning_rate': 0.14836236392761779, 'min_samples_split': 5, 'n_estimators': 47}. Best is trial 32 with value: 0.47053043010053486.\n",
      "[I 2024-04-02 23:00:35,732] Trial 84 finished with value: 0.45785313150965096 and parameters: {'max_depth': 4, 'learning_rate': 0.07979563897621057, 'min_samples_split': 4, 'n_estimators': 38}. Best is trial 32 with value: 0.47053043010053486.\n",
      "[I 2024-04-02 23:00:36,205] Trial 85 finished with value: 0.43591924755070116 and parameters: {'max_depth': 5, 'learning_rate': 0.2288196601682722, 'min_samples_split': 4, 'n_estimators': 55}. Best is trial 32 with value: 0.47053043010053486.\n",
      "[I 2024-04-02 23:00:37,017] Trial 86 finished with value: 0.4565198895146711 and parameters: {'max_depth': 3, 'learning_rate': 0.04739403779482945, 'min_samples_split': 3, 'n_estimators': 155}. Best is trial 32 with value: 0.47053043010053486.\n",
      "[I 2024-04-02 23:00:37,528] Trial 87 finished with value: 0.467491110094208 and parameters: {'max_depth': 4, 'learning_rate': 0.1109849170867816, 'min_samples_split': 5, 'n_estimators': 75}. Best is trial 32 with value: 0.47053043010053486.\n",
      "[I 2024-04-02 23:00:38,053] Trial 88 finished with value: 0.46409504774443394 and parameters: {'max_depth': 4, 'learning_rate': 0.06078784072386191, 'min_samples_split': 5, 'n_estimators': 72}. Best is trial 32 with value: 0.47053043010053486.\n",
      "[I 2024-04-02 23:00:38,603] Trial 89 finished with value: 0.3965414825535386 and parameters: {'max_depth': 4, 'learning_rate': 0.38259403441601014, 'min_samples_split': 5, 'n_estimators': 77}. Best is trial 32 with value: 0.47053043010053486.\n",
      "[I 2024-04-02 23:00:39,601] Trial 90 finished with value: 0.44412646908007913 and parameters: {'max_depth': 4, 'learning_rate': 0.16966343488413235, 'min_samples_split': 5, 'n_estimators': 145}. Best is trial 32 with value: 0.47053043010053486.\n",
      "[I 2024-04-02 23:00:40,661] Trial 91 finished with value: 0.44627827298623723 and parameters: {'max_depth': 5, 'learning_rate': 0.11454685648697846, 'min_samples_split': 5, 'n_estimators': 125}. Best is trial 32 with value: 0.47053043010053486.\n",
      "[I 2024-04-02 23:00:41,619] Trial 92 finished with value: 0.4406710758879878 and parameters: {'max_depth': 6, 'learning_rate': 0.099170797407744, 'min_samples_split': 5, 'n_estimators': 97}. Best is trial 32 with value: 0.47053043010053486.\n",
      "[I 2024-04-02 23:00:42,026] Trial 93 finished with value: 0.4675103651205886 and parameters: {'max_depth': 5, 'learning_rate': 0.07451824904221074, 'min_samples_split': 5, 'n_estimators': 46}. Best is trial 32 with value: 0.47053043010053486.\n",
      "[I 2024-04-02 23:00:42,673] Trial 94 finished with value: 0.42880822300039234 and parameters: {'max_depth': 7, 'learning_rate': 0.031718426063844736, 'min_samples_split': 5, 'n_estimators': 56}. Best is trial 32 with value: 0.47053043010053486.\n",
      "[I 2024-04-02 23:00:43,637] Trial 95 finished with value: 0.2930673821927459 and parameters: {'max_depth': 13, 'learning_rate': 0.07500427906888603, 'min_samples_split': 5, 'n_estimators': 49}. Best is trial 32 with value: 0.47053043010053486.\n",
      "[I 2024-04-02 23:00:44,096] Trial 96 finished with value: 0.46620636707986424 and parameters: {'max_depth': 4, 'learning_rate': 0.14485529048763401, 'min_samples_split': 5, 'n_estimators': 66}. Best is trial 32 with value: 0.47053043010053486.\n",
      "[I 2024-04-02 23:00:44,448] Trial 97 finished with value: 0.4446788399548848 and parameters: {'max_depth': 6, 'learning_rate': 0.0626819927136507, 'min_samples_split': 5, 'n_estimators': 34}. Best is trial 32 with value: 0.47053043010053486.\n",
      "[I 2024-04-02 23:00:47,103] Trial 98 finished with value: 0.352452591089345 and parameters: {'max_depth': 9, 'learning_rate': 0.08889622247066825, 'min_samples_split': 5, 'n_estimators': 186}. Best is trial 32 with value: 0.47053043010053486.\n",
      "[I 2024-04-02 23:00:48,246] Trial 99 finished with value: 0.2524799619587367 and parameters: {'max_depth': 23, 'learning_rate': 0.02219893878852113, 'min_samples_split': 4, 'n_estimators': 46}. Best is trial 32 with value: 0.47053043010053486.\n",
      "[I 2024-04-02 23:00:48,247] A new study created in memory with name: knn\n",
      "[I 2024-04-02 23:00:48,274] Trial 0 finished with value: 0.44270448605474916 and parameters: {'n_neighbors': 14, 'metric': 'euclidean'}. Best is trial 0 with value: 0.44270448605474916.\n",
      "[I 2024-04-02 23:00:48,302] Trial 1 finished with value: 0.4375510440222925 and parameters: {'n_neighbors': 10, 'metric': 'minkowski'}. Best is trial 0 with value: 0.44270448605474916.\n",
      "[I 2024-04-02 23:00:48,329] Trial 2 finished with value: 0.433977091267419 and parameters: {'n_neighbors': 9, 'metric': 'minkowski'}. Best is trial 0 with value: 0.44270448605474916.\n",
      "[I 2024-04-02 23:00:48,356] Trial 3 finished with value: 0.44063146962741406 and parameters: {'n_neighbors': 14, 'metric': 'manhattan'}. Best is trial 0 with value: 0.44270448605474916.\n",
      "[I 2024-04-02 23:00:48,384] Trial 4 finished with value: 0.38089793347539647 and parameters: {'n_neighbors': 4, 'metric': 'minkowski'}. Best is trial 0 with value: 0.44270448605474916.\n",
      "[I 2024-04-02 23:00:48,430] Trial 5 finished with value: 0.25090409736565156 and parameters: {'n_neighbors': 2, 'metric': 'euclidean'}. Best is trial 0 with value: 0.44270448605474916.\n",
      "[I 2024-04-02 23:00:48,458] Trial 6 finished with value: 0.4421883409238096 and parameters: {'n_neighbors': 11, 'metric': 'euclidean'}. Best is trial 0 with value: 0.44270448605474916.\n",
      "[I 2024-04-02 23:00:48,499] Trial 7 finished with value: 0.44399990043694376 and parameters: {'n_neighbors': 15, 'metric': 'minkowski'}. Best is trial 7 with value: 0.44399990043694376.\n",
      "[I 2024-04-02 23:00:48,526] Trial 8 finished with value: 0.44404316507076286 and parameters: {'n_neighbors': 13, 'metric': 'euclidean'}. Best is trial 8 with value: 0.44404316507076286.\n",
      "[I 2024-04-02 23:00:48,552] Trial 9 finished with value: 0.44338240938040485 and parameters: {'n_neighbors': 19, 'metric': 'euclidean'}. Best is trial 8 with value: 0.44404316507076286.\n",
      "[I 2024-04-02 23:00:48,581] Trial 10 finished with value: 0.41228169281413407 and parameters: {'n_neighbors': 6, 'metric': 'manhattan'}. Best is trial 8 with value: 0.44404316507076286.\n",
      "[I 2024-04-02 23:00:48,610] Trial 11 finished with value: 0.4418851805898904 and parameters: {'n_neighbors': 20, 'metric': 'minkowski'}. Best is trial 8 with value: 0.44404316507076286.\n",
      "[I 2024-04-02 23:00:48,639] Trial 12 finished with value: 0.412069672488093 and parameters: {'n_neighbors': 6, 'metric': 'minkowski'}. Best is trial 8 with value: 0.44404316507076286.\n",
      "[I 2024-04-02 23:00:48,665] Trial 13 finished with value: 0.38089793347539647 and parameters: {'n_neighbors': 4, 'metric': 'euclidean'}. Best is trial 8 with value: 0.44404316507076286.\n",
      "[I 2024-04-02 23:00:48,692] Trial 14 finished with value: 0.4279917689959822 and parameters: {'n_neighbors': 8, 'metric': 'manhattan'}. Best is trial 8 with value: 0.44404316507076286.\n",
      "[I 2024-04-02 23:00:48,721] Trial 15 finished with value: 0.44399990043694376 and parameters: {'n_neighbors': 15, 'metric': 'euclidean'}. Best is trial 8 with value: 0.44404316507076286.\n",
      "[I 2024-04-02 23:00:48,750] Trial 16 finished with value: 0.25090409736565156 and parameters: {'n_neighbors': 2, 'metric': 'minkowski'}. Best is trial 8 with value: 0.44404316507076286.\n",
      "[I 2024-04-02 23:00:48,778] Trial 17 finished with value: 0.44076827835770366 and parameters: {'n_neighbors': 21, 'metric': 'minkowski'}. Best is trial 8 with value: 0.44404316507076286.\n",
      "[I 2024-04-02 23:00:48,806] Trial 18 finished with value: 0.38089793347539647 and parameters: {'n_neighbors': 4, 'metric': 'euclidean'}. Best is trial 8 with value: 0.44404316507076286.\n",
      "[I 2024-04-02 23:00:48,833] Trial 19 finished with value: 0.4177986599424049 and parameters: {'n_neighbors': 7, 'metric': 'manhattan'}. Best is trial 8 with value: 0.44404316507076286.\n",
      "[I 2024-04-02 23:00:48,861] Trial 20 finished with value: 0.44271369265481636 and parameters: {'n_neighbors': 12, 'metric': 'minkowski'}. Best is trial 8 with value: 0.44404316507076286.\n",
      "[I 2024-04-02 23:00:48,888] Trial 21 finished with value: 0.4447059668291887 and parameters: {'n_neighbors': 16, 'metric': 'euclidean'}. Best is trial 21 with value: 0.4447059668291887.\n",
      "[I 2024-04-02 23:00:48,914] Trial 22 finished with value: 0.4447059668291887 and parameters: {'n_neighbors': 16, 'metric': 'euclidean'}. Best is trial 21 with value: 0.4447059668291887.\n",
      "[I 2024-04-02 23:00:48,942] Trial 23 finished with value: 0.4447059668291887 and parameters: {'n_neighbors': 16, 'metric': 'euclidean'}. Best is trial 21 with value: 0.4447059668291887.\n",
      "[I 2024-04-02 23:00:48,970] Trial 24 finished with value: 0.44476722103723587 and parameters: {'n_neighbors': 17, 'metric': 'euclidean'}. Best is trial 24 with value: 0.44476722103723587.\n",
      "[I 2024-04-02 23:00:48,997] Trial 25 finished with value: 0.4436589136517147 and parameters: {'n_neighbors': 18, 'metric': 'euclidean'}. Best is trial 24 with value: 0.44476722103723587.\n",
      "[I 2024-04-02 23:00:49,023] Trial 26 finished with value: 0.4421883409238096 and parameters: {'n_neighbors': 11, 'metric': 'euclidean'}. Best is trial 24 with value: 0.44476722103723587.\n",
      "[I 2024-04-02 23:00:49,050] Trial 27 finished with value: 0.3283594169543497 and parameters: {'n_neighbors': 3, 'metric': 'euclidean'}. Best is trial 24 with value: 0.44476722103723587.\n",
      "[I 2024-04-02 23:00:49,077] Trial 28 finished with value: 0.4296203606401242 and parameters: {'n_neighbors': 8, 'metric': 'euclidean'}. Best is trial 24 with value: 0.44476722103723587.\n",
      "[I 2024-04-02 23:00:49,105] Trial 29 finished with value: 0.44476722103723587 and parameters: {'n_neighbors': 17, 'metric': 'euclidean'}. Best is trial 24 with value: 0.44476722103723587.\n",
      "[I 2024-04-02 23:00:49,134] Trial 30 finished with value: 0.4436589136517147 and parameters: {'n_neighbors': 18, 'metric': 'euclidean'}. Best is trial 24 with value: 0.44476722103723587.\n",
      "[I 2024-04-02 23:00:49,162] Trial 31 finished with value: 0.4447059668291887 and parameters: {'n_neighbors': 16, 'metric': 'euclidean'}. Best is trial 24 with value: 0.44476722103723587.\n",
      "[I 2024-04-02 23:00:49,190] Trial 32 finished with value: 0.44404316507076286 and parameters: {'n_neighbors': 13, 'metric': 'euclidean'}. Best is trial 24 with value: 0.44476722103723587.\n",
      "[I 2024-04-02 23:00:49,218] Trial 33 finished with value: 0.4375510440222925 and parameters: {'n_neighbors': 10, 'metric': 'euclidean'}. Best is trial 24 with value: 0.44476722103723587.\n",
      "[I 2024-04-02 23:00:49,246] Trial 34 finished with value: 0.44476722103723587 and parameters: {'n_neighbors': 17, 'metric': 'euclidean'}. Best is trial 24 with value: 0.44476722103723587.\n",
      "[I 2024-04-02 23:00:49,272] Trial 35 finished with value: 0.44076827835770366 and parameters: {'n_neighbors': 21, 'metric': 'euclidean'}. Best is trial 24 with value: 0.44476722103723587.\n",
      "[I 2024-04-02 23:00:49,309] Trial 36 finished with value: 0.4293153673021874 and parameters: {'n_neighbors': 9, 'metric': 'manhattan'}. Best is trial 24 with value: 0.44476722103723587.\n",
      "[I 2024-04-02 23:00:49,337] Trial 37 finished with value: 0.44404316507076286 and parameters: {'n_neighbors': 13, 'metric': 'euclidean'}. Best is trial 24 with value: 0.44476722103723587.\n",
      "[I 2024-04-02 23:00:49,366] Trial 38 finished with value: 0.44476722103723587 and parameters: {'n_neighbors': 17, 'metric': 'euclidean'}. Best is trial 24 with value: 0.44476722103723587.\n",
      "[I 2024-04-02 23:00:49,395] Trial 39 finished with value: 0.4421883409238096 and parameters: {'n_neighbors': 11, 'metric': 'euclidean'}. Best is trial 24 with value: 0.44476722103723587.\n",
      "[I 2024-04-02 23:00:49,423] Trial 40 finished with value: 0.4436589136517147 and parameters: {'n_neighbors': 18, 'metric': 'euclidean'}. Best is trial 24 with value: 0.44476722103723587.\n",
      "[I 2024-04-02 23:00:49,450] Trial 41 finished with value: 0.44270448605474916 and parameters: {'n_neighbors': 14, 'metric': 'euclidean'}. Best is trial 24 with value: 0.44476722103723587.\n",
      "[I 2024-04-02 23:00:49,478] Trial 42 finished with value: 0.44476722103723587 and parameters: {'n_neighbors': 17, 'metric': 'euclidean'}. Best is trial 24 with value: 0.44476722103723587.\n",
      "[I 2024-04-02 23:00:49,505] Trial 43 finished with value: 0.4436589136517147 and parameters: {'n_neighbors': 18, 'metric': 'euclidean'}. Best is trial 24 with value: 0.44476722103723587.\n",
      "[I 2024-04-02 23:00:49,534] Trial 44 finished with value: 0.44270448605474916 and parameters: {'n_neighbors': 14, 'metric': 'euclidean'}. Best is trial 24 with value: 0.44476722103723587.\n",
      "[I 2024-04-02 23:00:49,562] Trial 45 finished with value: 0.4023810671413547 and parameters: {'n_neighbors': 5, 'metric': 'euclidean'}. Best is trial 24 with value: 0.44476722103723587.\n",
      "[I 2024-04-02 23:00:49,589] Trial 46 finished with value: 0.439257837233901 and parameters: {'n_neighbors': 12, 'metric': 'manhattan'}. Best is trial 24 with value: 0.44476722103723587.\n",
      "[I 2024-04-02 23:00:49,616] Trial 47 finished with value: 0.44076827835770366 and parameters: {'n_neighbors': 21, 'metric': 'euclidean'}. Best is trial 24 with value: 0.44476722103723587.\n",
      "[I 2024-04-02 23:00:49,646] Trial 48 finished with value: 0.4375510440222925 and parameters: {'n_neighbors': 10, 'metric': 'euclidean'}. Best is trial 24 with value: 0.44476722103723587.\n",
      "[I 2024-04-02 23:00:49,671] Trial 49 finished with value: 0.3283594169543497 and parameters: {'n_neighbors': 3, 'metric': 'euclidean'}. Best is trial 24 with value: 0.44476722103723587.\n",
      "[I 2024-04-02 23:00:49,700] Trial 50 finished with value: 0.4435790846575687 and parameters: {'n_neighbors': 19, 'metric': 'manhattan'}. Best is trial 24 with value: 0.44476722103723587.\n",
      "[I 2024-04-02 23:00:49,726] Trial 51 finished with value: 0.4447059668291887 and parameters: {'n_neighbors': 16, 'metric': 'euclidean'}. Best is trial 24 with value: 0.44476722103723587.\n",
      "[I 2024-04-02 23:00:49,753] Trial 52 finished with value: 0.44399990043694376 and parameters: {'n_neighbors': 15, 'metric': 'euclidean'}. Best is trial 24 with value: 0.44476722103723587.\n",
      "[I 2024-04-02 23:00:49,780] Trial 53 finished with value: 0.44476722103723587 and parameters: {'n_neighbors': 17, 'metric': 'euclidean'}. Best is trial 24 with value: 0.44476722103723587.\n",
      "[I 2024-04-02 23:00:49,809] Trial 54 finished with value: 0.44476722103723587 and parameters: {'n_neighbors': 17, 'metric': 'euclidean'}. Best is trial 24 with value: 0.44476722103723587.\n",
      "[I 2024-04-02 23:00:49,834] Trial 55 finished with value: 0.44271369265481636 and parameters: {'n_neighbors': 12, 'metric': 'minkowski'}. Best is trial 24 with value: 0.44476722103723587.\n",
      "[I 2024-04-02 23:00:49,862] Trial 56 finished with value: 0.4418851805898904 and parameters: {'n_neighbors': 20, 'metric': 'euclidean'}. Best is trial 24 with value: 0.44476722103723587.\n",
      "[I 2024-04-02 23:00:49,890] Trial 57 finished with value: 0.44399990043694376 and parameters: {'n_neighbors': 15, 'metric': 'euclidean'}. Best is trial 24 with value: 0.44476722103723587.\n",
      "[I 2024-04-02 23:00:49,919] Trial 58 finished with value: 0.44270448605474916 and parameters: {'n_neighbors': 14, 'metric': 'euclidean'}. Best is trial 24 with value: 0.44476722103723587.\n",
      "[I 2024-04-02 23:00:49,945] Trial 59 finished with value: 0.44338240938040485 and parameters: {'n_neighbors': 19, 'metric': 'minkowski'}. Best is trial 24 with value: 0.44476722103723587.\n",
      "[I 2024-04-02 23:00:49,973] Trial 60 finished with value: 0.44404316507076286 and parameters: {'n_neighbors': 13, 'metric': 'euclidean'}. Best is trial 24 with value: 0.44476722103723587.\n",
      "[I 2024-04-02 23:00:50,002] Trial 61 finished with value: 0.44476722103723587 and parameters: {'n_neighbors': 17, 'metric': 'euclidean'}. Best is trial 24 with value: 0.44476722103723587.\n",
      "[I 2024-04-02 23:00:50,029] Trial 62 finished with value: 0.44476722103723587 and parameters: {'n_neighbors': 17, 'metric': 'euclidean'}. Best is trial 24 with value: 0.44476722103723587.\n",
      "[I 2024-04-02 23:00:50,056] Trial 63 finished with value: 0.4418851805898904 and parameters: {'n_neighbors': 20, 'metric': 'euclidean'}. Best is trial 24 with value: 0.44476722103723587.\n",
      "[I 2024-04-02 23:00:50,083] Trial 64 finished with value: 0.44476722103723587 and parameters: {'n_neighbors': 17, 'metric': 'euclidean'}. Best is trial 24 with value: 0.44476722103723587.\n",
      "[I 2024-04-02 23:00:50,111] Trial 65 finished with value: 0.44399990043694376 and parameters: {'n_neighbors': 15, 'metric': 'euclidean'}. Best is trial 24 with value: 0.44476722103723587.\n",
      "[I 2024-04-02 23:00:50,139] Trial 66 finished with value: 0.44476722103723587 and parameters: {'n_neighbors': 17, 'metric': 'euclidean'}. Best is trial 24 with value: 0.44476722103723587.\n",
      "[I 2024-04-02 23:00:50,168] Trial 67 finished with value: 0.439257837233901 and parameters: {'n_neighbors': 12, 'metric': 'manhattan'}. Best is trial 24 with value: 0.44476722103723587.\n",
      "[I 2024-04-02 23:00:50,197] Trial 68 finished with value: 0.44338240938040485 and parameters: {'n_neighbors': 19, 'metric': 'euclidean'}. Best is trial 24 with value: 0.44476722103723587.\n",
      "[I 2024-04-02 23:00:50,226] Trial 69 finished with value: 0.44404316507076286 and parameters: {'n_neighbors': 13, 'metric': 'euclidean'}. Best is trial 24 with value: 0.44476722103723587.\n",
      "[I 2024-04-02 23:00:50,253] Trial 70 finished with value: 0.44270448605474916 and parameters: {'n_neighbors': 14, 'metric': 'minkowski'}. Best is trial 24 with value: 0.44476722103723587.\n",
      "[I 2024-04-02 23:00:50,280] Trial 71 finished with value: 0.44476722103723587 and parameters: {'n_neighbors': 17, 'metric': 'euclidean'}. Best is trial 24 with value: 0.44476722103723587.\n",
      "[I 2024-04-02 23:00:50,307] Trial 72 finished with value: 0.4447059668291887 and parameters: {'n_neighbors': 16, 'metric': 'euclidean'}. Best is trial 24 with value: 0.44476722103723587.\n",
      "[I 2024-04-02 23:00:50,335] Trial 73 finished with value: 0.4436589136517147 and parameters: {'n_neighbors': 18, 'metric': 'euclidean'}. Best is trial 24 with value: 0.44476722103723587.\n",
      "[I 2024-04-02 23:00:50,363] Trial 74 finished with value: 0.44399990043694376 and parameters: {'n_neighbors': 15, 'metric': 'euclidean'}. Best is trial 24 with value: 0.44476722103723587.\n",
      "[I 2024-04-02 23:00:50,392] Trial 75 finished with value: 0.44076827835770366 and parameters: {'n_neighbors': 21, 'metric': 'euclidean'}. Best is trial 24 with value: 0.44476722103723587.\n",
      "[I 2024-04-02 23:00:50,420] Trial 76 finished with value: 0.44476722103723587 and parameters: {'n_neighbors': 17, 'metric': 'euclidean'}. Best is trial 24 with value: 0.44476722103723587.\n",
      "[I 2024-04-02 23:00:50,449] Trial 77 finished with value: 0.44338240938040485 and parameters: {'n_neighbors': 19, 'metric': 'euclidean'}. Best is trial 24 with value: 0.44476722103723587.\n",
      "[I 2024-04-02 23:00:50,478] Trial 78 finished with value: 0.4375510440222925 and parameters: {'n_neighbors': 10, 'metric': 'euclidean'}. Best is trial 24 with value: 0.44476722103723587.\n",
      "[I 2024-04-02 23:00:50,507] Trial 79 finished with value: 0.433977091267419 and parameters: {'n_neighbors': 9, 'metric': 'euclidean'}. Best is trial 24 with value: 0.44476722103723587.\n",
      "[I 2024-04-02 23:00:50,534] Trial 80 finished with value: 0.44254835936647935 and parameters: {'n_neighbors': 15, 'metric': 'manhattan'}. Best is trial 24 with value: 0.44476722103723587.\n",
      "[I 2024-04-02 23:00:50,563] Trial 81 finished with value: 0.44476722103723587 and parameters: {'n_neighbors': 17, 'metric': 'euclidean'}. Best is trial 24 with value: 0.44476722103723587.\n",
      "[I 2024-04-02 23:00:50,589] Trial 82 finished with value: 0.4447059668291887 and parameters: {'n_neighbors': 16, 'metric': 'euclidean'}. Best is trial 24 with value: 0.44476722103723587.\n",
      "[I 2024-04-02 23:00:50,615] Trial 83 finished with value: 0.4436589136517147 and parameters: {'n_neighbors': 18, 'metric': 'euclidean'}. Best is trial 24 with value: 0.44476722103723587.\n",
      "[I 2024-04-02 23:00:50,644] Trial 84 finished with value: 0.44404316507076286 and parameters: {'n_neighbors': 13, 'metric': 'euclidean'}. Best is trial 24 with value: 0.44476722103723587.\n",
      "[I 2024-04-02 23:00:50,673] Trial 85 finished with value: 0.4418851805898904 and parameters: {'n_neighbors': 20, 'metric': 'euclidean'}. Best is trial 24 with value: 0.44476722103723587.\n",
      "[I 2024-04-02 23:00:50,700] Trial 86 finished with value: 0.44270448605474916 and parameters: {'n_neighbors': 14, 'metric': 'euclidean'}. Best is trial 24 with value: 0.44476722103723587.\n",
      "[I 2024-04-02 23:00:50,727] Trial 87 finished with value: 0.4240965029830857 and parameters: {'n_neighbors': 7, 'metric': 'euclidean'}. Best is trial 24 with value: 0.44476722103723587.\n",
      "[I 2024-04-02 23:00:50,754] Trial 88 finished with value: 0.4421883409238096 and parameters: {'n_neighbors': 11, 'metric': 'euclidean'}. Best is trial 24 with value: 0.44476722103723587.\n",
      "[I 2024-04-02 23:00:50,782] Trial 89 finished with value: 0.4436589136517147 and parameters: {'n_neighbors': 18, 'metric': 'minkowski'}. Best is trial 24 with value: 0.44476722103723587.\n",
      "[I 2024-04-02 23:00:50,811] Trial 90 finished with value: 0.44076827835770366 and parameters: {'n_neighbors': 21, 'metric': 'euclidean'}. Best is trial 24 with value: 0.44476722103723587.\n",
      "[I 2024-04-02 23:00:50,839] Trial 91 finished with value: 0.44476722103723587 and parameters: {'n_neighbors': 17, 'metric': 'euclidean'}. Best is trial 24 with value: 0.44476722103723587.\n",
      "[I 2024-04-02 23:00:50,867] Trial 92 finished with value: 0.4447059668291887 and parameters: {'n_neighbors': 16, 'metric': 'euclidean'}. Best is trial 24 with value: 0.44476722103723587.\n",
      "[I 2024-04-02 23:00:50,893] Trial 93 finished with value: 0.44476722103723587 and parameters: {'n_neighbors': 17, 'metric': 'euclidean'}. Best is trial 24 with value: 0.44476722103723587.\n",
      "[I 2024-04-02 23:00:50,922] Trial 94 finished with value: 0.4418851805898904 and parameters: {'n_neighbors': 20, 'metric': 'euclidean'}. Best is trial 24 with value: 0.44476722103723587.\n",
      "[I 2024-04-02 23:00:50,950] Trial 95 finished with value: 0.44338240938040485 and parameters: {'n_neighbors': 19, 'metric': 'euclidean'}. Best is trial 24 with value: 0.44476722103723587.\n",
      "[I 2024-04-02 23:00:50,980] Trial 96 finished with value: 0.44399990043694376 and parameters: {'n_neighbors': 15, 'metric': 'euclidean'}. Best is trial 24 with value: 0.44476722103723587.\n",
      "[I 2024-04-02 23:00:50,996] Trial 97 finished with value: 0.3283594169543497 and parameters: {'n_neighbors': 3, 'metric': 'euclidean'}. Best is trial 24 with value: 0.44476722103723587.\n",
      "[I 2024-04-02 23:00:51,024] Trial 98 finished with value: 0.44063146962741406 and parameters: {'n_neighbors': 14, 'metric': 'manhattan'}. Best is trial 24 with value: 0.44476722103723587.\n",
      "[I 2024-04-02 23:00:51,050] Trial 99 finished with value: 0.4447059668291887 and parameters: {'n_neighbors': 16, 'metric': 'euclidean'}. Best is trial 24 with value: 0.44476722103723587.\n"
     ]
    }
   ],
   "source": [
    "from optuna import create_study\n",
    "\n",
    "\n",
    "studies = [None] * len(objectives)\n",
    "for i, (name, objective) in enumerate(objectives):\n",
    "    studies[i] = create_study(study_name=name, direction='maximize')\n",
    "    studies[i].optimize(objective, n_trials=100)"
   ]
  },
  {
   "cell_type": "markdown",
   "metadata": {},
   "source": [
    "## Извлекаем лучшие параметры"
   ]
  },
  {
   "cell_type": "code",
   "execution_count": 117,
   "metadata": {},
   "outputs": [],
   "source": [
    "params = {objectives[i][0]: study.best_params for i, study in enumerate(studies)}"
   ]
  },
  {
   "cell_type": "markdown",
   "metadata": {},
   "source": [
    "# Создание ансамбля"
   ]
  },
  {
   "cell_type": "markdown",
   "metadata": {},
   "source": [
    "В качестве ансамбля был выбран Stacking, на первом уровне наши оптимизированные алгоритмы, в качестве мета-алгоритма выбрана линейная регрессия с L2 регуляризацией с встроенной кросс-валидацией (_RidgeCV_)"
   ]
  },
  {
   "cell_type": "code",
   "execution_count": 118,
   "metadata": {},
   "outputs": [],
   "source": [
    "from sklearn.ensemble import StackingRegressor\n",
    "from sklearn.linear_model import RidgeCV\n",
    "from sklearn.model_selection import KFold\n",
    "\n",
    "\n",
    "regressor_ensemble = StackingRegressor(estimators=[\n",
    "    ('rf', RandomForestRegressor(**params['rf'])),\n",
    "    ('boosting', GradientBoostingRegressor(**params['boosting'])),\n",
    "    ('knn', KNeighborsRegressor(**params['knn'])),\n",
    "    ('xgb', XGBRegressor(**params['xgb']))\n",
    "],\n",
    "                                       final_estimator=RidgeCV(),\n",
    "                                       cv=KFold(n_splits=5),\n",
    "                                       n_jobs=-1)"
   ]
  },
  {
   "cell_type": "markdown",
   "metadata": {},
   "source": [
    "## Обучение ансамбля\n",
    "При инициализации ансамбля была выбрана KFold кросс валидация с 5 сплитами для обучена мета-алгоритма \\\n",
    "Выберем ту же самую кросс валидацию для обучения всего ансамбля"
   ]
  },
  {
   "cell_type": "code",
   "execution_count": 119,
   "metadata": {},
   "outputs": [
    {
     "name": "stdout",
     "output_type": "stream",
     "text": [
      "1 split finished\n",
      "2 split finished\n",
      "3 split finished\n",
      "4 split finished\n",
      "5 split finished\n"
     ]
    },
    {
     "data": {
      "text/plain": [
       "0.47584157981407926"
      ]
     },
     "execution_count": 119,
     "metadata": {},
     "output_type": "execute_result"
    },
    {
     "data": {
      "image/png": "[encoded data removed]",
      "text/plain": [
       "<Figure size 640x480 with 1 Axes>"
      ]
     },
     "metadata": {},
     "output_type": "display_data"
    }
   ],
   "source": [
    "import numpy as np\n",
    "\n",
    "\n",
    "splitter = KFold(n_splits=5)\n",
    "scores = np.empty(0)\n",
    "for i, (train_index, test_index) in enumerate(splitter.split(X, y)):\n",
    "    X_train, y_train = X[train_index], y[train_index]\n",
    "    X_test, y_test = X[test_index], y[test_index]\n",
    "    \n",
    "    regressor_ensemble.fit(X_train, y_train)\n",
    "    \n",
    "    logits = regressor_ensemble.predict(X_test)\n",
    "    scores = np.hstack([scores, r2_score(y_test, logits)])\n",
    "    \n",
    "    print(f'{i + 1} split finished')\n",
    "\n",
    "plt.plot(np.arange(1, scores.size + 1), scores)\n",
    "scores.mean()"
   ]
  },
  {
   "cell_type": "markdown",
   "metadata": {},
   "source": [
    "Отличный результат у ансамбля, среднее значение метрики увеличилось и равно - 0.4759!"
   ]
  },
  {
   "cell_type": "markdown",
   "metadata": {},
   "source": [
    "# Интерпретация результатов\n",
    "У класса _StandartScaler_ есть атрибуты mean_ (среднее) и scale_ (стандартное отклонение), подставих их в формулу, можно получить обратно не масштабированные значения: \\\n",
    "$x = x_{norm}scale\\_+mean\\_$"
   ]
  },
  {
   "cell_type": "code",
   "execution_count": 120,
   "metadata": {},
   "outputs": [
    {
     "name": "stdout",
     "output_type": "stream",
     "text": [
      "[10.53489155]\n"
     ]
    }
   ],
   "source": [
    "input_ = X[0].reshape(1, -1)\n",
    "logit = regressor_ensemble.predict(input_)\n",
    "\n",
    "print(logit * scaler.scale_[-1] + scaler.mean_[-1])"
   ]
  },
  {
   "cell_type": "markdown",
   "metadata": {},
   "source": [
    "# Возможные улучшения\n",
    "- Разобраться с выбросами\n",
    "- Поэкспериментировать с мета-алгоритмом ансамбля"
   ]
  }
 ],
 "metadata": {
  "kernelspec": {
   "display_name": ".venv",
   "language": "python",
   "name": "python3"
  },
  "language_info": {
   "codemirror_mode": {
    "name": "ipython",
    "version": 3
   },
   "file_extension": ".py",
   "mimetype": "text/x-python",
   "name": "python",
   "nbconvert_exporter": "python",
   "pygments_lexer": "ipython3",
   "version": "3.11.5"
  }
 },
 "nbformat": 4,
 "nbformat_minor": 2
}
